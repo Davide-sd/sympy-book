{
 "cells": [
  {
   "cell_type": "markdown",
   "id": "2f225ffb-f8cf-4221-95a6-64375d9fcc36",
   "metadata": {},
   "source": [
    "## Coordinates"
   ]
  },
  {
   "cell_type": "code",
   "execution_count": null,
   "id": "7481340f-89aa-41f1-930b-956009f07b4a",
   "metadata": {},
   "outputs": [],
   "source": [
    "from sympy import *\n",
    "import sympy.physics.mechanics as me\n",
    "me.init_vprinting()"
   ]
  },
  {
   "cell_type": "code",
   "execution_count": null,
   "id": "fa021578-3522-4196-a2b0-6aa4f396e851",
   "metadata": {},
   "outputs": [],
   "source": [
    "q1, q2, q3 = me.dynamicsymbols(\"q1, q2, q3\")\n",
    "N, A, B = symbols(\"N, A, B\", cls=me.ReferenceFrame)\n",
    "A.orient_axis(N, N.z, q1)\n",
    "# B.orient_axis(A, A.z, q2 - q1)\n",
    "B.orient_axis(N, N.z, q2)"
   ]
  },
  {
   "cell_type": "code",
   "execution_count": null,
   "id": "45ac01e8-2bd8-4d90-aa5d-baf5ae169936",
   "metadata": {},
   "outputs": [],
   "source": [
    "O, P, Q, R = symbols(\"O, P, Q, R\", cls=me.Point)"
   ]
  },
  {
   "cell_type": "code",
   "execution_count": null,
   "id": "01602e4d-03d0-4220-b65d-9568f3bd208c",
   "metadata": {},
   "outputs": [],
   "source": [
    "L1, L2 = symbols(\"L1, L2\")\n",
    "P.set_pos(O, L1 * A.x)\n",
    "Q.set_pos(P, L2 * B.x)\n",
    "R.set_pos(O, q3 * N.x)"
   ]
  },
  {
   "cell_type": "code",
   "execution_count": null,
   "id": "84c12de2-59f4-473d-ad8c-7a53dfc65b50",
   "metadata": {},
   "outputs": [],
   "source": [
    "OP1 = P.pos_from(O)\n",
    "OP2 = P.pos_from(O).express(N)\n",
    "display(OP1, OP2)"
   ]
  },
  {
   "cell_type": "code",
   "execution_count": null,
   "id": "e228702d-cde6-4875-a8f3-746756015a9f",
   "metadata": {},
   "outputs": [],
   "source": [
    "OQ1 = Q.pos_from(O)\n",
    "OQ2 = Q.pos_from(O).express(N)\n",
    "display(OQ1, OQ2)"
   ]
  },
  {
   "cell_type": "code",
   "execution_count": null,
   "id": "0a26b071-425e-4c23-8c9a-8d9c095ae0a1",
   "metadata": {},
   "outputs": [],
   "source": [
    "R.pos_from(O)"
   ]
  },
  {
   "cell_type": "code",
   "execution_count": null,
   "id": "106a3f83-dfda-484f-8096-336848ee449a",
   "metadata": {},
   "outputs": [],
   "source": []
  }
 ],
 "metadata": {
  "kernelspec": {
   "display_name": "Python 3 (ipykernel)",
   "language": "python",
   "name": "python3"
  },
  "language_info": {
   "codemirror_mode": {
    "name": "ipython",
    "version": 3
   },
   "file_extension": ".py",
   "mimetype": "text/x-python",
   "name": "python",
   "nbconvert_exporter": "python",
   "pygments_lexer": "ipython3",
   "version": "3.12.3"
  }
 },
 "nbformat": 4,
 "nbformat_minor": 5
}
