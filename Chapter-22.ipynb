{
 "cells": [
  {
   "cell_type": "code",
   "execution_count": null,
   "metadata": {},
   "outputs": [],
   "source": [
    "%matplotlib widget\n",
    "from sympy import *\n",
    "init_printing(use_latex=True)"
   ]
  },
  {
   "cell_type": "markdown",
   "metadata": {},
   "source": [
    "# 22 - Plotting Module"
   ]
  },
  {
   "cell_type": "markdown",
   "metadata": {},
   "source": [
    "## 22.3 - Examples"
   ]
  },
  {
   "cell_type": "code",
   "execution_count": null,
   "metadata": {},
   "outputs": [],
   "source": [
    "from spb import *\n",
    "var(\"x, y, z\")"
   ]
  },
  {
   "cell_type": "code",
   "execution_count": null,
   "metadata": {},
   "outputs": [],
   "source": [
    "plot(sin(x / (cos(10 * x) + 2)), (x, -4, 4))"
   ]
  },
  {
   "cell_type": "code",
   "execution_count": null,
   "metadata": {},
   "outputs": [],
   "source": [
    "plot(\n",
    "    (sin(x), (x, -10, 10), \"s\"),\n",
    "    (cos(x), (x, -10, 10), \"c\"),\n",
    "    (log(x), (x, 1e-03, 10), \"l\"),\n",
    "    backend=MB\n",
    ")"
   ]
  },
  {
   "cell_type": "code",
   "execution_count": null,
   "metadata": {},
   "outputs": [],
   "source": [
    "var(\"u, v\")\n",
    "expr = (\n",
    "    cos(v) * (6 - (5/4 + sin(3 * u)) * sin(u - 3 * v)),\n",
    "    (6 - (5/4 + sin(3 * u)) * sin(u - 3 * v)) * sin(v),\n",
    "    -cos(u - 3 * v) * (5/4 + sin(3 * u))\n",
    ")\n",
    "plot3d_parametric_surface(\n",
    "    *expr, (u, 0, 2 * pi), (v, 0, 2 * pi),\n",
    "    n=50, backend=MB, use_cm=True\n",
    ")\n",
    "# NOTE: if using Matplotlib >= 3.6.0, try adding: aspect=\"equal\"\n",
    "# To check the version:\n",
    "# import matplotlib;print(matplotlib.__version__)"
   ]
  },
  {
   "cell_type": "code",
   "execution_count": null,
   "metadata": {},
   "outputs": [],
   "source": [
    "plot3d_parametric_surface(\n",
    "    *expr, (u, 0, 2 * pi), (v, 0, 2 * pi),\n",
    "    n=250, backend=PB, use_cm=False,\n",
    "    wireframe=True, wf_n1=30, wf_n2=30\n",
    ")"
   ]
  },
  {
   "cell_type": "markdown",
   "metadata": {},
   "source": [
    "## 22.4 - Modifying and Saving Plots"
   ]
  },
  {
   "cell_type": "code",
   "execution_count": null,
   "metadata": {},
   "outputs": [],
   "source": [
    "var(\"u, v\")\n",
    "expr = (\n",
    "    cos(v) * (6 - (5/4 + sin(3 * u)) * sin(u - 3 * v)),\n",
    "    (6 - (5/4 + sin(3 * u)) * sin(u - 3 * v)) * sin(v),\n",
    "    -cos(u - 3 * v) * (5/4 + sin(3 * u))\n",
    ")\n",
    "p = plot3d_parametric_surface(\n",
    "    *expr, (u, 0, 2 * pi), (v, 0, 2 * pi),\n",
    "    n=50, use_cm=False, backend=MB, size=(5, 2.5)\n",
    ")"
   ]
  },
  {
   "cell_type": "code",
   "execution_count": null,
   "metadata": {},
   "outputs": [],
   "source": [
    "ax = p.ax\n",
    "ax.collections[0].set_facecolors([0.7] * 3)\n",
    "ax.collections[0].set_linewidth(0.25)\n",
    "ax.collections[0].set_edgecolors(\"k\")"
   ]
  },
  {
   "cell_type": "code",
   "execution_count": null,
   "metadata": {},
   "outputs": [],
   "source": [
    "help(p.save)"
   ]
  },
  {
   "cell_type": "code",
   "execution_count": null,
   "metadata": {},
   "outputs": [],
   "source": [
    "p.save(\"plot3d.pdf\")"
   ]
  },
  {
   "cell_type": "code",
   "execution_count": null,
   "metadata": {},
   "outputs": [],
   "source": [
    "p = plot3d_parametric_surface(\n",
    "    *expr, (u, 0, 2 * pi), (v, 0, 2 * pi),\n",
    "    n=250, backend=KB\n",
    ")\n",
    "p.save(\"k3d.html\", include_js=True)"
   ]
  },
  {
   "cell_type": "markdown",
   "metadata": {},
   "source": [
    "## 22.5 - Parametric-Interactive Plots"
   ]
  },
  {
   "cell_type": "code",
   "execution_count": null,
   "metadata": {},
   "outputs": [],
   "source": [
    "from spb import *\n",
    "import param"
   ]
  },
  {
   "cell_type": "markdown",
   "metadata": {},
   "source": [
    "### 22.5.1 - Example - Fourier Series Aapproximation"
   ]
  },
  {
   "cell_type": "code",
   "execution_count": null,
   "metadata": {},
   "outputs": [],
   "source": [
    "x, T, n, m = symbols(\"x, T, n, m\")\n",
    "sawtooth = frac(x / T)\n",
    "# Fourier Series of a sawtooth wave\n",
    "fs = S(1) / 2 - (1 / pi) * Sum(sin(2 * n * pi * x / T) / n, (n, 1, m))"
   ]
  },
  {
   "cell_type": "code",
   "execution_count": null,
   "metadata": {},
   "outputs": [],
   "source": [
    "# WITH PANEL\n",
    "from bokeh.models.formatters import PrintfTickFormatter\n",
    "formatter = PrintfTickFormatter(format=\"%.3f\")\n",
    "plot(\n",
    "    (sawtooth, (x, 0, 10), \"f\"),\n",
    "    (fs, (x, 0, 10), \"approx\"),\n",
    "    params = {\n",
    "        T: (2, 0, 10, 80, formatter),\n",
    "        m: param.Integer(3, bounds=(1, None), label=\"Sum up to n \")\n",
    "    },\n",
    "    xlabel = \"x\",\n",
    "    ylabel = \"y\",\n",
    "    backend = PB,\n",
    "    imodule = \"panel\",\n",
    "    use_latex = False\n",
    ")"
   ]
  },
  {
   "cell_type": "code",
   "execution_count": null,
   "metadata": {},
   "outputs": [],
   "source": [
    "# WITH IPYWIDGETS\n",
    "import ipywidgets\n",
    "plot(\n",
    "    (sawtooth, (x, 0, 10), \"f\"),\n",
    "    (fs, (x, 0, 10), \"approx\"),\n",
    "    params = {\n",
    "        T: (2, 0, 10, 80),\n",
    "        m: ipywidgets.IntSlider(3, min=1, max=100, description=\"Sum up to n \")\n",
    "    },\n",
    "    xlabel = \"x\",\n",
    "    ylabel = \"y\",\n",
    "    backend = PB,\n",
    ")"
   ]
  },
  {
   "cell_type": "markdown",
   "metadata": {},
   "source": [
    "### 25.5.2 - Example - Temperature Distribution"
   ]
  },
  {
   "cell_type": "code",
   "execution_count": null,
   "metadata": {},
   "outputs": [],
   "source": [
    "r, ro, ri = symbols(\"r, r_o, r_i\")\n",
    "mdot, cp, hc = symbols(r\"\\dot{m}, c_p, h_c\")\n",
    "alpha, k, L, z = symbols(\"alpha, k, L, z\")\n",
    "Tin, Pave = symbols(\"T_{in}, P_{ave}\")\n",
    "# Fuel temperature distribution along the channel\n",
    "# here, the only variable is z, everything else are parameters\n",
    "Tf = (Tin\n",
    "    + (Pave * L * pi * (ro ** 2 - ri ** 2) / (2 * mdot * cp))\n",
    "    * (1 - sin(alpha * (L / 2 - z)) / sin(alpha * L / 2))\n",
    "    + (alpha * Pave * L / 2)\n",
    "    * (cos(alpha * (L / 2 - z)) / sin(alpha * L / 2))\n",
    "    * (\n",
    "    (ro ** 2 - ri ** 2) / (2 * hc * ri)\n",
    "    - (1 / (2 * k)) * ((r ** 2 - ri ** 2) / 2 + ro ** 2 * log(ri / r))))\n",
    "# Fuel temperature distribution at the inner and outer walls\n",
    "Twi = Tf.subs(r, ri)\n",
    "Two = Tf.subs(r, ro)\n",
    "# Cooling fluid temperature\n",
    "Tp = Tin + (Pave * L / 2) * pi * (ro ** 2 - ri ** 2) / (mdot * cp) * (\n",
    "    1 - sin(alpha * (L / 2 - z)) / sin(alpha * L / 2))\n",
    "display(Twi, Two, Tp)"
   ]
  },
  {
   "cell_type": "code",
   "execution_count": null,
   "metadata": {},
   "outputs": [],
   "source": [
    "from bokeh.models.formatters import PrintfTickFormatter\n",
    "f3 = PrintfTickFormatter(format=\"%.3f\")\n",
    "f5 = PrintfTickFormatter(format=\"%.5f\")\n",
    "plot(\n",
    "    (Twi, prange(z, 0, L), \"Twi\"),\n",
    "    (Two, prange(z, 0, L), \"Two\"),\n",
    "    (Tp, prange(z, 0, L), \"Tp\"),\n",
    "    params = {\n",
    "        ri: (0.2, 0.04, 0.5, 100, f3),\n",
    "        ro: (0.4, 0.2, 1.6, 100, f3),\n",
    "        L: (100, 25, 250),\n",
    "        Pave: (1000, 400, 4000),\n",
    "        Tin: (300, 100, 500),\n",
    "        hc: (1, 0.4, 15, 100, f3),\n",
    "        alpha: (0.031, 0.016, 0.031, 100, f5),\n",
    "        mdot: (1, 0.5, 5, 100, f3),\n",
    "        k: (0.2, 0.1, 2, 100, f3),\n",
    "        cp: (15, 5, 25)\n",
    "    },\n",
    "    title = \"Temperature distribution\",\n",
    "    xlabel = \"Position [cm]\",\n",
    "    ylabel = \"T [K]\",\n",
    "    ylim = (0, 3000),\n",
    "    backend = BB,\n",
    "    use_latex = False,\n",
    "    imodule = \"panel\"\n",
    ")"
   ]
  },
  {
   "cell_type": "code",
   "execution_count": null,
   "metadata": {},
   "outputs": [],
   "source": [
    "# serves the interactive application on a new browser window\n",
    "plot(\n",
    "    (Twi, prange(z, 0, L), \"Twi\"),\n",
    "    (Two, prange(z, 0, L), \"Two\"),\n",
    "    (Tp, prange(z, 0, L), \"Tp\"),\n",
    "    params = {\n",
    "        ri: (0.2, 0.04, 0.5, 100, f3),\n",
    "        ro: (0.4, 0.2, 1.6, 100, f3),\n",
    "        L: (100, 25, 250),\n",
    "        Pave: (1000, 400, 4000),\n",
    "        Tin: (300, 100, 500),\n",
    "        hc: (1, 0.4, 15, 100, f3),\n",
    "        alpha: (0.031, 0.016, 0.031, 100, f5),\n",
    "        mdot: (1, 0.5, 5, 100, f3),\n",
    "        k: (0.2, 0.1, 2, 100, f3),\n",
    "        cp: (15, 5, 25)\n",
    "    },\n",
    "    xlabel = \"Position [cm]\",\n",
    "    ylabel = \"T [K]\",\n",
    "    ylim = (0, 4500),\n",
    "    backend = BB,\n",
    "    use_latex = False,\n",
    "    imodule = \"panel\",\n",
    "    servable = True,\n",
    "    layout = \"sbl\", # move the widgets to the left of the window\n",
    "    ncols = 1, # lay widgets in a single column\n",
    "    name = \"Temperature distribution\", # name of the interactive application\n",
    "    size = (1000, 800) # size of the plot (in pixels for BB)\n",
    ")"
   ]
  },
  {
   "cell_type": "code",
   "execution_count": null,
   "metadata": {},
   "outputs": [],
   "source": []
  }
 ],
 "metadata": {
  "kernelspec": {
   "display_name": "Python 3 (ipykernel)",
   "language": "python",
   "name": "python3"
  },
  "language_info": {
   "codemirror_mode": {
    "name": "ipython",
    "version": 3
   },
   "file_extension": ".py",
   "mimetype": "text/x-python",
   "name": "python",
   "nbconvert_exporter": "python",
   "pygments_lexer": "ipython3",
   "version": "3.10.12"
  },
  "toc": {
   "base_numbering": 1,
   "nav_menu": {},
   "number_sections": true,
   "sideBar": true,
   "skip_h1_title": false,
   "title_cell": "Table of Contents",
   "title_sidebar": "Contents",
   "toc_cell": false,
   "toc_position": {},
   "toc_section_display": true,
   "toc_window_display": false
  }
 },
 "nbformat": 4,
 "nbformat_minor": 2
}
