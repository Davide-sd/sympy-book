{
 "cells": [
  {
   "cell_type": "code",
   "execution_count": null,
   "metadata": {},
   "outputs": [],
   "source": [
    "%matplotlib widget\n",
    "from sympy import *\n",
    "init_printing(use_latex=True)"
   ]
  },
  {
   "cell_type": "markdown",
   "metadata": {},
   "source": [
    "# 22 - Plotting Module"
   ]
  },
  {
   "cell_type": "markdown",
   "metadata": {},
   "source": [
    "## 22.1 - Plot’s Adaptive Algorithm"
   ]
  },
  {
   "cell_type": "code",
   "execution_count": null,
   "metadata": {},
   "outputs": [],
   "source": [
    "A, t, wn, xi = symbols(\"A, t, omega_n, xi\")\n",
    "expr = (A * cos(sqrt(1 - xi**2) * wn * A * cos(t)) ) * exp(-xi * wn * t)\n",
    "display(expr)\n",
    "plot(expr.subs({wn: 0.5, xi: 0.55, A: 50}), (t, 0, 5))"
   ]
  },
  {
   "cell_type": "code",
   "execution_count": null,
   "metadata": {},
   "outputs": [],
   "source": [
    "help(plot)"
   ]
  },
  {
   "cell_type": "code",
   "execution_count": null,
   "metadata": {},
   "outputs": [],
   "source": [
    "plot(expr.subs({wn: 0.5, xi: 0.55, A: 50}), (t, 0, 5),\n",
    "     adaptive=False,\n",
    "     nb_of_points=300\n",
    ")"
   ]
  },
  {
   "cell_type": "markdown",
   "metadata": {},
   "source": [
    "## 22.2 - PlotGrid and Plot3d"
   ]
  },
  {
   "cell_type": "code",
   "execution_count": null,
   "metadata": {},
   "outputs": [],
   "source": [
    "from sympy.plotting.plot import plot3d\n",
    "x, y = symbols(\"x, y\")\n",
    "expr = cos(sqrt(x**2 + y**2) / 2) * exp(-sqrt(x**2 + y**2) / 10)\n",
    "display(expr)r = -20\n",
    "p3d = plot3d(expr, (x, -r, r), (y, -r, r),\n",
    "             nb_of_points_x=100, nb_of_points_y=100,\n",
    "             xlabel=\"x\", ylabel=\"y\", zlabel=\"f(x, y)\")"
   ]
  },
  {
   "cell_type": "code",
   "execution_count": null,
   "metadata": {},
   "outputs": [],
   "source": [
    "expr1 = expr.subs(y, 5)\n",
    "p1 = plot(expr1, (x, -r, r), title=\"Plot at y=5\", show=False)\n",
    "expr2 = expr.subs(x, 3)\n",
    "p2 = plot(expr2, (y, -r, r), title=\"Plot at x=3\", show=False)\n",
    "from sympy.plotting import PlotGrid\n",
    "PlotGrid(2, 2, p1, p2, p3d)"
   ]
  },
  {
   "cell_type": "markdown",
   "metadata": {},
   "source": [
    "## 23.4 - The LineOver1DRangeSeries class"
   ]
  },
  {
   "cell_type": "code",
   "execution_count": null,
   "metadata": {},
   "outputs": [],
   "source": [
    "from sympy.plotting.plot import LineOver1DRangeSeries as L"
   ]
  },
  {
   "cell_type": "code",
   "execution_count": null,
   "metadata": {},
   "outputs": [],
   "source": [
    "x = symbols(\"x\")\n",
    "line = L(sin(x), (x, 0, 2 * pi))"
   ]
  },
  {
   "cell_type": "code",
   "execution_count": null,
   "metadata": {},
   "outputs": [],
   "source": [
    "line.get_segments()"
   ]
  },
  {
   "cell_type": "code",
   "execution_count": null,
   "metadata": {},
   "outputs": [],
   "source": [
    "type(line.get_segments()[0][0])"
   ]
  },
  {
   "cell_type": "code",
   "execution_count": null,
   "metadata": {},
   "outputs": [],
   "source": [
    "def get_xy(expr, r=None, **kwargs):\n",
    "    if not r:\n",
    "        s = list(expr.free_symbols)\n",
    "        r = (s[0], -10, 10)\n",
    "    if len(r) != 3:\n",
    "        raise ValueError(\"r must represent a range of the form (symbol, start_value, end_value)\")\n",
    "    n = kwargs.pop(\"n\", 300)\n",
    "    kwargs.update({\"nb_of_points\": n})\n",
    "    from sympy.plotting.plot import LineOver1DRangeSeries\n",
    "    import numpy as np\n",
    "    line = LineOver1DRangeSeries(expr, r, **kwargs)\n",
    "    data = line.get_segments()\n",
    "    x = np.zeros(len(data) + 1)\n",
    "    y = np.zeros(len(data) + 1)\n",
    "    x[0], y[0] = data[0][0]\n",
    "    for i, d in enumerate(data):\n",
    "        x[i + 1], y[i + 1] = d[1]\n",
    "    return x, y"
   ]
  },
  {
   "cell_type": "code",
   "execution_count": null,
   "metadata": {},
   "outputs": [],
   "source": [
    "A, B, t, wn, xi = symbols(\"A, B, t, omega_n, xi\")\n",
    "a = sqrt(1 - xi**2) * wn * t\n",
    "expr1 = exp(-xi * wn * t)\n",
    "expr2 = (A * cos(a) + B * sin(a)) * expr1\n",
    "display(expr1, expr2)"
   ]
  },
  {
   "cell_type": "code",
   "execution_count": null,
   "metadata": {},
   "outputs": [],
   "source": [
    "import matplotlib.pyplot as plt\n",
    "d = { A: 1, B: 1, xi: 0.15, wn: 0.5 }\n",
    "fig = plt.figure()\n",
    "r = (t, 0, 50)\n",
    "plt.plot(*get_xy(expr1.subs(d), r), linestyle=\"dashed\", label=\"expr1\")\n",
    "plt.plot(*get_xy(expr2.subs(d), r), label=\"expr2\")\n",
    "plt.plot(*get_xy(expr2.subs(d), r, adaptive=False, n=30), \".\", label=\"samples\")\n",
    "plt.xlim(r[1], r[2])\n",
    "plt.ylim(-1.5, 1.5)\n",
    "plt.title(\"Test Plot\")\n",
    "plt.xlabel(\"Time [s]\")\n",
    "plt.ylabel(\"Amplitude [m]\")\n",
    "plt.grid()\n",
    "plt.legend()\n",
    "plt.show()"
   ]
  },
  {
   "cell_type": "markdown",
   "metadata": {},
   "source": [
    "## 22.5 - Improving the plot() function"
   ]
  },
  {
   "cell_type": "code",
   "execution_count": null,
   "metadata": {},
   "outputs": [],
   "source": [
    "x = symbols(\"x\")\n",
    "plot((sin(x), (x, -10, 10)), (cos(x), (x, -5, 5)),\n",
    "     legend=True, label=[\"sin\", \"cos\"])"
   ]
  },
  {
   "cell_type": "code",
   "execution_count": null,
   "metadata": {},
   "outputs": [],
   "source": [
    "from sympy_utils import pplot"
   ]
  },
  {
   "cell_type": "code",
   "execution_count": null,
   "metadata": {},
   "outputs": [],
   "source": [
    "pplot((sin(x), (x, -10, 10)), (cos(x), (x, -5, 5)),\n",
    "      legend=True, label=[\"sin\", \"cos\"])"
   ]
  },
  {
   "cell_type": "markdown",
   "metadata": {},
   "source": [
    "## 22.6 - Interactive Plots with ipywidgets"
   ]
  },
  {
   "cell_type": "code",
   "execution_count": null,
   "metadata": {},
   "outputs": [],
   "source": [
    "A, t, wn, xi = symbols(\"A, t, omega_n, xi\")\n",
    "a = sqrt(1 - xi**2) * wn * t\n",
    "expr1 = A * cos(a) * exp(-xi * wn * t)\n",
    "expr1"
   ]
  },
  {
   "cell_type": "code",
   "execution_count": null,
   "metadata": {},
   "outputs": [],
   "source": [
    "from ipywidgets import widgets\n",
    "wn_slider = widgets.FloatSlider(\n",
    "    value=0.5, min=0, max=1, step=0.01,\n",
    "    description=r'$\\omega_{n}$',\n",
    "    continuous_update=False,\n",
    ")\n",
    "xi_slider = widgets.FloatSlider(\n",
    "    value=0.15, min=0, max=1, step=0.01,\n",
    "    description=r'$\\xi$',\n",
    "    continuous_update=False,\n",
    ")\n",
    "A_slider = widgets.FloatSlider(\n",
    "    value=20, min=0, max=30, step=0.2,\n",
    "    description='A',\n",
    "    continuous_update=False,\n",
    ")\n",
    "vbox = widgets.VBox([A_slider, wn_slider, xi_slider])"
   ]
  },
  {
   "cell_type": "code",
   "execution_count": null,
   "metadata": {},
   "outputs": [],
   "source": [
    "get_subs_dict = lambda: { \n",
    "    A: A_slider.value, \n",
    "    xi: xi_slider.value, \n",
    "    wn: wn_slider.value \n",
    "}"
   ]
  },
  {
   "cell_type": "code",
   "execution_count": null,
   "metadata": {},
   "outputs": [],
   "source": [
    "import matplotlib.pyplot as plt\n",
    "plt.ioff()\n",
    "fig = plt.figure()\n",
    "r = (t, 0, 50)\n",
    "plt.xlim([r[1], r[2]])\n",
    "plt.title(\"Test Plot\")\n",
    "plt.xlabel(\"Time [s]\")\n",
    "plt.ylabel(\"Amplitude [m]\")\n",
    "line1 = plt.plot(*get_xy(expr1.subs(get_subs_dict()), r), color=\"r\")\n",
    "\n",
    "def update_lines(change):\n",
    "    x, y = get_xy(expr1.subs(get_subs_dict()), r)\n",
    "    m, M = min(y), max(y)\n",
    "    offset = 0.05 * (M - m)\n",
    "    plt.ylim([m - offset, M + offset])\n",
    "    line1[0].set_data(x, y)\n",
    "    fig.canvas.draw()\n",
    "    fig.canvas.flush_events()\n",
    "\n",
    "A_slider.observe(update_lines, names='value')\n",
    "wn_slider.observe(update_lines, names='value')\n",
    "xi_slider.observe(update_lines, names='value')\n",
    "\n",
    "widgets.AppLayout(\n",
    "    header=vbox,\n",
    "    center=fig.canvas,\n",
    "    pane_heights=[1, 5, 0]\n",
    ")"
   ]
  },
  {
   "cell_type": "markdown",
   "metadata": {},
   "source": [
    "## 22. 7 - Creating a Custom Backend"
   ]
  },
  {
   "cell_type": "code",
   "execution_count": null,
   "metadata": {},
   "outputs": [],
   "source": [
    "from sympy_utils import PlotlyBackend as PB\n",
    "\n",
    "x = symbols(\"x\")\n",
    "plot(sin(x), cos(x), backend=PB, legend=True)"
   ]
  },
  {
   "cell_type": "code",
   "execution_count": null,
   "metadata": {},
   "outputs": [],
   "source": [
    "from sympy.plotting.plot import plot3d\n",
    "x, y = symbols(\"x, y\")\n",
    "r = sqrt(x**2 + y**2)\n",
    "somb = 2 * bessely(1, pi * r) / (pi * r)\n",
    "plot3d(somb, backend=PB)"
   ]
  },
  {
   "cell_type": "code",
   "execution_count": null,
   "metadata": {},
   "outputs": [],
   "source": [
    "from sympy_utils import pplot\n",
    "pplot(sin(x), cos(x), backend=PB, legend=True, label=[\"a\", \"b\"])"
   ]
  },
  {
   "cell_type": "code",
   "execution_count": null,
   "metadata": {},
   "outputs": [],
   "source": [
    "def plotly(*args, **kwargs):\n",
    "    return pplot(*args, backend=PB, **kwargs)"
   ]
  },
  {
   "cell_type": "code",
   "execution_count": null,
   "metadata": {},
   "outputs": [],
   "source": [
    "plotly(sin(x), cos(x))"
   ]
  }
 ],
 "metadata": {
  "kernelspec": {
   "display_name": "Python 3",
   "language": "python",
   "name": "python3"
  },
  "language_info": {
   "codemirror_mode": {
    "name": "ipython",
    "version": 3
   },
   "file_extension": ".py",
   "mimetype": "text/x-python",
   "name": "python",
   "nbconvert_exporter": "python",
   "pygments_lexer": "ipython3",
   "version": "3.7.5"
  },
  "toc": {
   "base_numbering": 1,
   "nav_menu": {},
   "number_sections": true,
   "sideBar": true,
   "skip_h1_title": false,
   "title_cell": "Table of Contents",
   "title_sidebar": "Contents",
   "toc_cell": false,
   "toc_position": {},
   "toc_section_display": true,
   "toc_window_display": false
  }
 },
 "nbformat": 4,
 "nbformat_minor": 2
}
