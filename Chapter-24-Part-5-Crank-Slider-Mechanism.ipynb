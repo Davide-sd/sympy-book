{
 "cells": [
  {
   "cell_type": "markdown",
   "id": "3d5337a1",
   "metadata": {},
   "source": [
    "## Crank-Slider Mechanism"
   ]
  },
  {
   "cell_type": "code",
   "execution_count": null,
   "id": "e40540e9",
   "metadata": {},
   "outputs": [],
   "source": [
    "from sympy import *\n",
    "import sympy.physics.mechanics as me\n",
    "me.init_vprinting()"
   ]
  },
  {
   "cell_type": "code",
   "execution_count": null,
   "id": "23e163a4",
   "metadata": {},
   "outputs": [],
   "source": [
    "q1, q2, q3 = me.dynamicsymbols(\"q1, q2, q3\")\n",
    "q1d, q2d, q3d = me.dynamicsymbols(\"q1, q2, q3\", 1)\n",
    "u1, u2, u3 = me.dynamicsymbols(\"u1, u2, u3\")\n",
    "L1, L2 = symbols(\"L1, L2\")\n",
    "\n",
    "N, A, B = symbols(\"N, A, B\", cls=me.ReferenceFrame)\n",
    "A.orient_axis(N, N.z, q1)\n",
    "B.orient_axis(A, A.z, q2 - q1)\n",
    "\n",
    "O, P, Q, R, G1, G2 = symbols(\"O, P, Q, R, G1, G2\", cls=me.Point)\n",
    "P.set_pos(O, L1 * A.x)\n",
    "Q.set_pos(P, L2 * B.x)\n",
    "R.set_pos(O, q3 * N.x)\n",
    "G1.set_pos(O, L1 / 2 * A.x)\n",
    "G2.set_pos(P, L2 / 2 * B.x)\n",
    "\n",
    "O.set_vel(N, 0)\n",
    "P.v2pt_theory(O, N, A)\n",
    "G1.v2pt_theory(O, N, A)\n",
    "Q.v2pt_theory(P, N, B)\n",
    "G2.v2pt_theory(P, N, B)\n",
    "R.set_vel(N, u3 * N.x)"
   ]
  },
  {
   "cell_type": "code",
   "execution_count": null,
   "id": "765ccade",
   "metadata": {},
   "outputs": [],
   "source": [
    "t = symbols(\"t\")\n",
    "# configuration constraints: OR + (QP + QO) = 0\n",
    "zero = R.pos_from(O) + O.pos_from(Q)\n",
    "f_c = ImmutableDenseMatrix([zero & N.x, zero & N.y])\n",
    "display(zero, f_c.simplify())"
   ]
  },
  {
   "cell_type": "code",
   "execution_count": null,
   "id": "ba3d4885",
   "metadata": {},
   "outputs": [],
   "source": [
    "# velocity constraints\n",
    "dzero = zero.diff(t, N)\n",
    "f_v = ImmutableDenseMatrix([dzero & N.x, dzero & N.y])\n",
    "display(f_v.simplify())"
   ]
  },
  {
   "cell_type": "code",
   "execution_count": null,
   "id": "5c9a8f95",
   "metadata": {},
   "outputs": [],
   "source": [
    "q_ind = [q1]\n",
    "u_ind = [u1]\n",
    "q_dep = [q2, q3]\n",
    "u_dep = [u2, u3]\n",
    "kde = [q1d - u1, q2d - u2, q3d - u3]\n",
    "\n",
    "kane = me.KanesMethod(\n",
    "    N,\n",
    "    q_ind=q_ind,\n",
    "    u_ind=u_ind,\n",
    "    q_dependent=q_dep,\n",
    "    u_dependent=u_dep,\n",
    "    kd_eqs=kde,\n",
    "    configuration_constraints=f_c,\n",
    "    velocity_constraints=f_v\n",
    ")"
   ]
  },
  {
   "cell_type": "code",
   "execution_count": null,
   "id": "adf60374",
   "metadata": {},
   "outputs": [],
   "source": [
    "g, m_crank, m_rod, m_slider = symbols(\"g, m_c, m_r, m_s\")\n",
    "id_crank = me.inertia(A, 0, 0, m_crank * L1**2 / 12)\n",
    "id_rod = me.inertia(B, 0, 0, m_rod * L2**2 / 12)\n",
    "inertia_crank = (id_crank, G1)\n",
    "inertia_rod = (id_rod, G2)\n",
    "\n",
    "crank = me.RigidBody(\"crank\", G1, A, m_crank, inertia_crank)\n",
    "rod = me.RigidBody(\"rod\", G2, B, m_rod, inertia_rod)\n",
    "slider = me.Particle(\"slider\", R, m_slider)\n",
    "bodies = [crank, rod, slider]\n",
    "\n",
    "loads = [\n",
    "    (G1, -m_crank * g * N.y),\n",
    "    (G2, -m_rod * g * N.y),\n",
    "    (R, -m_slider * g * N.y)\n",
    "]\n",
    "\n",
    "fr, frstar = kane.kanes_equations(bodies, loads)"
   ]
  },
  {
   "cell_type": "code",
   "execution_count": null,
   "id": "d586fe3a",
   "metadata": {},
   "outputs": [],
   "source": [
    "from spb import *\n",
    "\n",
    "constants = {\n",
    "    m_crank: 5,\n",
    "    m_rod: 10,\n",
    "    m_slider: 1,\n",
    "    L1: 1,\n",
    "    L2: 2.5,\n",
    "    g: 9.81\n",
    "}\n",
    "\n",
    "q2q3_eq = [c.subs(constants).subs(q1, pi/4) for c in f_c]\n",
    "plot_contour(*q2q3_eq, (q2, 0, 2*pi), (q3, 0, 5), {\"levels\": [0]}, is_filled=False)"
   ]
  },
  {
   "cell_type": "code",
   "execution_count": null,
   "id": "26cfed0f",
   "metadata": {},
   "outputs": [],
   "source": [
    "res = nsolve(q2q3_eq, [q2, q3], (6, 3))\n",
    "res"
   ]
  },
  {
   "cell_type": "code",
   "execution_count": null,
   "id": "50f61658",
   "metadata": {},
   "outputs": [],
   "source": [
    "import numpy as np\n",
    "from pydy.system import System\n",
    "\n",
    "sys = System(kane)\n",
    "sys.constants = constants\n",
    "sys.initial_conditions = {\n",
    "    q1: pi / 4, q2: 5.99642875496804, q3: 3.10502254284291,\n",
    "    u1: 0, u2: 0, u3: 0\n",
    "}\n",
    "\n",
    "fps = 60\n",
    "t0, tf = 0, 15\n",
    "n = int(fps * (tf - t0))\n",
    "sys.times = np.linspace(t0, tf, n)\n",
    "\n",
    "results = sys.integrate()"
   ]
  },
  {
   "cell_type": "code",
   "execution_count": null,
   "id": "7c9f32d4",
   "metadata": {},
   "outputs": [],
   "source": [
    "import matplotlib.pyplot as plt\n",
    "\n",
    "fig, ax = plt.subplots(2, 1, sharex=True)\n",
    "ax[0].plot(sys.times, results[:, :3])\n",
    "ax[0].set_ylabel(r\"Coordinates\")\n",
    "ax[0].legend([\"$q_{1}$\", \"$q_{2}$\", \"$q_{3}$\"])\n",
    "ax[1].plot(sys.times, results[:, 3:])\n",
    "ax[1].legend([\"$u_{1}$\", \"$u_{2}$\", \"$u_{3}$\"])\n",
    "ax[1].set_ylabel(r\"Velocities\")\n",
    "ax[1].set_xlabel(\"Time [s]\")\n",
    "plt.show()"
   ]
  },
  {
   "cell_type": "code",
   "execution_count": null,
   "id": "a2bea877",
   "metadata": {},
   "outputs": [],
   "source": [
    "from pydy.viz import Scene, Cylinder, Cube, VisualizationFrame\n",
    "\n",
    "crank_geom = Cylinder(length=L1, radius=0.05, color='grey', name=\"crank\")\n",
    "rod_geom = Cylinder(length=L2, radius=0.05, color='grey', name=\"rod\")\n",
    "slider_geom = Cube(0.2, color=\"orange\", name=\"slider\")\n",
    "\n",
    "crank_frame, rod_frame = symbols(\"crank_frame, rod_frame\", cls=me.ReferenceFrame)\n",
    "crank_frame.orient_axis(A, A.z, -pi / 2)\n",
    "rod_frame.orient_axis(B, B.z, -pi / 2)\n",
    "crank_vf = VisualizationFrame('crank vf', crank_frame, G1, crank_geom)\n",
    "rod_vf = VisualizationFrame('rod vf', rod_frame, G2, rod_geom)\n",
    "slider_vf = VisualizationFrame('slider vf', N, R, slider_geom)\n",
    "\n",
    "scene = Scene(N, O, crank_vf, rod_vf, slider_vf, system=sys)\n",
    "scene.display_jupyter(axes_arrow_length=1)"
   ]
  },
  {
   "cell_type": "code",
   "execution_count": null,
   "id": "51f90168",
   "metadata": {},
   "outputs": [],
   "source": [
    "from matplotlib.animation import FuncAnimation\n",
    "from IPython.display import HTML\n",
    "\n",
    "def _crank(y, idx, r):\n",
    "    q1 = y[idx, 0]\n",
    "    x = [0, r * np.cos(q1)]\n",
    "    y = [0, r * np.sin(q1)]\n",
    "    return x, y\n",
    "\n",
    "def _rod(y, idx, r, L):\n",
    "    q1 = y[idx, 0]\n",
    "    q2 = y[idx, 1]\n",
    "    x = [r * np.cos(q1), r * np.cos(q1) + L * np.cos(q2)]\n",
    "    y = [r * np.sin(q1), r * np.sin(q1) + L * np.sin(q2)]\n",
    "    return x, y\n",
    "\n",
    "idx = 0\n",
    "fig, ax = plt.subplots()\n",
    "ax.axhline(0, linestyle=\":\", color=\"darkgray\")\n",
    "crank, = ax.plot(*_crank(results, idx, constants[L1]), label=\"crank\")\n",
    "rod, = ax.plot(*_rod(results, idx, constants[L1], constants[L2]), label=\"rod\")\n",
    "slider = ax.scatter(results[idx, 2], 0, color=\"r\", label=\"slider\")\n",
    "ax.legend()\n",
    "ax.set_aspect(\"equal\")\n",
    "ax.axis([-1.5, 4, -2, 2])\n",
    "\n",
    "def update(idx):\n",
    "    crank.set_data(*_crank(results, idx, constants[L1]))\n",
    "    rod.set_data(*_rod(results, idx, constants[L1], constants[L2]))\n",
    "    slider.set_offsets([results[idx, 2], 0])\n",
    "    ax.set_title(\"t = {:.2f} s\".format(sys.times[idx]))\n",
    "\n",
    "ani = FuncAnimation(fig, update, frames=len(sys.times))\n",
    "HTML(ani.to_jshtml(fps=fps))"
   ]
  },
  {
   "cell_type": "markdown",
   "id": "4d85f11f",
   "metadata": {},
   "source": [
    "## With the Joints Framework"
   ]
  },
  {
   "cell_type": "code",
   "execution_count": null,
   "id": "d0c35035",
   "metadata": {},
   "outputs": [],
   "source": [
    "from sympy import *\n",
    "import sympy.physics.mechanics as me\n",
    "import numpy as np\n",
    "from pydy.system import System\n",
    "from pydy.viz import Scene, Cylinder, Cube, VisualizationFrame\n",
    "me.init_vprinting()\n",
    "\n",
    "q1, q2, q3 = me.dynamicsymbols(\"q1, q2, q3\")\n",
    "u1, u2, u3 = me.dynamicsymbols(\"u1, u2, u3\")\n",
    "L1, L2, m_crank, m_rod, m_slider, g = symbols(\"L1, L2, m_c, m_r, m_s, g\")\n",
    "t = symbols(\"t\")\n",
    "\n",
    "N, A, B, S = symbols(\"N, A, B, S\", cls=me.ReferenceFrame)"
   ]
  },
  {
   "cell_type": "code",
   "execution_count": null,
   "id": "54a7a616",
   "metadata": {},
   "outputs": [],
   "source": [
    "wall = me.Body(\"Wall\", frame=N)\n",
    "crank = me.Body(\n",
    "    \"Crank\", frame=A, mass=m_crank,\n",
    "    central_inertia=me.inertia(A, 0, 0, m_crank * L1 ** 2 / 12))\n",
    "rod = me.Body(\n",
    "    \"Rod\", frame=B, mass=m_rod,\n",
    "    central_inertia=me.inertia(A, 0, 0, m_rod * L2 ** 2 / 12))\n",
    "slider = me.Body(\"Slider\", frame=S, mass=m_slider)\n",
    "\n",
    "crank.apply_force(-m_crank * g * N.y)\n",
    "rod.apply_force(-m_rod * g * N.y)\n",
    "slider.apply_force(-m_slider * g * N.y)"
   ]
  },
  {
   "cell_type": "code",
   "execution_count": null,
   "id": "0a9ee728",
   "metadata": {
    "scrolled": true
   },
   "outputs": [],
   "source": [
    "j1 = me.PinJoint(\n",
    "    \"j1\", wall, crank, coordinates=q1, speeds=u1,\n",
    "    child_point=-L1 / 2 * crank.x,\n",
    "    joint_axis=wall.z\n",
    ")\n",
    "j2 = me.PinJoint(\n",
    "    \"j2\", crank, rod, coordinates=q2, speeds=u2,\n",
    "    parent_point=L1 / 2 * crank.x,\n",
    "    child_point=-L2 / 2 * rod.x,\n",
    "    joint_axis=crank.z\n",
    ")\n",
    "j3 = me.PrismaticJoint(\n",
    "    \"j3\", wall, slider, coordinates=q3, speeds=u3\n",
    ")\n",
    "\n",
    "zero = rod.masscenter.pos_from(slider.masscenter) + L2 / 2 * rod.x\n",
    "f_c = Matrix([zero & N.x, zero & N.y])\n",
    "f_c.simplify()\n",
    "f_v = f_c.diff(t)\n",
    "f_v.simplify()\n",
    "display(zero, f_c, f_v)"
   ]
  },
  {
   "cell_type": "code",
   "execution_count": null,
   "id": "c7864bf7",
   "metadata": {},
   "outputs": [],
   "source": [
    "method = me.JointsMethod(wall, j1, j2, j3)\n",
    "\n",
    "kane = me.KanesMethod(\n",
    "    wall.frame,\n",
    "    q_ind=[q1],\n",
    "    u_ind=[u1],\n",
    "    q_dependent=[q2, q3],\n",
    "    u_dependent=[u2, u3],\n",
    "    kd_eqs=method.kdes,\n",
    "    configuration_constraints=f_c,\n",
    "    velocity_constraints=f_v,\n",
    "    forcelist=method.loads,\n",
    "    bodies=method.bodies)\n",
    "\n",
    "fr, frstar = kane.kanes_equations()"
   ]
  },
  {
   "cell_type": "code",
   "execution_count": null,
   "id": "d353868d",
   "metadata": {},
   "outputs": [],
   "source": [
    "sys = System(kane)\n",
    "sys.constants = {\n",
    "    m_crank: 5,\n",
    "    m_rod: 10,\n",
    "    m_slider: 1,\n",
    "    L1: 1,\n",
    "    L2: 2.5,\n",
    "    g: 9.81\n",
    "}\n",
    "sys.initial_conditions = {\n",
    "    q1: pi / 4, q2: 5.21103059157059, q3: 3.10502254284291,\n",
    "    u1: 0, u2: 0, u3: 0\n",
    "}\n",
    "fps = 60\n",
    "t0, tf = 0, 15\n",
    "n = int(fps * (tf - t0))\n",
    "sys.times = np.linspace(t0, tf, n)\n",
    "results = sys.integrate()\n",
    "\n",
    "crank_geom = Cylinder(length=L1, radius=0.05, color='grey', name=\"crank\")\n",
    "rod_geom = Cylinder(length=L2, radius=0.05, color='grey', name=\"rod\")\n",
    "slider_geom = Cube(0.2, color=\"orange\", name=\"slider\")\n",
    "\n",
    "crank_frame, rod_frame = symbols(\"crank_frame, rod_frame\", cls=me.ReferenceFrame)\n",
    "crank_frame.orient_axis(A, A.z, -pi / 2)\n",
    "rod_frame.orient_axis(B, B.z, -pi / 2)\n",
    "\n",
    "crank_vf = VisualizationFrame('crank vf', crank_frame, crank.masscenter, crank_geom)\n",
    "rod_vf = VisualizationFrame('rod vf', rod_frame, rod.masscenter, rod_geom)\n",
    "slider_vf = VisualizationFrame('slider vf', N, slider.masscenter, slider_geom)\n",
    "\n",
    "# arguments to Scene: reference frame, origin, visual frames, system\n",
    "O = crank.masscenter.locatenew(\"O\", -L1/2 * crank.frame.x)\n",
    "scene = Scene(N, O, crank_vf, rod_vf, slider_vf, system=sys)\n",
    "scene.display_jupyter(axes_arrow_length=5)"
   ]
  },
  {
   "cell_type": "code",
   "execution_count": null,
   "id": "99055e65",
   "metadata": {},
   "outputs": [],
   "source": []
  }
 ],
 "metadata": {
  "kernelspec": {
   "display_name": "Python 3 (ipykernel)",
   "language": "python",
   "name": "python3"
  },
  "language_info": {
   "codemirror_mode": {
    "name": "ipython",
    "version": 3
   },
   "file_extension": ".py",
   "mimetype": "text/x-python",
   "name": "python",
   "nbconvert_exporter": "python",
   "pygments_lexer": "ipython3",
   "version": "3.10.12"
  }
 },
 "nbformat": 4,
 "nbformat_minor": 5
}
