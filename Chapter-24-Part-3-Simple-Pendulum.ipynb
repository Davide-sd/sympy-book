{
 "cells": [
  {
   "cell_type": "markdown",
   "id": "57d8ef25",
   "metadata": {},
   "source": [
    "## Simple Pendulum"
   ]
  },
  {
   "cell_type": "code",
   "execution_count": null,
   "id": "72a94ad0",
   "metadata": {},
   "outputs": [],
   "source": [
    "from sympy import *\n",
    "import sympy.physics.mechanics as me\n",
    "me.init_vprinting()"
   ]
  },
  {
   "cell_type": "code",
   "execution_count": null,
   "id": "561bf3a3",
   "metadata": {},
   "outputs": [],
   "source": [
    "theta, omega = me.dynamicsymbols(\"theta, omega\")\n",
    "thetad = me.dynamicsymbols(\"theta\", 1)\n",
    "L = symbols(\"L\")\n",
    "\n",
    "M, N, A = symbols(\"M, N, A\", cls=me.ReferenceFrame)\n",
    "N.orient_axis(M, M.z, pi)\n",
    "A.orient_axis(N, N.z, theta)\n",
    "\n",
    "O, P, G = symbols(\"O, P, G\", cls=me.Point)\n",
    "G.set_pos(O, L / 2 * A.y)\n",
    "P.set_pos(O, L * A.y)\n",
    "\n",
    "O.set_vel(N, 0)\n",
    "G.v2pt_theory(O, N, A)\n",
    "P.v2pt_theory(O, N, A)"
   ]
  },
  {
   "cell_type": "code",
   "execution_count": null,
   "id": "da892342",
   "metadata": {},
   "outputs": [],
   "source": [
    "q_ind = [theta]\n",
    "u_ind = [omega]\n",
    "kde = [thetad - omega]\n",
    "\n",
    "kane = me.KanesMethod(\n",
    "    N,\n",
    "    q_ind=q_ind,\n",
    "    u_ind=u_ind,\n",
    "    kd_eqs=kde\n",
    ")"
   ]
  },
  {
   "cell_type": "code",
   "execution_count": null,
   "id": "e21215bb",
   "metadata": {},
   "outputs": [],
   "source": [
    "m, rho, g = symbols(\"m, rho, g\")\n",
    "cord_mass = rho * L\n",
    "cord = me.RigidBody(\n",
    "    \"Cord\", G, A, cord_mass,\n",
    "    (me.inertia(A, 0, 0, rho * L**3 / 12), G))\n",
    "particle = me.Particle(\"Particle\", P, m)"
   ]
  },
  {
   "cell_type": "code",
   "execution_count": null,
   "id": "c6300d52",
   "metadata": {},
   "outputs": [],
   "source": [
    "bodies = [cord, particle]\n",
    "loads = [\n",
    "    (G, cord_mass * g * N.y),\n",
    "    (P, m * g * N.y)\n",
    "]"
   ]
  },
  {
   "cell_type": "code",
   "execution_count": null,
   "id": "0c32d3f3",
   "metadata": {},
   "outputs": [],
   "source": [
    "fr, frstar = kane.kanes_equations(bodies, loads)\n",
    "fr + frstar"
   ]
  },
  {
   "cell_type": "code",
   "execution_count": null,
   "id": "e9700ea7",
   "metadata": {},
   "outputs": [],
   "source": [
    "kane.kindiffdict??"
   ]
  },
  {
   "cell_type": "code",
   "execution_count": null,
   "id": "e1e2801b",
   "metadata": {},
   "outputs": [],
   "source": [
    "thetad_val = kane.kindiffdict()\n",
    "thetad_val"
   ]
  },
  {
   "cell_type": "code",
   "execution_count": null,
   "id": "b4c1b342",
   "metadata": {},
   "outputs": [],
   "source": [
    "eom = kane.rhs().subs(thetad_val)\n",
    "eom"
   ]
  },
  {
   "cell_type": "code",
   "execution_count": null,
   "id": "b6c0b943",
   "metadata": {},
   "outputs": [],
   "source": [
    "eom[1].subs(rho, 0)"
   ]
  },
  {
   "cell_type": "code",
   "execution_count": null,
   "id": "ce3e5d39",
   "metadata": {},
   "outputs": [],
   "source": [
    "t = symbols(\"t\")\n",
    "lhs = theta.diff(t, 2)\n",
    "rhs = eom[1].subs(rho, 0)\n",
    "Eq(lhs, rhs)"
   ]
  },
  {
   "cell_type": "markdown",
   "id": "c2837519",
   "metadata": {},
   "source": [
    "### Extraction of information."
   ]
  },
  {
   "cell_type": "code",
   "execution_count": null,
   "id": "4582a6f1",
   "metadata": {},
   "outputs": [],
   "source": [
    "mm = kane.mass_matrix_full\n",
    "fm = kane.forcing_full\n",
    "mm.inv() * fm"
   ]
  },
  {
   "cell_type": "code",
   "execution_count": null,
   "id": "97b18521",
   "metadata": {},
   "outputs": [],
   "source": [
    "import numpy as np\n",
    "from pydy.system import System\n",
    "\n",
    "sys = System(kane)\n",
    "sys.constants = {\n",
    "    m: 1,\n",
    "    rho: 0,\n",
    "    L: 2,\n",
    "    g: 9.81\n",
    "}\n",
    "sys.initial_conditions = {\n",
    "    theta: np.pi/6,\n",
    "    omega: 0\n",
    "}\n",
    "\n",
    "fps = 60\n",
    "t0, tf = 0, 5\n",
    "n = int(fps * (tf - t0))\n",
    "sys.times = np.linspace(t0, tf, n)\n",
    "\n",
    "results = sys.integrate()"
   ]
  },
  {
   "cell_type": "code",
   "execution_count": null,
   "id": "7d40c5f4",
   "metadata": {},
   "outputs": [],
   "source": [
    "sys.integrate??"
   ]
  },
  {
   "cell_type": "code",
   "execution_count": null,
   "id": "c8b69d29",
   "metadata": {},
   "outputs": [],
   "source": [
    "import matplotlib.pyplot as plt\n",
    "\n",
    "results_deg = np.rad2deg(results)\n",
    "fig, ax = plt.subplots(2, 1, sharex=True)\n",
    "ax[0].plot(sys.times, results_deg[:, 0])\n",
    "ax[0].set_ylabel(r\"$\\theta$ [deg]\")\n",
    "ax[1].plot(sys.times, results_deg[:, 1])\n",
    "ax[1].set_ylabel(r\"$\\omega$ [deg / s]\")\n",
    "ax[1].set_xlabel(\"Time [s]\")\n",
    "plt.show()"
   ]
  },
  {
   "cell_type": "markdown",
   "id": "c32ee25d",
   "metadata": {},
   "source": [
    "### Animation with PyDy"
   ]
  },
  {
   "cell_type": "code",
   "execution_count": null,
   "id": "7cf23fca",
   "metadata": {},
   "outputs": [],
   "source": [
    "from pydy.viz import Scene, Cylinder, Sphere, VisualizationFrame"
   ]
  },
  {
   "cell_type": "code",
   "execution_count": null,
   "id": "57eec39d",
   "metadata": {},
   "outputs": [],
   "source": [
    "VisualizationFrame??"
   ]
  },
  {
   "cell_type": "code",
   "execution_count": null,
   "id": "ae37df95",
   "metadata": {},
   "outputs": [],
   "source": [
    "cord_geom = Cylinder(length=L, radius=0.05, color='grey', name=\"cord\")\n",
    "particle_geom = Sphere(0.2, color=\"black\", name=\"particle\")\n",
    "\n",
    "cord_vf = VisualizationFrame('cord vf', A, G, cord_geom)\n",
    "particle_vf = VisualizationFrame('particle vf', N, P, particle_geom)\n",
    "\n",
    "# arguments to Scene: reference frame, origin, visual frames, system\n",
    "scene = Scene(M, O, cord_vf, particle_vf, system=sys)\n",
    "scene.display_jupyter(axes_arrow_length=1)"
   ]
  },
  {
   "cell_type": "code",
   "execution_count": null,
   "id": "40eb88d1",
   "metadata": {},
   "outputs": [],
   "source": [
    "phi = 0\n",
    "\n",
    "# new reference frame for the cord\n",
    "AA = me.ReferenceFrame(\"A\")\n",
    "# rotate the cord about NN.z by some value\n",
    "AA.orient_axis(M, M.z, phi)\n",
    "\n",
    "OO = me.Point(\"OO\")\n",
    "PP1 = OO.locatenew(\"PP1\", L * AA.x)\n",
    "GG1 = OO.locatenew(\"GG1\", L / 2 * AA.x)\n",
    "PP2 = OO.locatenew(\"PP2\", L * AA.y)\n",
    "GG2 = OO.locatenew(\"GG2\", L / 2 * AA.y)\n",
    "\n",
    "cylinder_x = Cylinder(\n",
    "    length=L, radius=0.1, name=\"cylinder aligned with x\", color=\"red\")\n",
    "cylinder_x_vf = VisualizationFrame('cylinder x vf', AA, GG1, cylinder_x)\n",
    "\n",
    "cylinder_y = Cylinder(\n",
    "    length=L, radius=0.1, name=\"cylinder aligned with y\", color=\"green\")\n",
    "cylinder_y_vf = VisualizationFrame('cylinder y vf', AA, GG2, cylinder_y)\n",
    "\n",
    "scene = Scene(M, OO, cylinder_x_vf, cylinder_y_vf, system=sys)\n",
    "scene.display_jupyter(axes_arrow_length=0.5)"
   ]
  },
  {
   "cell_type": "code",
   "execution_count": null,
   "id": "7bb0d681",
   "metadata": {},
   "outputs": [],
   "source": [
    "phi = pi / 6\n",
    "\n",
    "# new reference frame for the cord\n",
    "AA = me.ReferenceFrame(\"A\")\n",
    "# rotate the cord about NN.z by some value\n",
    "AA.orient_axis(M, M.z, phi)\n",
    "\n",
    "OO = me.Point(\"OO\")\n",
    "PP1 = OO.locatenew(\"PP1\", L * AA.x)\n",
    "GG1 = OO.locatenew(\"GG1\", L / 2 * AA.x)\n",
    "PP2 = OO.locatenew(\"PP2\", L * AA.y)\n",
    "GG2 = OO.locatenew(\"GG2\", L / 2 * AA.y)\n",
    "\n",
    "cylinder_x = Cylinder(\n",
    "    length=L, radius=0.1, name=\"cylinder aligned with x\", color=\"red\")\n",
    "cylinder_x_frame = me.ReferenceFrame(\"cf\")\n",
    "cylinder_x_frame.orient_axis(AA, AA.z, -pi/2)\n",
    "cylinder_x_vf = VisualizationFrame('cylinder x vf', cylinder_x_frame, GG1, cylinder_x)\n",
    "\n",
    "cylinder_y = Cylinder(\n",
    "    length=L, radius=0.1, name=\"cylinder aligned with y\", color=\"green\")\n",
    "cylinder_y_vf = VisualizationFrame('cylinder y vf', AA, GG2, cylinder_y)\n",
    "\n",
    "scene = Scene(M, OO, cylinder_x_vf, cylinder_y_vf, system=sys)\n",
    "scene.display_jupyter(axes_arrow_length=0.5)"
   ]
  },
  {
   "cell_type": "markdown",
   "id": "2fcf57c3",
   "metadata": {},
   "source": [
    "### Animation with Matplotlib"
   ]
  },
  {
   "cell_type": "code",
   "execution_count": null,
   "id": "a1abbb76",
   "metadata": {},
   "outputs": [],
   "source": [
    "from matplotlib.animation import FuncAnimation\n",
    "from IPython.display import HTML\n",
    "\n",
    "fig, ax = plt.subplots()\n",
    "xp = sys.constants[L] * np.sin(results[0, 0])\n",
    "yp = -sys.constants[L] * np.cos(results[0, 0])\n",
    "string_handle, = ax.plot([0, xp], [0, yp], color=\"darkgray\")\n",
    "mass_handle = ax.scatter([xp], [yp], color=\"k\")\n",
    "ax.set_aspect(\"equal\")\n",
    "ax.axis([-2, 2, -2.5, 0.5])\n",
    "\n",
    "def update(idx):\n",
    "    xp = sys.constants[L] * np.sin(results[idx, 0])\n",
    "    yp = -sys.constants[L] * np.cos(results[idx, 0])\n",
    "    string_handle.set_data([0, xp], [0, yp])\n",
    "    mass_handle.set_offsets([xp, yp])\n",
    "    ax.set_title(\"Time = {:.2f} s\".format(sys.times[idx]))\n",
    "\n",
    "ani = FuncAnimation(fig, update, frames=len(sys.times))\n",
    "HTML(ani.to_jshtml(fps=fps))\n",
    "# optionally, save it to disk\n",
    "# ani.save(\"simple-pendulum.mp4\", fps=fps)"
   ]
  },
  {
   "cell_type": "markdown",
   "id": "f6c666a6",
   "metadata": {},
   "source": [
    "### Adding Friction to the Pendulum"
   ]
  },
  {
   "cell_type": "code",
   "execution_count": null,
   "id": "8bb04bdf",
   "metadata": {},
   "outputs": [],
   "source": [
    "from sympy import *\n",
    "import sympy.physics.mechanics as me\n",
    "from pydy.system import System\n",
    "import numpy as np\n",
    "from pydy.viz import Scene, Cylinder, Sphere, VisualizationFrame\n",
    "\n",
    "me.init_vprinting()\n",
    "\n",
    "theta, omega = me.dynamicsymbols(\"theta, omega\")\n",
    "thetad = me.dynamicsymbols(\"theta\", 1)\n",
    "L = symbols(\"L\")\n",
    "\n",
    "M, N, A = symbols(\"M, N, A\", cls=me.ReferenceFrame)\n",
    "N.orient_axis(M, M.z, pi)\n",
    "A.orient_axis(N, N.z, theta)\n",
    "\n",
    "O, P, G = symbols(\"O, P, G\", cls=me.Point)\n",
    "G.set_pos(O, L / 2 * A.y)\n",
    "P.set_pos(O, L * A.y)\n",
    "\n",
    "O.set_vel(N, 0)\n",
    "G.v2pt_theory(O, N, A)\n",
    "P.v2pt_theory(O, N, A)\n",
    "\n",
    "q_ind = [theta]\n",
    "u_ind = [omega]\n",
    "kde = [thetad - omega]\n",
    "\n",
    "kane = me.KanesMethod(\n",
    "    N,\n",
    "    q_ind=q_ind,\n",
    "    u_ind=u_ind,\n",
    "    kd_eqs=kde\n",
    ")\n",
    "\n",
    "m, rho, g = symbols(\"m, rho, g\")\n",
    "cord_mass = rho * L\n",
    "cord = me.RigidBody(\n",
    "    \"Cord\", G, A, cord_mass,\n",
    "    (me.inertia(A, 0, 0, rho * L**3 / 12), G))\n",
    "particle = me.Particle(\"Particle\", P, m)\n",
    "\n",
    "bodies = [cord, particle]\n",
    "d = symbols(\"d\")\n",
    "loads = [\n",
    "    (G, cord_mass * g * N.y),\n",
    "    (P, m * g * N.y),\n",
    "    (A, -d * omega * A.z),\n",
    "    (N, d * omega * A.z),\n",
    "]\n",
    "\n",
    "fr, frstar = kane.kanes_equations(bodies, loads)\n",
    "display(fr + frstar)\n",
    "\n",
    "sys = System(kane)\n",
    "sys.constants = {\n",
    "    m: 1,\n",
    "    rho: 0,\n",
    "    L: 2,\n",
    "    g: 9.81,\n",
    "    d: 1.25\n",
    "}\n",
    "sys.initial_conditions = {\n",
    "    theta: np.pi/6,\n",
    "    omega: 0\n",
    "}\n",
    "\n",
    "fps = 60\n",
    "t0, tf = 0, 10\n",
    "n = int(fps * (tf - t0))\n",
    "sys.times = np.linspace(t0, tf, n)\n",
    "\n",
    "results = sys.integrate()\n",
    "\n",
    "import matplotlib.pyplot as plt\n",
    "\n",
    "results_deg = np.rad2deg(results)\n",
    "fig, ax = plt.subplots(2, 1, sharex=True)\n",
    "ax[0].plot(sys.times, results_deg[:, 0])\n",
    "ax[0].set_ylabel(r\"$\\theta$ [deg]\")\n",
    "ax[1].plot(sys.times, results_deg[:, 1])\n",
    "ax[1].set_ylabel(r\"$\\omega$ [deg / s]\")\n",
    "ax[1].set_xlabel(\"Time [s]\")\n",
    "plt.show()\n",
    "\n",
    "cord_geom = Cylinder(length=L, radius=0.05, color='grey', name=\"cord\")\n",
    "particle_geom = Sphere(0.2, color=\"black\", name=\"particle\")\n",
    "\n",
    "cord_vf = VisualizationFrame('cord vf', A, G, cord_geom)\n",
    "particle_vf = VisualizationFrame('particle vf', N, P, particle_geom)\n",
    "\n",
    "# arguments to Scene: reference frame, origin, visual frames, system\n",
    "scene = Scene(M, O, cord_vf, particle_vf, system=sys)\n",
    "scene.display_jupyter(axes_arrow_length=1)"
   ]
  },
  {
   "cell_type": "markdown",
   "id": "e79d0e6f",
   "metadata": {},
   "source": [
    "## Simple Pendulum wit Joints Framework"
   ]
  },
  {
   "cell_type": "code",
   "execution_count": null,
   "id": "2bc38bd3",
   "metadata": {},
   "outputs": [],
   "source": [
    "from sympy import *\n",
    "import sympy.physics.mechanics as me\n",
    "me.init_vprinting()"
   ]
  },
  {
   "cell_type": "code",
   "execution_count": null,
   "id": "9c2f3722",
   "metadata": {},
   "outputs": [],
   "source": [
    "theta, omega = me.dynamicsymbols(\"theta, omega\")\n",
    "m, rho, g, L = symbols(\"m, rho, g, L\")"
   ]
  },
  {
   "cell_type": "code",
   "execution_count": null,
   "id": "8a93bd3e",
   "metadata": {},
   "outputs": [],
   "source": [
    "M, N, A, B = symbols(\"M, N, A, B\", cls=me.ReferenceFrame)\n",
    "N.orient_axis(M, M.z, pi)\n",
    "B.orient_axis(A, A.z, 0)"
   ]
  },
  {
   "cell_type": "code",
   "execution_count": null,
   "id": "3d2bf0f8",
   "metadata": {},
   "outputs": [],
   "source": [
    "wall = me.Body(\"Wall\", frame=N)\n",
    "# inertia wrt the cord's center of mass\n",
    "cord_inertia = me.inertia(A, 0, 0, rho * L**3 / 12)\n",
    "cord = me.Body(\"Cord\", frame=A, mass=rho * L, central_inertia=cord_inertia)\n",
    "particle = me.Body(\"Particle\", mass=m)"
   ]
  },
  {
   "cell_type": "code",
   "execution_count": null,
   "id": "2ee20d5f",
   "metadata": {},
   "outputs": [],
   "source": [
    "print(type(cord), type(particle))"
   ]
  },
  {
   "cell_type": "code",
   "execution_count": null,
   "id": "a5b48c4a",
   "metadata": {},
   "outputs": [],
   "source": [
    "dir(cord)"
   ]
  },
  {
   "cell_type": "code",
   "execution_count": null,
   "id": "b30ca75b",
   "metadata": {},
   "outputs": [],
   "source": [
    "cord.apply_force??"
   ]
  },
  {
   "cell_type": "code",
   "execution_count": null,
   "id": "756c2621",
   "metadata": {},
   "outputs": [],
   "source": [
    "cord.apply_force(rho * L * g * N.y)\n",
    "particle.apply_force(m * g * N.y)"
   ]
  },
  {
   "cell_type": "code",
   "execution_count": null,
   "id": "c87d8d49",
   "metadata": {},
   "outputs": [],
   "source": [
    "joint1 = me.PinJoint(\n",
    "    \"J1\", wall, cord, coordinates=theta, speeds=omega,\n",
    "    child_point=-L / 2 * cord.frame.y,\n",
    "    joint_axis=wall.frame.z\n",
    ")"
   ]
  },
  {
   "cell_type": "code",
   "execution_count": null,
   "id": "8bdbedc6",
   "metadata": {},
   "outputs": [],
   "source": [
    "joint2 = me.WeldJoint(\n",
    "    \"J2\", cord, particle,\n",
    "    parent_point=L/2 * cord.frame.y,\n",
    "    parent_interframe=B\n",
    ")"
   ]
  },
  {
   "cell_type": "code",
   "execution_count": null,
   "id": "3c22c093",
   "metadata": {},
   "outputs": [],
   "source": [
    "O = cord.masscenter.locatenew(\"O\", -L/2 * cord.frame.y)\n",
    "particle.masscenter.pos_from(O)"
   ]
  },
  {
   "cell_type": "code",
   "execution_count": null,
   "id": "47e5b0e4",
   "metadata": {},
   "outputs": [],
   "source": [
    "tmp_cord_inertia = me.inertia(N, 0, 0, rho * L**3 / 12)\n",
    "tmp_cord = me.Body(\"Cord\", mass=rho * L, central_inertia=cord_inertia)\n",
    "tmp_particle = me.Body(\"Particle\", mass=m)\n",
    "tmp_joint1 = me.PinJoint(\n",
    "    \"J1\", wall, tmp_cord, coordinates=theta, speeds=omega,\n",
    "    child_point=-L / 2 * tmp_cord.frame.y,\n",
    "    joint_axis=wall.z)\n",
    "tmp_joint2 = me.WeldJoint(\n",
    "    \"J2\", tmp_cord, tmp_particle,\n",
    "    parent_point=L/2 * tmp_cord.frame.y,\n",
    "    parent_interframe=B)\n",
    "tmp_O = tmp_cord.masscenter.locatenew(\"O\", -L/2 * tmp_cord.frame.y)\n",
    "tmp_particle.masscenter.pos_from(O)"
   ]
  },
  {
   "cell_type": "code",
   "execution_count": null,
   "id": "176eb574",
   "metadata": {},
   "outputs": [],
   "source": [
    "me.JointsMethod??"
   ]
  },
  {
   "cell_type": "code",
   "execution_count": null,
   "id": "b1fce682",
   "metadata": {},
   "outputs": [],
   "source": [
    "method = me.JointsMethod(wall.frame, joint1, joint2)\n",
    "\n",
    "kane = me.KanesMethod(\n",
    "    wall.frame,\n",
    "    q_ind=[theta],\n",
    "    u_ind=[omega],\n",
    "    kd_eqs=method.kdes,\n",
    "    forcelist=method.loads,\n",
    "    bodies=method.bodies\n",
    ")\n",
    "\n",
    "fr, frstar = kane.kanes_equations()\n",
    "trigsimp(fr + frstar)"
   ]
  },
  {
   "cell_type": "code",
   "execution_count": null,
   "id": "8f5b46e6",
   "metadata": {},
   "outputs": [],
   "source": [
    "import numpy as np\n",
    "from pydy.system import System\n",
    "\n",
    "sys = System(kane)\n",
    "sys.constants = {\n",
    "    m: 1,\n",
    "    rho: 0,\n",
    "    L: 2,\n",
    "    g: 9.81\n",
    "}\n",
    "sys.initial_conditions = {\n",
    "    theta: np.pi/6,#7*np.pi/4,\n",
    "    omega: 0\n",
    "}\n",
    "\n",
    "fps = 60\n",
    "t0, tf = 0, 5\n",
    "n = int(fps * (tf - t0))\n",
    "sys.times = np.linspace(t0, tf, n)\n",
    "\n",
    "results = sys.integrate()"
   ]
  },
  {
   "cell_type": "code",
   "execution_count": null,
   "id": "aa07dec2",
   "metadata": {},
   "outputs": [],
   "source": [
    "from pydy.viz import Scene, Cylinder, Sphere, VisualizationFrame\n",
    "\n",
    "cord_geom = Cylinder(length=L, radius=0.05, color='grey', name=\"cord\")\n",
    "particle_geom = Sphere(0.2, color=\"black\", name=\"particle\")\n",
    "\n",
    "cord_vf = VisualizationFrame('cord vf', A, cord.masscenter, cord_geom)\n",
    "particle_vf = VisualizationFrame('particle vf', N, particle.masscenter, particle_geom)\n",
    "\n",
    "O = cord.masscenter.locatenew(\"O\", -L/2 * cord.frame.y)\n",
    "scene = Scene(M, O, cord_vf, particle_vf, system=sys)\n",
    "scene.display_jupyter(axes_arrow_length=1)"
   ]
  },
  {
   "cell_type": "markdown",
   "id": "2813dd04",
   "metadata": {},
   "source": [
    "### Adding friction to the Pendulum"
   ]
  },
  {
   "cell_type": "code",
   "execution_count": null,
   "id": "95e30ea2",
   "metadata": {
    "scrolled": false
   },
   "outputs": [],
   "source": [
    "from sympy import *\n",
    "import sympy.physics.mechanics as me\n",
    "me.init_vprinting()\n",
    "\n",
    "theta, omega = me.dynamicsymbols(\"theta, omega\")\n",
    "m, rho, g, L, d = symbols(\"m, rho, g, L, d\")\n",
    "\n",
    "M, N, A, B = symbols(\"M, N, A, B\", cls=me.ReferenceFrame)\n",
    "N.orient_axis(M, M.z, pi)\n",
    "B.orient_axis(A, A.z, 0)\n",
    "\n",
    "wall = me.Body(\"Wall\", frame=N)\n",
    "# inertia wrt the cord's center of mass\n",
    "cord_inertia = me.inertia(A, 0, 0, rho * L**3 / 12)\n",
    "cord = me.Body(\"Cord\", frame=A, mass=rho * L, central_inertia=cord_inertia)\n",
    "particle = me.Body(\"Particle\", mass=m)\n",
    "\n",
    "cord.apply_force(rho * L * g * N.y)\n",
    "cord.apply_torque(-d * omega * cord.frame.z, reaction_body=wall)\n",
    "particle.apply_force(m * g * N.y)\n",
    "\n",
    "joint1 = me.PinJoint(\n",
    "    \"J1\", wall, cord, coordinates=theta, speeds=omega,\n",
    "    child_point=-L / 2 * cord.frame.y,\n",
    "    joint_axis=wall.z\n",
    ")\n",
    "joint2 = me.WeldJoint(\n",
    "    \"J2\", cord, particle,\n",
    "    parent_point=L/2 * cord.frame.y,\n",
    "    parent_interframe=B\n",
    ")\n",
    "\n",
    "method = me.JointsMethod(wall.frame, joint1, joint2)\n",
    "\n",
    "kane = me.KanesMethod(\n",
    "    wall.frame,\n",
    "    q_ind=[theta],\n",
    "    u_ind=[omega],\n",
    "    kd_eqs=method.kdes,\n",
    "    forcelist=method.loads,\n",
    "    bodies=method.bodies\n",
    ")\n",
    "\n",
    "fr, frstar = kane.kanes_equations()\n",
    "\n",
    "import numpy as np\n",
    "from pydy.system import System\n",
    "\n",
    "sys = System(kane)\n",
    "sys.constants = {\n",
    "    m: 1,\n",
    "    rho: 0,\n",
    "    L: 2,\n",
    "    g: 9.81,\n",
    "    d: 1.25\n",
    "}\n",
    "sys.initial_conditions = {\n",
    "    theta: np.pi/6,\n",
    "    omega: 0\n",
    "}\n",
    "\n",
    "fps = 60\n",
    "t0, tf = 0, 10\n",
    "n = int(fps * (tf - t0))\n",
    "sys.times = np.linspace(t0, tf, n)\n",
    "\n",
    "results = sys.integrate()\n",
    "\n",
    "display(kane.rhs()[1].subs(rho, 0))\n",
    "\n",
    "import matplotlib.pyplot as plt\n",
    "\n",
    "results_deg = np.rad2deg(results)\n",
    "fig, ax = plt.subplots(2, 1, sharex=True)\n",
    "ax[0].plot(sys.times, results_deg[:, 0])\n",
    "ax[0].set_ylabel(r\"$\\theta$ [deg]\")\n",
    "ax[1].plot(sys.times, results_deg[:, 1])\n",
    "ax[1].set_ylabel(r\"$\\omega$ [deg / s]\")\n",
    "ax[1].set_xlabel(\"Time [s]\")\n",
    "plt.show()"
   ]
  },
  {
   "cell_type": "code",
   "execution_count": null,
   "id": "cc92c861",
   "metadata": {},
   "outputs": [],
   "source": [
    "from pydy.viz import Scene, Cylinder, Sphere, VisualizationFrame\n",
    "\n",
    "cord_geom = Cylinder(length=L, radius=0.05, color='grey', name=\"cord\")\n",
    "particle_geom = Sphere(0.2, color=\"black\", name=\"particle\")\n",
    "\n",
    "cord_vf = VisualizationFrame('cord vf', A, cord.masscenter, cord_geom)\n",
    "particle_vf = VisualizationFrame('particle vf', N, particle.masscenter, particle_geom)\n",
    "\n",
    "O = cord.masscenter.locatenew(\"O\", -L/2 * cord.frame.y)\n",
    "scene = Scene(M, O, cord_vf, particle_vf, system=sys)\n",
    "scene.display_jupyter(axes_arrow_length=1)"
   ]
  },
  {
   "cell_type": "code",
   "execution_count": null,
   "id": "dac54c24",
   "metadata": {},
   "outputs": [],
   "source": [
    "cord.loads"
   ]
  },
  {
   "cell_type": "code",
   "execution_count": null,
   "id": "7fe69e85",
   "metadata": {},
   "outputs": [],
   "source": [
    "wall.loads"
   ]
  },
  {
   "cell_type": "code",
   "execution_count": null,
   "id": "5d02dbea",
   "metadata": {},
   "outputs": [],
   "source": [
    "type(cord)"
   ]
  },
  {
   "cell_type": "code",
   "execution_count": null,
   "id": "394c7ffd",
   "metadata": {},
   "outputs": [],
   "source": []
  }
 ],
 "metadata": {
  "kernelspec": {
   "display_name": "Python 3 (ipykernel)",
   "language": "python",
   "name": "python3"
  },
  "language_info": {
   "codemirror_mode": {
    "name": "ipython",
    "version": 3
   },
   "file_extension": ".py",
   "mimetype": "text/x-python",
   "name": "python",
   "nbconvert_exporter": "python",
   "pygments_lexer": "ipython3",
   "version": "3.10.12"
  }
 },
 "nbformat": 4,
 "nbformat_minor": 5
}
