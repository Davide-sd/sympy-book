{
 "cells": [
  {
   "cell_type": "markdown",
   "metadata": {},
   "source": [
    "## A.3 - Object Oriented Programming with Python"
   ]
  },
  {
   "cell_type": "markdown",
   "metadata": {},
   "source": [
    "### A.3.1 - Classes and Instances"
   ]
  },
  {
   "cell_type": "code",
   "execution_count": null,
   "metadata": {},
   "outputs": [],
   "source": [
    "import inspect\n",
    "def my_print(obj):\n",
    "    t = type(obj)\n",
    "    mro = inspect.getmro(t)\n",
    "    print(\"Type = \", t, \" - MRO = \", mro)\n",
    "\n",
    "a = 10\n",
    "my_print(a)"
   ]
  },
  {
   "cell_type": "code",
   "execution_count": null,
   "metadata": {},
   "outputs": [],
   "source": [
    "b = [1, 2, 3]\n",
    "c = {\"a\": 1, \"b\": 2, \"c\": 3}\n",
    "d = True\n",
    "my_print(b)\n",
    "my_print(c)\n",
    "my_print(d)"
   ]
  },
  {
   "cell_type": "code",
   "execution_count": null,
   "metadata": {},
   "outputs": [],
   "source": [
    "my_print(my_print)"
   ]
  },
  {
   "cell_type": "code",
   "execution_count": null,
   "metadata": {},
   "outputs": [],
   "source": [
    "help(a)"
   ]
  },
  {
   "cell_type": "code",
   "execution_count": null,
   "metadata": {},
   "outputs": [],
   "source": [
    "dir(a)"
   ]
  },
  {
   "cell_type": "markdown",
   "metadata": {},
   "source": [
    "### A.3.2 - Defining and Instantiating Classes"
   ]
  },
  {
   "cell_type": "code",
   "execution_count": null,
   "metadata": {},
   "outputs": [],
   "source": [
    "class MyPow:\n",
    "    def __init__(self, b, e):\n",
    "        self.b = b\n",
    "        self.e = e\n",
    "    \n",
    "    def evaluate(self):\n",
    "        return self.b**self.e\n",
    "    \n",
    "    def __str__(self):\n",
    "        return str(self.b) + \"**\" + str(self.e)\n",
    "    \n",
    "    __repr__ = __str__"
   ]
  },
  {
   "cell_type": "code",
   "execution_count": null,
   "metadata": {},
   "outputs": [],
   "source": [
    "globals()[\"MyPow\"]"
   ]
  },
  {
   "cell_type": "code",
   "execution_count": null,
   "metadata": {},
   "outputs": [],
   "source": [
    "a = MyPow(6, 2)\n",
    "print(a)\n",
    "print(type(a))"
   ]
  },
  {
   "cell_type": "code",
   "execution_count": null,
   "metadata": {},
   "outputs": [],
   "source": [
    "print(\"base = \", a.b)\n",
    "print(\"exponent = \", a.e)\n",
    "print(a.evaluate())"
   ]
  },
  {
   "cell_type": "code",
   "execution_count": null,
   "metadata": {},
   "outputs": [],
   "source": [
    "getattr(a, \"b\")"
   ]
  },
  {
   "cell_type": "code",
   "execution_count": null,
   "metadata": {},
   "outputs": [],
   "source": [
    "setattr(a, \"b\", 10)"
   ]
  },
  {
   "cell_type": "code",
   "execution_count": null,
   "metadata": {},
   "outputs": [],
   "source": [
    "hasattr(a, \"evaluate\")"
   ]
  },
  {
   "cell_type": "code",
   "execution_count": null,
   "metadata": {},
   "outputs": [],
   "source": [
    "a"
   ]
  },
  {
   "cell_type": "markdown",
   "metadata": {},
   "source": [
    "### A.3.3 - Constructor and Initialization"
   ]
  },
  {
   "cell_type": "code",
   "execution_count": null,
   "metadata": {},
   "outputs": [],
   "source": [
    "class MyPow:\n",
    "    def __new__(cls, b, e):\n",
    "        import numbers\n",
    "        check = lambda t: isinstance(t, numbers.Number)\n",
    "        if (not check(b)) or (not check(e)):\n",
    "            raise TypeError(\"`b` and `e` must be numeric\")\n",
    "        if (b == 0) and (e == 0):\n",
    "            raise ValueError(\"0**0: Indeterminate\")\n",
    "        if e == 0:\n",
    "            return 1\n",
    "        if e == 1:\n",
    "            return b\n",
    "        obj = object.__new__(cls)\n",
    "        return obj\n",
    "    \n",
    "    def __init__(self, b, e):\n",
    "        self.b = b\n",
    "        self.e = e\n",
    "    \n",
    "    def evaluate(self):\n",
    "        return self.b**self.e\n",
    "    \n",
    "    def __repr__(self):\n",
    "        return str(self.b) + \"**\" + str(self.e)\n",
    "    \n",
    "    __str__ = __repr__"
   ]
  },
  {
   "cell_type": "code",
   "execution_count": null,
   "metadata": {},
   "outputs": [],
   "source": [
    "a = MyPow(6, 2)"
   ]
  },
  {
   "cell_type": "code",
   "execution_count": null,
   "metadata": {},
   "outputs": [],
   "source": [
    "class MyPow:\n",
    "    def __new__(cls, b, e):\n",
    "        import numbers\n",
    "        check = lambda t: isinstance(t, numbers.Number)\n",
    "        if (not check(b)) or (not check(e)):\n",
    "            raise TypeError(\"`b` and `e` must be numeric\")\n",
    "        if (b == 0) and (e == 0):\n",
    "            raise ValueError(\"0**0: Indeterminate\")\n",
    "        if e == 0:\n",
    "            return 1\n",
    "        if e == 1:\n",
    "            return b\n",
    "        obj = object.__new__(cls)\n",
    "        obj.b = b\n",
    "        obj.e = e\n",
    "        return obj\n",
    "    \n",
    "    def evaluate(self):\n",
    "        return self.b**self.e\n",
    "    \n",
    "    def __repr__(self):\n",
    "        return str(self.b) + \"**\" + str(self.e)\n",
    "    \n",
    "    __str__ = __repr__"
   ]
  },
  {
   "cell_type": "markdown",
   "metadata": {},
   "source": [
    "### A.3.4 - Attributes – Instance Attribute vs Class Attribute"
   ]
  },
  {
   "cell_type": "code",
   "execution_count": null,
   "metadata": {},
   "outputs": [],
   "source": [
    "class MyClass:\n",
    "    attr1 = \"Class Attribute\"\n",
    "    \n",
    "    def __init__(self):\n",
    "        self.attr2 = \"Instance Attribute\""
   ]
  },
  {
   "cell_type": "code",
   "execution_count": null,
   "metadata": {},
   "outputs": [],
   "source": [
    "MyClass.__dict__"
   ]
  },
  {
   "cell_type": "code",
   "execution_count": null,
   "metadata": {},
   "outputs": [],
   "source": [
    "a = MyClass()\n",
    "a.__dict__"
   ]
  },
  {
   "cell_type": "code",
   "execution_count": null,
   "metadata": {},
   "outputs": [],
   "source": [
    "print(\"attr1:\", a.attr1)\n",
    "print(\"attr2:\", a.attr2)\n",
    "print(\"attr3:\", a.attr3)"
   ]
  },
  {
   "cell_type": "code",
   "execution_count": null,
   "metadata": {},
   "outputs": [],
   "source": [
    "a = MyClass()\n",
    "b = MyClass()\n",
    "a.attr1, b.attr1"
   ]
  },
  {
   "cell_type": "code",
   "execution_count": null,
   "metadata": {},
   "outputs": [],
   "source": [
    "MyClass.attr1 = \"Modified Class Attribute\"\n",
    "a.attr1, b.attr1"
   ]
  },
  {
   "cell_type": "code",
   "execution_count": null,
   "metadata": {},
   "outputs": [],
   "source": [
    "a.attr1 = \"Let's change it again\"\n",
    "a.attr1, b.attr1"
   ]
  },
  {
   "cell_type": "code",
   "execution_count": null,
   "metadata": {},
   "outputs": [],
   "source": [
    "print(a.__dict__)\n",
    "print(b.__dict__)\n",
    "print(MyClass.__dict__)"
   ]
  },
  {
   "cell_type": "markdown",
   "metadata": {},
   "source": [
    "### A.3.5 - Methods – Instance vs Class vs Static Methods"
   ]
  },
  {
   "cell_type": "code",
   "execution_count": null,
   "metadata": {},
   "outputs": [],
   "source": [
    "class Segment:\n",
    "    def __init__(self, x1, y1, x2, y2):\n",
    "        self.x1 = x1\n",
    "        self.x2 = x2\n",
    "        self.y1 = y1\n",
    "        self.y2 = y2\n",
    "    \n",
    "    def length(self):\n",
    "        import math\n",
    "        return math.sqrt((self.x1 - self.x2)**2 + \n",
    "                         (self.y1 - self.y2)**2)\n",
    "    \n",
    "    def get_coord_lists(self):\n",
    "        return [self.x1, self.x2], [self.y1, self.y2]\n",
    "    \n",
    "    def start(self):\n",
    "        return self.x1, self.y1\n",
    "    \n",
    "    def end(self):\n",
    "        return self.x2, self.y2\n",
    "    \n",
    "    @classmethod\n",
    "    def from_coord_lists(cls, x, y):\n",
    "        return cls(x[0], y[0], x[1], y[1])\n",
    "     \n",
    "    @classmethod\n",
    "    def connect_segments(cls, s1, s2):\n",
    "        return cls(*s1.end(), *s2.start())\n",
    "    \n",
    "    @staticmethod\n",
    "    def are_connected(s1, s2):\n",
    "        coincide = lambda x1, y1, x2, y2: (x1 == x2) and (y1 == y2)\n",
    "        if (coincide(*s1.end(), *s2.start()) or\n",
    "               coincide(*s1.start(), *s2.end())):\n",
    "            return True\n",
    "        return False\n",
    "    \n",
    "    def __repr__(self):\n",
    "        return (\"({}, {})\".format(self.x1, self.y1) + \" -> \"\n",
    "                   \"({}, {})\".format(self.x2, self.y2))\n",
    "    \n",
    "    __str__ = __repr__"
   ]
  },
  {
   "cell_type": "code",
   "execution_count": null,
   "metadata": {},
   "outputs": [],
   "source": [
    "s1 = Segment(1, 1, 4, 5)\n",
    "s1"
   ]
  },
  {
   "cell_type": "code",
   "execution_count": null,
   "metadata": {},
   "outputs": [],
   "source": [
    "s1.length()"
   ]
  },
  {
   "cell_type": "code",
   "execution_count": null,
   "metadata": {},
   "outputs": [],
   "source": [
    "s1.get_coord_lists()"
   ]
  },
  {
   "cell_type": "code",
   "execution_count": null,
   "metadata": {},
   "outputs": [],
   "source": [
    "s2 = Segment.from_coord_lists([6, 10], [6, 0])\n",
    "s2"
   ]
  },
  {
   "cell_type": "code",
   "execution_count": null,
   "metadata": {},
   "outputs": [],
   "source": [
    "s1.from_coord_lists([6, 10], [6, 0])"
   ]
  },
  {
   "cell_type": "code",
   "execution_count": null,
   "metadata": {},
   "outputs": [],
   "source": [
    "s3 = Segment.connect_segments(s1, s2)\n",
    "s3"
   ]
  },
  {
   "cell_type": "code",
   "execution_count": null,
   "metadata": {},
   "outputs": [],
   "source": [
    "Segment.are_connected(s1, s2), Segment.are_connected(s1, s3), Segment.are_connected(s2, s3)"
   ]
  },
  {
   "cell_type": "markdown",
   "metadata": {},
   "source": [
    "### A.3.6 - Encapsulation – Properties, Setters and Name Mangling"
   ]
  },
  {
   "cell_type": "code",
   "execution_count": null,
   "metadata": {},
   "outputs": [],
   "source": [
    "class Pen:\n",
    "    def __init__(self, color):\n",
    "        self.color = color\n",
    "    \n",
    "    def __repr__(self):\n",
    "        return str(self.color) + \" \" + type(self).__name__"
   ]
  },
  {
   "cell_type": "code",
   "execution_count": null,
   "metadata": {},
   "outputs": [],
   "source": [
    "r = Pen(\"Red\")\n",
    "r"
   ]
  },
  {
   "cell_type": "code",
   "execution_count": null,
   "metadata": {},
   "outputs": [],
   "source": [
    "r.color = \"Blue\"\n",
    "r"
   ]
  },
  {
   "cell_type": "markdown",
   "metadata": {},
   "source": [
    "#### Getters"
   ]
  },
  {
   "cell_type": "code",
   "execution_count": null,
   "metadata": {},
   "outputs": [],
   "source": [
    "class Pen:\n",
    "    def __init__(self, color):\n",
    "        self._color = color\n",
    "    \n",
    "    @property\n",
    "    def color(self):\n",
    "        return self._color\n",
    "    \n",
    "    def __repr__(self):\n",
    "        return str(self.color) + \" \" + type(self).__name__"
   ]
  },
  {
   "cell_type": "code",
   "execution_count": null,
   "metadata": {},
   "outputs": [],
   "source": [
    "r = Pen(\"Red\")\n",
    "r.color = \"Blue\""
   ]
  },
  {
   "cell_type": "markdown",
   "metadata": {},
   "source": [
    "#### Setters"
   ]
  },
  {
   "cell_type": "code",
   "execution_count": null,
   "metadata": {},
   "outputs": [],
   "source": [
    "class Switch:\n",
    "    def __init__(self, life=5, state=False):\n",
    "        self._life = life\n",
    "        self._state = state\n",
    "        self._counter = 0\n",
    "    \n",
    "    @property\n",
    "    def life(self):\n",
    "        return self._life\n",
    "\n",
    "    @property\n",
    "    def counter(self):\n",
    "        return self._counter\n",
    "    \n",
    "    @property\n",
    "    def state(self):\n",
    "        return self._state\n",
    "    \n",
    "    @state.setter\n",
    "    def state(self, value):\n",
    "        if not isinstance(value, bool):\n",
    "            raise TypeError(\"state must be either True or False\")\n",
    "        if value != self._state:\n",
    "            self._state = value\n",
    "            self._counter += 1\n",
    "            if self._counter >= self._life:\n",
    "                import warnings\n",
    "                warnings.warn(\"Warning: It is time to replace the current switch\")\n",
    "    \n",
    "    def __repr__(self):\n",
    "        return type(self).__name__ + \"(state={}, counter={})\".format(self.state, self.counter)"
   ]
  },
  {
   "cell_type": "code",
   "execution_count": null,
   "metadata": {},
   "outputs": [],
   "source": [
    "s = Switch()\n",
    "s"
   ]
  },
  {
   "cell_type": "code",
   "execution_count": null,
   "metadata": {},
   "outputs": [],
   "source": [
    "s.state = True\n",
    "s"
   ]
  },
  {
   "cell_type": "markdown",
   "metadata": {},
   "source": [
    "#### Name Mangling"
   ]
  },
  {
   "cell_type": "code",
   "execution_count": null,
   "metadata": {},
   "outputs": [],
   "source": [
    "class Pen:\n",
    "    def __init__(self, color):\n",
    "        self.__color = color\n",
    "    \n",
    "    def __repr__(self):\n",
    "        return str(self.__color) + \" \" + type(self).__name__"
   ]
  },
  {
   "cell_type": "code",
   "execution_count": null,
   "metadata": {},
   "outputs": [],
   "source": [
    "r = Pen(\"Red\")\n",
    "r.__color = \"Blue\"\n",
    "r"
   ]
  },
  {
   "cell_type": "code",
   "execution_count": null,
   "metadata": {},
   "outputs": [],
   "source": [
    "r.__dict__"
   ]
  },
  {
   "cell_type": "code",
   "execution_count": null,
   "metadata": {},
   "outputs": [],
   "source": [
    "g = Pen(\"Green\")\n",
    "g.__dict__"
   ]
  },
  {
   "cell_type": "code",
   "execution_count": null,
   "metadata": {},
   "outputs": [],
   "source": [
    "g.__color"
   ]
  },
  {
   "cell_type": "markdown",
   "metadata": {},
   "source": [
    "### A.3.7 - Inheritance and Polymorphism"
   ]
  },
  {
   "cell_type": "code",
   "execution_count": null,
   "metadata": {},
   "outputs": [],
   "source": [
    "class Switch:\n",
    "    def __init__(self, state=False, life=5):\n",
    "        self._life = life\n",
    "        self._state = state\n",
    "        self._counter = 0\n",
    "    \n",
    "    @property\n",
    "    def life(self):\n",
    "        return self._life\n",
    "\n",
    "    @property\n",
    "    def counter(self):\n",
    "        return self._counter\n",
    "    \n",
    "    @property\n",
    "    def state(self):\n",
    "        return self._state\n",
    "    \n",
    "    @state.setter\n",
    "    def state(self, value):\n",
    "        self._change_state(value)\n",
    "    \n",
    "    def _check_life(self):\n",
    "        if self._counter >= self._life:\n",
    "            import warnings\n",
    "            warnings.warn(\"Warning: It is time to replace the current switch\")\n",
    "    \n",
    "    def _update_value(self, value, counter_unit=1):\n",
    "        if value != self._state:\n",
    "            self._state = value\n",
    "            self._counter += counter_unit\n",
    "            self._check_life()\n",
    "    \n",
    "    def __repr__(self):\n",
    "        return type(self).__name__ + \"(state={}, counter={})\".format(self.state, self.counter)"
   ]
  },
  {
   "cell_type": "code",
   "execution_count": null,
   "metadata": {},
   "outputs": [],
   "source": [
    "class Button(Switch):\n",
    "    def __init__(self, state=False, life=5):\n",
    "        Button._check_value(state)\n",
    "        super().__init__(state, life)\n",
    "    \n",
    "    @staticmethod\n",
    "    def _check_value(value):\n",
    "        if not isinstance(value, bool):\n",
    "            raise TypeError(\"state must be either True or False\")\n",
    "            \n",
    "    def _change_state(self, value):\n",
    "        Button._check_value(value)\n",
    "        self._update_value(value, 1)"
   ]
  },
  {
   "cell_type": "code",
   "execution_count": null,
   "metadata": {},
   "outputs": [],
   "source": [
    "b = Button(True, 10)\n",
    "b"
   ]
  },
  {
   "cell_type": "code",
   "execution_count": null,
   "metadata": {},
   "outputs": [],
   "source": [
    "b.state = False\n",
    "b"
   ]
  },
  {
   "cell_type": "code",
   "execution_count": null,
   "metadata": {},
   "outputs": [],
   "source": [
    "class PushButton(Button):\n",
    "    def __init__(self, life=5):\n",
    "        super().__init__(False, life)\n",
    "        \n",
    "    def _change_state(self, value):\n",
    "        PushButton._check_value(value)\n",
    "        self._update_value(value, 0.5)"
   ]
  },
  {
   "cell_type": "code",
   "execution_count": null,
   "metadata": {},
   "outputs": [],
   "source": [
    "p = PushButton(5)\n",
    "p"
   ]
  },
  {
   "cell_type": "code",
   "execution_count": null,
   "metadata": {},
   "outputs": [],
   "source": [
    "p.state = True\n",
    "p"
   ]
  },
  {
   "cell_type": "code",
   "execution_count": null,
   "metadata": {},
   "outputs": [],
   "source": [
    "p.state = False\n",
    "p"
   ]
  },
  {
   "cell_type": "code",
   "execution_count": null,
   "metadata": {},
   "outputs": [],
   "source": [
    "class Selector(Switch):\n",
    "    def __init__(self, n_states, current_state, life=5):\n",
    "        Selector._check_value(n_states, current_state)\n",
    "        self.n_states = n_states\n",
    "        super().__init__(current_state, life)\n",
    "    \n",
    "    @staticmethod\n",
    "    def _check_value(n_states, current_state):\n",
    "        if (current_state < 0) or (current_state >= n_states):\n",
    "            raise ValueError(\"It must be 0 <= current_state < {}\".format(n_states))\n",
    "    \n",
    "    def _change_state(self, value):\n",
    "        Selector._check_value(self.n_states, value)\n",
    "        self._update_value(value, abs(value - self.state))\n",
    "    \n",
    "    def __repr__(self):\n",
    "        s = super().__repr__()\n",
    "        return s.replace(\"Selector(\", \"Selector(N={}, current \".format(self.n_states))"
   ]
  },
  {
   "cell_type": "code",
   "execution_count": null,
   "metadata": {},
   "outputs": [],
   "source": [
    "s = Selector(3, 1)\n",
    "s"
   ]
  },
  {
   "cell_type": "code",
   "execution_count": null,
   "metadata": {},
   "outputs": [],
   "source": [
    "s.state = 2\n",
    "s"
   ]
  },
  {
   "cell_type": "code",
   "execution_count": null,
   "metadata": {},
   "outputs": [],
   "source": [
    "s.state = 0\n",
    "s"
   ]
  },
  {
   "cell_type": "code",
   "execution_count": null,
   "metadata": {},
   "outputs": [],
   "source": [
    "print(isinstance(b, Switch), isinstance(p, Switch), isinstance(s, Switch))\n",
    "print(isinstance(b, Button), isinstance(p, Button), isinstance(s, Button))\n",
    "print(isinstance(b, PushButton), isinstance(p, PushButton), isinstance(s, PushButton))"
   ]
  },
  {
   "cell_type": "code",
   "execution_count": null,
   "metadata": {},
   "outputs": [],
   "source": [
    "print(issubclass(Button, Switch), issubclass(PushButton, Switch), issubclass(Selector, Switch), issubclass(PushButton, Button))\n",
    "print(issubclass(Switch, Button), issubclass(Button, PushButton))"
   ]
  },
  {
   "cell_type": "markdown",
   "metadata": {},
   "source": [
    "### A.3.8 - Multiple Inheritance and Method Resolution Order"
   ]
  },
  {
   "cell_type": "code",
   "execution_count": null,
   "metadata": {},
   "outputs": [],
   "source": [
    "class A:\n",
    "    def __init__(self):\n",
    "        print(\"Init A\")\n",
    "        super().__init__()\n",
    "        \n",
    "class B(A):\n",
    "    def __init__(self):\n",
    "        print(\"Init B\")\n",
    "        super().__init__()\n",
    "        \n",
    "    def print(self):\n",
    "        print(\"Printing from B\")\n",
    "        \n",
    "class C(A):\n",
    "    def __init__(self):\n",
    "        print(\"Init C\")\n",
    "        super().__init__()\n",
    "    \n",
    "    def print(self):\n",
    "        print(\"Printing from C\")\n",
    "        \n",
    "class D(B, C):\n",
    "    def __init__(self):\n",
    "        print(\"Init D\")\n",
    "        super().__init__()\n",
    "    \n",
    "    def print(self):\n",
    "        print(\"Printing from D\")\n",
    "        C.print(self)"
   ]
  },
  {
   "cell_type": "code",
   "execution_count": null,
   "metadata": {},
   "outputs": [],
   "source": [
    "d = D()"
   ]
  },
  {
   "cell_type": "code",
   "execution_count": null,
   "metadata": {},
   "outputs": [],
   "source": [
    "d.print()"
   ]
  },
  {
   "cell_type": "markdown",
   "metadata": {},
   "source": [
    "### A.3.9 - Composition"
   ]
  },
  {
   "cell_type": "code",
   "execution_count": null,
   "metadata": {},
   "outputs": [],
   "source": [
    "class Address:\n",
    "    def __init__(self, number, street, city, state, postal_code):\n",
    "        self.number = number\n",
    "        self.street = street\n",
    "        self.city = city\n",
    "        self.state = state\n",
    "        self.postal_code = postal_code\n",
    "    \n",
    "    def __repr__(self):\n",
    "        return \"{}, {}, {}, {}, {}\".format(self.number,\n",
    "                  self.street, self.city, self.state, self.postal_code)\n",
    "\n",
    "class Person:\n",
    "    def __init__(self, name, surname, age, address):\n",
    "        self.name = name\n",
    "        self.surname = surname\n",
    "        self.age = age\n",
    "        self.address = address\n",
    "    \n",
    "    def __repr__(self):\n",
    "        return \"Name: {}\\nSurname: {}\\nAge: {}\\nAddress: {}\".format(self.name,\n",
    "                     self.surname, self.age, self.address)"
   ]
  },
  {
   "cell_type": "code",
   "execution_count": null,
   "metadata": {},
   "outputs": [],
   "source": [
    "a = Address(347, \"Jones Lane\", \"Niagara Falls\", \"NY\", \"14304\")\n",
    "p = Person(\"TestName\", \"TestSurname\", 30, a)\n",
    "p"
   ]
  },
  {
   "cell_type": "code",
   "execution_count": null,
   "metadata": {},
   "outputs": [],
   "source": [
    "class Course:\n",
    "    def __init__(self, course_id, name, year, duration):\n",
    "        self.course_id = course_id\n",
    "        self.name = name\n",
    "        self.year = year\n",
    "        self.duration = duration\n",
    "        self.teachers = []\n",
    "        self.students = []\n",
    "    \n",
    "    def __repr__(self):\n",
    "        i, n, y, d = self.course_id, self.name, self.year, self.duration\n",
    "        return \"'{}, {}, {}, {} hours'\".format(i, n, y, d)\n",
    "    \n",
    "    def __str__(self):\n",
    "        i, n, y, d = self.course_id, self.name, self.year, self.duration\n",
    "        return (\n",
    "            \"{}, {}, {}, {} hours\".format(i, n, y, d) + \n",
    "            \"\\nTeachers: \" + \", \".join(t.name + \" \" + t.surname for t in self.teachers) + \n",
    "            \"\\nStudents: \" + \", \".join(t.name + \" \" + t.surname for t in self.students)\n",
    "        )"
   ]
  },
  {
   "cell_type": "code",
   "execution_count": null,
   "metadata": {},
   "outputs": [],
   "source": [
    "class Teaching:\n",
    "    def __init__(self, person):\n",
    "        self.person = person\n",
    "        self.courses = []\n",
    "    \n",
    "    def assign(self, course):\n",
    "        self.courses.append(course)\n",
    "        course.teachers.append(self.person)\n",
    "\n",
    "class Studying:\n",
    "    def __init__(self, person):\n",
    "        self.person = person\n",
    "        self.courses = []\n",
    "    \n",
    "    def enroll(self, course):\n",
    "        self.courses.append(course)\n",
    "        course.students.append(self.person)"
   ]
  },
  {
   "cell_type": "code",
   "execution_count": null,
   "metadata": {},
   "outputs": [],
   "source": [
    "class Person:\n",
    "    def __init__(self, name, surname, age, address):\n",
    "        self.name = name\n",
    "        self.surname = surname\n",
    "        self.age = age\n",
    "        self.address = address\n",
    "        self.studying = Studying(self)\n",
    "        self.teaching = Teaching(self)\n",
    "    \n",
    "    def __repr__(self):\n",
    "        return \"Name: {}, Surname: {}, Age: {}\".format(self.name,\n",
    "                     self.surname, self.age)"
   ]
  },
  {
   "cell_type": "code",
   "execution_count": null,
   "metadata": {},
   "outputs": [],
   "source": [
    "a = Address(10, \"Test\", \"Address\", \"City\", 12345)\n",
    "p1 = Person(\"John\", \"Smith\", 18, a)\n",
    "p2 = Person(\"Jessica\", \"Williams\", 18, a)\n",
    "p3 = Person(\"Mark\", \"Jones\", 18, a)\n",
    "p4 = Person(\"David\", \"Jones\", 30, a)\n",
    "c1 = Course(1, \"Sympy Course\", 2020, 9)"
   ]
  },
  {
   "cell_type": "code",
   "execution_count": null,
   "metadata": {},
   "outputs": [],
   "source": [
    "p1.studying.enroll(c1)\n",
    "p2.studying.enroll(c1)\n",
    "p3.studying.enroll(c1)\n",
    "p4.teaching.assign(c1)"
   ]
  },
  {
   "cell_type": "code",
   "execution_count": null,
   "metadata": {},
   "outputs": [],
   "source": [
    "print(c1)"
   ]
  },
  {
   "cell_type": "code",
   "execution_count": null,
   "metadata": {},
   "outputs": [],
   "source": [
    "p1.studying.courses"
   ]
  },
  {
   "cell_type": "markdown",
   "metadata": {},
   "source": [
    "### A.3.10 - Magic Methods and Operator Overloading"
   ]
  },
  {
   "cell_type": "code",
   "execution_count": null,
   "metadata": {},
   "outputs": [],
   "source": [
    "class MyPow:\n",
    "    def __init__(self, b, e):\n",
    "        self.b = b\n",
    "        self.e = e\n",
    "    \n",
    "    def __repr__(self):\n",
    "        return \"MyPow({}, {})\".format(self.b, self.e)\n",
    "    \n",
    "    def __str__(self):\n",
    "        return \"{}**{}\".format(self.b, self.e)"
   ]
  },
  {
   "cell_type": "code",
   "execution_count": null,
   "metadata": {},
   "outputs": [],
   "source": [
    "a = MyPow(5, 2)\n",
    "r1 = repr(a)\n",
    "r2 = str(a)\n",
    "display(r1, r2)"
   ]
  },
  {
   "cell_type": "code",
   "execution_count": null,
   "metadata": {},
   "outputs": [],
   "source": [
    "a"
   ]
  },
  {
   "cell_type": "code",
   "execution_count": null,
   "metadata": {},
   "outputs": [],
   "source": []
  }
 ],
 "metadata": {
  "kernelspec": {
   "display_name": "Python 3",
   "language": "python",
   "name": "python3"
  },
  "language_info": {
   "codemirror_mode": {
    "name": "ipython",
    "version": 3
   },
   "file_extension": ".py",
   "mimetype": "text/x-python",
   "name": "python",
   "nbconvert_exporter": "python",
   "pygments_lexer": "ipython3",
   "version": "3.7.5"
  },
  "toc": {
   "base_numbering": 1,
   "nav_menu": {},
   "number_sections": true,
   "sideBar": true,
   "skip_h1_title": false,
   "title_cell": "Table of Contents",
   "title_sidebar": "Contents",
   "toc_cell": false,
   "toc_position": {},
   "toc_section_display": true,
   "toc_window_display": false
  }
 },
 "nbformat": 4,
 "nbformat_minor": 2
}
