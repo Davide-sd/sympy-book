{
 "cells": [
  {
   "cell_type": "markdown",
   "id": "57d8ef25",
   "metadata": {},
   "source": [
    "## Simple Pendulum"
   ]
  },
  {
   "cell_type": "code",
   "execution_count": null,
   "id": "72a94ad0",
   "metadata": {},
   "outputs": [],
   "source": [
    "from sympy import *\n",
    "import sympy.physics.mechanics as me\n",
    "me.init_vprinting()"
   ]
  },
  {
   "cell_type": "code",
   "execution_count": null,
   "id": "561bf3a3",
   "metadata": {},
   "outputs": [],
   "source": [
    "theta, omega = me.dynamicsymbols(\"theta, omega\")\n",
    "thetad = me.dynamicsymbols(\"theta\", 1)\n",
    "L = symbols(\"L\")\n",
    "\n",
    "M, N, A = symbols(\"M, N, A\", cls=me.ReferenceFrame)\n",
    "N.orient_axis(M, M.z, pi)\n",
    "A.orient_axis(N, N.z, theta)\n",
    "\n",
    "O, P, G = symbols(\"O, P, G\", cls=me.Point)\n",
    "G.set_pos(O, L / 2 * A.y)\n",
    "P.set_pos(O, L * A.y)\n",
    "\n",
    "O.set_vel(N, 0)\n",
    "G.v2pt_theory(O, N, A)\n",
    "G.a2pt_theory(O, N, A)\n",
    "P.v2pt_theory(O, N, A)\n",
    "P.a2pt_theory(O, N, A)"
   ]
  },
  {
   "cell_type": "code",
   "execution_count": null,
   "id": "da892342",
   "metadata": {},
   "outputs": [],
   "source": [
    "q_ind = [theta]\n",
    "u_ind = [omega]\n",
    "kde = [thetad - omega]\n",
    "\n",
    "kane = me.KanesMethod(\n",
    "    N,\n",
    "    q_ind=q_ind,\n",
    "    u_ind=u_ind,\n",
    "    kd_eqs=kde\n",
    ")"
   ]
  },
  {
   "cell_type": "code",
   "execution_count": null,
   "id": "e21215bb",
   "metadata": {},
   "outputs": [],
   "source": [
    "m, rho, g = symbols(\"m, rho, g\")\n",
    "cord_mass = rho * L\n",
    "cord = me.RigidBody(\n",
    "    \"Cord\", G, A, cord_mass,\n",
    "    (me.inertia(A, rho * L**3 / 12, 0, rho * L**3 / 12), G))\n",
    "particle = me.Particle(\"Particle\", P, m)"
   ]
  },
  {
   "cell_type": "code",
   "execution_count": null,
   "id": "c6300d52",
   "metadata": {},
   "outputs": [],
   "source": [
    "bodies = [cord, particle]\n",
    "loads = [\n",
    "    (G, cord_mass * g * N.y),\n",
    "    (P, m * g * N.y)\n",
    "]"
   ]
  },
  {
   "cell_type": "code",
   "execution_count": null,
   "id": "0c32d3f3",
   "metadata": {},
   "outputs": [],
   "source": [
    "fr, frstar = kane.kanes_equations(bodies, loads)\n",
    "fr + frstar"
   ]
  },
  {
   "cell_type": "code",
   "execution_count": null,
   "id": "b4c1b342",
   "metadata": {},
   "outputs": [],
   "source": [
    "mm = kane.mass_matrix_full\n",
    "fm = kane.forcing_full\n",
    "eom = kane.rhs() # it performs mm.inv() * fm\n",
    "t = symbols(\"t\")\n",
    "display(mm, fm, Eq(Matrix([thetad, omega.diff(t)]), eom))"
   ]
  },
  {
   "cell_type": "code",
   "execution_count": null,
   "id": "ce3e5d39",
   "metadata": {},
   "outputs": [],
   "source": [
    "rhs = eom[1].subs(rho, 0)\n",
    "Eq(thetad.diff(t), rhs)"
   ]
  },
  {
   "cell_type": "markdown",
   "id": "f27e81e0-1ccc-4b5f-b978-e2e505b9fbc1",
   "metadata": {},
   "source": [
    "### Adding friction and Reaction forces to the Pendulum."
   ]
  },
  {
   "cell_type": "code",
   "execution_count": null,
   "id": "c1a3b591-3631-47ed-88ab-ec9f859cec09",
   "metadata": {},
   "outputs": [],
   "source": [
    "theta, omega = me.dynamicsymbols(\"theta, omega\")\n",
    "thetad = me.dynamicsymbols(\"theta\", 1)\n",
    "# reaction forces acting on point O\n",
    "Rx, Ry, Rz = me.dynamicsymbols(\"R_x, R_y, R_z\")\n",
    "# auxiliary velocities needed to compute the reaction forces\n",
    "u1_aux, u2_aux, u3_aux = me.dynamicsymbols(\"u_aux^((1:4))\")\n",
    "\n",
    "L, m, rho, g, d = symbols(\"L, m, rho, g, d\")\n",
    "\n",
    "M, N, A = symbols(\"M, N, A\", cls=me.ReferenceFrame)\n",
    "N.orient_axis(M, M.z, pi)\n",
    "A.orient_axis(N, N.z, theta)\n",
    "\n",
    "O, P, G = symbols(\"O, P, G\", cls=me.Point)\n",
    "G.set_pos(O, L / 2 * A.y)\n",
    "P.set_pos(O, L * A.y)\n",
    "\n",
    "# IMPORTANT: set fictitious generalized speeds on the point where\n",
    "# the reaction forces are acting on.\n",
    "O.set_vel(N, u1_aux * N.x + u2_aux * N.y + u3_aux * N.z)\n",
    "G.v2pt_theory(O, N, A)\n",
    "G.a2pt_theory(O, N, A)\n",
    "P.v2pt_theory(O, N, A)\n",
    "P.a2pt_theory(O, N, A)\n",
    "\n",
    "q_ind = [theta]\n",
    "u_ind = [omega]\n",
    "u_aux = [u1_aux, u2_aux, u3_aux]\n",
    "kde = [thetad - omega]\n",
    "\n",
    "kane = me.KanesMethod(\n",
    "    N,\n",
    "    q_ind=q_ind,\n",
    "    u_ind=u_ind,\n",
    "    kd_eqs=kde,\n",
    "    u_auxiliary=u_aux\n",
    ")\n",
    "\n",
    "cord_mass = rho * L\n",
    "cord = me.RigidBody(\n",
    "    \"Cord\", G, A, cord_mass,\n",
    "    (me.inertia(A, rho * L**3 / 12, 0, rho * L**3 / 12), G))\n",
    "particle = me.Particle(\"Particle\", P, m)\n",
    "\n",
    "bodies = [cord, particle]\n",
    "loads = [\n",
    "    (G, cord_mass * g * N.y),\n",
    "    (P, m * g * N.y),\n",
    "    # damping torque\n",
    "    (A, -d * omega * A.z),\n",
    "    (N, d * omega * A.z),\n",
    "    # reaction forces acting on O\n",
    "    (O, Rx * N.x + Ry * N.y + Rz * N.z)\n",
    "]\n",
    "\n",
    "fr, frstar = kane.kanes_equations(bodies, loads)\n",
    "fr + frstar"
   ]
  },
  {
   "cell_type": "code",
   "execution_count": null,
   "id": "77e703c0-a078-4119-adaa-8ab098bc8036",
   "metadata": {},
   "outputs": [],
   "source": [
    "mm = kane.mass_matrix_full\n",
    "fm = kane.forcing_full\n",
    "(mm, fm, mm.inv() * fm)"
   ]
  },
  {
   "cell_type": "code",
   "execution_count": null,
   "id": "589debbc-9225-4d63-bbdf-0c69abd1d87b",
   "metadata": {},
   "outputs": [],
   "source": [
    "kane.auxiliary_eqs"
   ]
  },
  {
   "cell_type": "code",
   "execution_count": null,
   "id": "770d9e18-5b60-4ab2-8689-26970dfff7b2",
   "metadata": {},
   "outputs": [],
   "source": [
    "R_eqns = solve(kane.auxiliary_eqs, [Rx, Ry, Rz])\n",
    "R_eqns = Matrix(list(R_eqns.values())).T\n",
    "R_eqns.T"
   ]
  },
  {
   "cell_type": "markdown",
   "id": "c2837519",
   "metadata": {},
   "source": [
    "### Extraction of information with Scipy."
   ]
  },
  {
   "cell_type": "code",
   "execution_count": null,
   "id": "0dbea78c-4dac-4d40-8839-02eac3ca9ce8",
   "metadata": {},
   "outputs": [],
   "source": [
    "from scipy.integrate import solve_ivp\n",
    "import numpy as np\n",
    "\n",
    "mm = kane.mass_matrix_full\n",
    "fm = kane.forcing_full\n",
    "constants = {L: 2, g: 9.81, m: 1, rho: 0, d: 1.25}\n",
    "\n",
    "t = symbols(\"t\")\n",
    "arguments_1 = [theta, omega] + list(constants.keys())\n",
    "arguments_2 = (\n",
    "    [theta, omega] +\n",
    "    [theta.diff(t), omega.diff(t)] +\n",
    "    list(constants.keys())\n",
    ")\n",
    "\n",
    "mm_func = lambdify(arguments_1, mm, cse=True)\n",
    "fm_func = lambdify(arguments_1, fm, cse=True)\n",
    "R_eqns_func = lambdify(arguments_2, R_eqns, cse=False)\n",
    "\n",
    "def func_to_integrate(t, x, args):\n",
    "    values = np.concatenate((x, args))\n",
    "    solution = np.linalg.solve(\n",
    "        mm_func(*values),\n",
    "        fm_func(*values)\n",
    "    )\n",
    "    return solution.flatten()\n",
    "\n",
    "t_span = [0, 10]\n",
    "x0 = [np.pi/6, 0]\n",
    "fps = 60\n",
    "t_eval = np.linspace(*t_span, int(fps * (t_span[1] - t_span[0])))\n",
    "results = solve_ivp(func_to_integrate, t_span, x0, args=(list(constants.values()), ), t_eval=t_eval)\n",
    "results"
   ]
  },
  {
   "cell_type": "code",
   "execution_count": null,
   "id": "d0845d00-e94b-40c6-b36c-eb3cc23386d7",
   "metadata": {},
   "outputs": [],
   "source": [
    "import matplotlib.pyplot as plt\n",
    "\n",
    "results_deg = np.rad2deg(results.y)\n",
    "fig, ax = plt.subplots(2, 1, sharex=True)\n",
    "ax[0].plot(results.t, results_deg[0, :])\n",
    "ax[0].set_ylabel(r\"$\\theta$ [deg]\")\n",
    "ax[1].plot(results.t, results_deg[1, :])\n",
    "ax[1].set_ylabel(r\"$\\omega$ [deg / s]\")\n",
    "ax[1].set_xlabel(\"Time [s]\")\n",
    "plt.show()"
   ]
  },
  {
   "cell_type": "code",
   "execution_count": null,
   "id": "442759a3-3bf7-4128-af48-0f8e1189038b",
   "metadata": {},
   "outputs": [],
   "source": [
    "import matplotlib.pyplot as plt\n",
    "fig, ax1 = plt.subplots(figsize=(5, 2.5), layout='constrained')\n",
    "ax2 = ax1.twinx()\n",
    "ax1.plot(results.t, results_deg[0, :], color=\"k\")\n",
    "ax1.set_ylabel(r\"$\\theta$ [deg]\")\n",
    "ax1.set_xlabel(\"Time [s]\")\n",
    "ax2.plot(results.t, results_deg[1, :], linestyle=\"--\", color=\"k\")\n",
    "ax2.set_ylabel(r\"$\\omega$ [deg / s]\")\n",
    "fig.legend([r\"$\\theta$\", r\"$\\omega$\"], ncol=2, loc=\"outside lower center\")\n",
    "fig.savefig(\"24-simple-pendulum-2.pgf\")"
   ]
  },
  {
   "cell_type": "code",
   "execution_count": null,
   "id": "83a14a91-191a-466f-88f7-2d9ff042e40e",
   "metadata": {},
   "outputs": [],
   "source": [
    "v_P = P.vel(N).to_matrix(N)\n",
    "v_P"
   ]
  },
  {
   "cell_type": "code",
   "execution_count": null,
   "id": "c29330f6-bc08-4556-bdfa-b43d48fcf8ee",
   "metadata": {},
   "outputs": [],
   "source": [
    "kindiffdict = kane.kindiffdict()\n",
    "aux_dict = {aux_speed: 0 for aux_speed in u_aux}\n",
    "display(kindiffdict, aux_dict)"
   ]
  },
  {
   "cell_type": "code",
   "execution_count": null,
   "id": "0bee395e-94df-4230-b69a-aa9c3bbf4018",
   "metadata": {},
   "outputs": [],
   "source": [
    "v_P = v_P.subs(kindiffdict).subs(aux_dict)\n",
    "v_P"
   ]
  },
  {
   "cell_type": "code",
   "execution_count": null,
   "id": "700e5c29-4155-4e5a-b02d-2832fab38b30",
   "metadata": {},
   "outputs": [],
   "source": [
    "v_P_x_func = lambdify([L, theta, omega], v_P[0])\n",
    "v_P_y_func = lambdify([L, theta, omega], v_P[1])\n",
    "v_P_x_res = v_P_x_func(constants[L], results.y[0, :], results.y[1, :])\n",
    "v_P_y_res = v_P_y_func(constants[L], results.y[0, :], results.y[1, :])\n",
    "fig, ax = plt.subplots()\n",
    "ax.plot(results.t, v_P_x_res, label=r\"$\\vec{v}_{P} \\cdot \\hat{n}_{x}$\")\n",
    "ax.plot(results.t, v_P_y_res, label=r\"$\\vec{v}_{P} \\cdot \\hat{n}_{y}$\")\n",
    "ax.legend()\n",
    "ax.set_xlabel(\"Time [s]\")\n",
    "ax.set_ylabel(\"Velocity [m/s]\")\n",
    "plt.show()"
   ]
  },
  {
   "cell_type": "code",
   "execution_count": null,
   "id": "d533116a-94f0-4d3f-a189-b27462943aeb",
   "metadata": {},
   "outputs": [],
   "source": [
    "v_P_x_func = lambdify([L, theta, omega], v_P[0])\n",
    "v_P_y_func = lambdify([L, theta, omega], v_P[1])\n",
    "v_P_x_res = v_P_x_func(constants[L], results.y[0, :], results.y[1, :])\n",
    "v_P_y_res = v_P_y_func(constants[L], results.y[0, :], results.y[1, :])\n",
    "fig, ax = plt.subplots(figsize=(5, 2.5), layout='constrained')\n",
    "ax.plot(results.t, v_P_x_res, \"k\", label=r\"$\\vec{v}_{P} \\cdot \\hat{n}_{x}$\")\n",
    "ax.plot(results.t, v_P_y_res, \"k--\", label=r\"$\\vec{v}_{P} \\cdot \\hat{n}_{y}$\")\n",
    "fig.legend(ncol=2, loc=\"outside lower center\")\n",
    "ax.set_xlabel(\"Time [s]\")\n",
    "ax.set_ylabel(\"Velocity [m/s]\")\n",
    "plt.show()\n",
    "fig.savefig(\"24-simple-pendulum-3.pgf\")"
   ]
  },
  {
   "cell_type": "code",
   "execution_count": null,
   "id": "65c7eed2-ba8f-4e64-a4f1-85f064e6023d",
   "metadata": {},
   "outputs": [],
   "source": [
    "results_matrix = results.y.T\n",
    "states_dot = np.zeros_like(results_matrix)\n",
    "reactions = np.zeros((results_matrix.shape[0], 3))\n",
    "\n",
    "for i in range(results_matrix.shape[0]):\n",
    "    args_1 = list(results_matrix[i, :]) + list(constants.values())\n",
    "    states_dot[i, :] = np.linalg.solve(\n",
    "        mm_func(*args_1),\n",
    "        fm_func(*args_1)\n",
    "    ).flatten()\n",
    "    args_2 = list(results_matrix[i, :]) + list(states_dot[i, :]) + list(constants.values())\n",
    "    reactions[i, :] = R_eqns_func(*args_2)"
   ]
  },
  {
   "cell_type": "code",
   "execution_count": null,
   "id": "01770b7e-d2b9-426d-990d-3d8d5d5d52db",
   "metadata": {},
   "outputs": [],
   "source": [
    "fig, ax = plt.subplots()\n",
    "ax.plot(results.t, reactions[:, 0], label=\"$R_{x}$\")\n",
    "ax.plot(results.t, reactions[:, 1], label=\"$R_{y}$\")\n",
    "ax.plot(results.t, reactions[:, 2], label=\"$R_{z}$\")\n",
    "ax.set_xlabel(\"time [s]\")\n",
    "ax.set_ylabel(\"force [N]\")\n",
    "ax.legend()\n",
    "plt.show()"
   ]
  },
  {
   "cell_type": "code",
   "execution_count": null,
   "id": "2faf0476-2d20-466c-af40-a0919d6b45ae",
   "metadata": {},
   "outputs": [],
   "source": [
    "fig, ax = plt.subplots(figsize=(5, 2.5), layout='constrained')\n",
    "ax.plot(results.t, reactions[:, 0], \"k\", label=\"$R_{x}$\")\n",
    "ax.plot(results.t, reactions[:, 1], \"k--\", label=\"$R_{y}$\")\n",
    "ax.plot(results.t, reactions[:, 2], \"k:\", label=\"$R_{z}$\")\n",
    "fig.legend(ncol=3, loc=\"outside lower center\")\n",
    "ax.set_xlabel(\"Time [s]\")\n",
    "ax.set_ylabel(\"Force [N]\")\n",
    "plt.show()\n",
    "fig.savefig(\"24-simple-pendulum-4.pgf\")"
   ]
  },
  {
   "cell_type": "markdown",
   "id": "2fcf57c3",
   "metadata": {},
   "source": [
    "### Animation with Matplotlib"
   ]
  },
  {
   "cell_type": "code",
   "execution_count": null,
   "id": "a1abbb76",
   "metadata": {},
   "outputs": [],
   "source": [
    "from matplotlib.animation import FuncAnimation\n",
    "from IPython.display import HTML\n",
    "\n",
    "fig, ax = plt.subplots()\n",
    "xp = constants[L] * np.sin(results.y[0, 0])\n",
    "yp = -constants[L] * np.cos(results.y[0, 0])\n",
    "string_handle, = ax.plot([0, xp], [0, yp], color=\"darkgray\")\n",
    "mass_handle = ax.scatter([xp], [yp], color=\"k\")\n",
    "ax.set_aspect(\"equal\")\n",
    "ax.axis([-2, 2, -2.5, 0.5])\n",
    "\n",
    "def update(idx):\n",
    "    xp = constants[L] * np.sin(results.y[0, idx])\n",
    "    yp = -constants[L] * np.cos(results.y[0, idx])\n",
    "    string_handle.set_data([0, xp], [0, yp])\n",
    "    mass_handle.set_offsets([xp, yp])\n",
    "    ax.set_title(\"Time = {:.2f} s\".format(results.t[idx]))\n",
    "\n",
    "ani = FuncAnimation(fig, update, frames=len(results.t))\n",
    "HTML(ani.to_jshtml(fps=60))\n",
    "# optionally, save it to disk\n",
    "# ani.save(\"simple-pendulum.mp4\", fps=fps)"
   ]
  },
  {
   "cell_type": "markdown",
   "id": "b25b00c6-9f09-4158-b1c7-41986986f4dd",
   "metadata": {},
   "source": [
    "### Extraction of information with PyDy."
   ]
  },
  {
   "cell_type": "code",
   "execution_count": null,
   "id": "97b18521",
   "metadata": {},
   "outputs": [],
   "source": [
    "import numpy as np\n",
    "from pydy.system import System\n",
    "\n",
    "constants = {L: 2, g: 9.81, m: 1, rho: 0, d: 1.25}\n",
    "\n",
    "sys = System(kane)\n",
    "sys.constants = constants\n",
    "sys.initial_conditions = {\n",
    "    theta: np.pi/6,\n",
    "    omega: 0\n",
    "}\n",
    "\n",
    "fps = 60\n",
    "t0, tf = 0, 10\n",
    "n = int(fps * (tf - t0))\n",
    "sys.times = np.linspace(t0, tf, n)\n",
    "\n",
    "results = sys.integrate()"
   ]
  },
  {
   "cell_type": "code",
   "execution_count": null,
   "id": "7d40c5f4",
   "metadata": {},
   "outputs": [],
   "source": [
    "sys.integrate??"
   ]
  },
  {
   "cell_type": "code",
   "execution_count": null,
   "id": "c8b69d29",
   "metadata": {},
   "outputs": [],
   "source": [
    "import matplotlib.pyplot as plt\n",
    "\n",
    "results_deg = np.rad2deg(results)\n",
    "fig, ax = plt.subplots(2, 1, sharex=True)\n",
    "ax[0].plot(sys.times, results_deg[:, 0])\n",
    "ax[0].set_ylabel(r\"$\\theta$ [deg]\")\n",
    "ax[1].plot(sys.times, results_deg[:, 1])\n",
    "ax[1].set_ylabel(r\"$\\omega$ [deg / s]\")\n",
    "ax[1].set_xlabel(\"Time [s]\")\n",
    "plt.show()"
   ]
  },
  {
   "cell_type": "markdown",
   "id": "c32ee25d",
   "metadata": {},
   "source": [
    "### Animation with PyDy"
   ]
  },
  {
   "cell_type": "code",
   "execution_count": null,
   "id": "7cf23fca",
   "metadata": {},
   "outputs": [],
   "source": [
    "from pydy.viz import Scene, Cylinder, Sphere, VisualizationFrame"
   ]
  },
  {
   "cell_type": "code",
   "execution_count": null,
   "id": "57eec39d",
   "metadata": {},
   "outputs": [],
   "source": [
    "help(VisualizationFrame)"
   ]
  },
  {
   "cell_type": "code",
   "execution_count": null,
   "id": "ae37df95",
   "metadata": {},
   "outputs": [],
   "source": [
    "cord_geom = Cylinder(length=L, radius=0.05, color='grey', name=\"cord\")\n",
    "particle_geom = Sphere(0.2, color=\"black\", name=\"particle\")\n",
    "\n",
    "cord_vf = VisualizationFrame('cord vf', A, G, cord_geom)\n",
    "particle_vf = VisualizationFrame('particle vf', N, P, particle_geom)\n",
    "\n",
    "# arguments to Scene: reference frame, origin, visual frames, system\n",
    "scene = Scene(M, O, cord_vf, particle_vf, system=sys)\n",
    "scene.display_jupyter(axes_arrow_length=1)"
   ]
  },
  {
   "cell_type": "code",
   "execution_count": null,
   "id": "40eb88d1",
   "metadata": {},
   "outputs": [],
   "source": [
    "phi = 0\n",
    "\n",
    "# new reference frame for the cord\n",
    "AA = me.ReferenceFrame(\"A\")\n",
    "# rotate the cord about NN.z by some value\n",
    "AA.orient_axis(M, M.z, phi)\n",
    "\n",
    "OO = me.Point(\"OO\")\n",
    "PP1 = OO.locatenew(\"PP1\", L * AA.x)\n",
    "GG1 = OO.locatenew(\"GG1\", L / 2 * AA.x)\n",
    "PP2 = OO.locatenew(\"PP2\", L * AA.y)\n",
    "GG2 = OO.locatenew(\"GG2\", L / 2 * AA.y)\n",
    "\n",
    "cylinder_x = Cylinder(\n",
    "    length=L, radius=0.1, name=\"cylinder aligned with x\", color=\"red\")\n",
    "cylinder_x_vf = VisualizationFrame('cylinder x vf', AA, GG1, cylinder_x)\n",
    "\n",
    "cylinder_y = Cylinder(\n",
    "    length=L, radius=0.1, name=\"cylinder aligned with y\", color=\"green\")\n",
    "cylinder_y_vf = VisualizationFrame('cylinder y vf', AA, GG2, cylinder_y)\n",
    "\n",
    "scene = Scene(M, OO, cylinder_x_vf, cylinder_y_vf, system=sys)\n",
    "scene.display_jupyter(axes_arrow_length=0.5)"
   ]
  },
  {
   "cell_type": "code",
   "execution_count": null,
   "id": "7bb0d681",
   "metadata": {},
   "outputs": [],
   "source": [
    "phi = pi / 6\n",
    "\n",
    "# new reference frame for the cord\n",
    "AA = me.ReferenceFrame(\"A\")\n",
    "# rotate the cord about NN.z by some value\n",
    "AA.orient_axis(M, M.z, phi)\n",
    "\n",
    "OO = me.Point(\"OO\")\n",
    "PP1 = OO.locatenew(\"PP1\", L * AA.x)\n",
    "GG1 = OO.locatenew(\"GG1\", L / 2 * AA.x)\n",
    "PP2 = OO.locatenew(\"PP2\", L * AA.y)\n",
    "GG2 = OO.locatenew(\"GG2\", L / 2 * AA.y)\n",
    "\n",
    "cylinder_x = Cylinder(\n",
    "    length=L, radius=0.1, name=\"cylinder aligned with x\", color=\"red\")\n",
    "cylinder_x_frame = me.ReferenceFrame(\"cf\")\n",
    "cylinder_x_frame.orient_axis(AA, AA.z, -pi/2)\n",
    "cylinder_x_vf = VisualizationFrame('cylinder x vf', cylinder_x_frame, GG1, cylinder_x)\n",
    "\n",
    "cylinder_y = Cylinder(\n",
    "    length=L, radius=0.1, name=\"cylinder aligned with y\", color=\"green\")\n",
    "cylinder_y_vf = VisualizationFrame('cylinder y vf', AA, GG2, cylinder_y)\n",
    "\n",
    "scene = Scene(M, OO, cylinder_x_vf, cylinder_y_vf, system=sys)\n",
    "scene.display_jupyter(axes_arrow_length=0.5)"
   ]
  },
  {
   "cell_type": "markdown",
   "id": "e79d0e6f",
   "metadata": {},
   "source": [
    "## Simple Pendulum wit Joints Framework"
   ]
  },
  {
   "cell_type": "code",
   "execution_count": null,
   "id": "9c2f3722",
   "metadata": {},
   "outputs": [],
   "source": [
    "theta, omega = me.dynamicsymbols(\"theta, omega\")\n",
    "m, rho, g, L, d = symbols(\"m, rho, g, L, d\")\n",
    "# reaction forces acting on point O\n",
    "Rx, Ry, Rz = me.dynamicsymbols(\"R_x, R_y, R_z\")\n",
    "# auxiliary velocities needed to compute the reaction forces\n",
    "u1_aux, u2_aux, u3_aux = me.dynamicsymbols(\"u_aux^((1:4))\")"
   ]
  },
  {
   "cell_type": "code",
   "execution_count": null,
   "id": "8a93bd3e",
   "metadata": {},
   "outputs": [],
   "source": [
    "M, N, A, B = symbols(\"M, N, A, B\", cls=me.ReferenceFrame)\n",
    "N.orient_axis(M, M.z, pi)\n",
    "B.orient_axis(A, A.z, 0)\n",
    "\n",
    "# O: origin\n",
    "# P: particle\n",
    "# G: center of mass of the cord\n",
    "O, P, G = symbols(\"O, P, G\", cls=me.Point)"
   ]
  },
  {
   "cell_type": "code",
   "execution_count": null,
   "id": "b7e2d40f-f10b-4f40-8e61-2cd296ce4dad",
   "metadata": {},
   "outputs": [],
   "source": [
    "# IMPORTANT: set fictitious generalized speeds on the point where\n",
    "# the reaction forces are acting on.\n",
    "O.set_vel(N, u1_aux * N.x + u2_aux * N.y + u3_aux * N.z)\n",
    "O.vel(N)"
   ]
  },
  {
   "cell_type": "code",
   "execution_count": null,
   "id": "b905515d-db59-4fe7-b79d-e0886c2e1b78",
   "metadata": {},
   "outputs": [],
   "source": [
    "wall = me.RigidBody(\"Wall\", O, N, 0)\n",
    "# inertia wrt the cord's center of mass\n",
    "cord_inertia = me.inertia(A, rho * L**3 / 12, 0, rho * L**3 / 12)\n",
    "cord = me.RigidBody(\"Cord\", G, A, rho * L, (cord_inertia, G))\n",
    "particle = me.Particle(\"Particle\", P, m)"
   ]
  },
  {
   "cell_type": "code",
   "execution_count": null,
   "id": "2e11141a-ce3b-4d47-98a0-ef4ea127b04b",
   "metadata": {},
   "outputs": [],
   "source": [
    "# system = me.System.from_newtonian(wall)\n",
    "system = me.System(N, O) # equivalent to the previous line of code\n",
    "system.add_auxiliary_speeds(u1_aux, u2_aux, u3_aux)"
   ]
  },
  {
   "cell_type": "code",
   "execution_count": null,
   "id": "c87d8d49",
   "metadata": {},
   "outputs": [],
   "source": [
    "joint1 = me.PinJoint(\n",
    "    \"J1\", wall, cord, coordinates=theta, speeds=omega,\n",
    "    child_point=-L/2 * cord.frame.y,\n",
    "    joint_axis=wall.frame.z\n",
    ")"
   ]
  },
  {
   "cell_type": "code",
   "execution_count": null,
   "id": "8bdbedc6",
   "metadata": {},
   "outputs": [],
   "source": [
    "joint2 = me.WeldJoint(\n",
    "    \"J2\", cord, particle,\n",
    "    parent_point=L/2 * cord.frame.y,\n",
    "    parent_interframe=B\n",
    ")"
   ]
  },
  {
   "cell_type": "code",
   "execution_count": null,
   "id": "262dbc6e-284a-4e38-baa2-ca80fbb60c35",
   "metadata": {},
   "outputs": [],
   "source": [
    "display((G.pos_from(O), P.pos_from(G), P.pos_from(O)))"
   ]
  },
  {
   "cell_type": "code",
   "execution_count": null,
   "id": "0c58b57d-22a7-49fd-bcb8-9864f96de0db",
   "metadata": {},
   "outputs": [],
   "source": [
    "system.add_joints(\n",
    "    joint1, joint2\n",
    ")"
   ]
  },
  {
   "cell_type": "code",
   "execution_count": null,
   "id": "7c3a3756-d677-41e9-9ec4-ea01f03f835e",
   "metadata": {},
   "outputs": [],
   "source": [
    "system.joints"
   ]
  },
  {
   "cell_type": "code",
   "execution_count": null,
   "id": "5816e7c0-8ee4-42f3-af43-19f21e989cf7",
   "metadata": {},
   "outputs": [],
   "source": [
    "system.bodies"
   ]
  },
  {
   "cell_type": "code",
   "execution_count": null,
   "id": "630438ba-bb88-4a33-9f52-7c1f1353cf78",
   "metadata": {},
   "outputs": [],
   "source": [
    "system.kdes"
   ]
  },
  {
   "cell_type": "code",
   "execution_count": null,
   "id": "8c08c7f4-e45b-4490-9b60-8a156bc44d51",
   "metadata": {},
   "outputs": [],
   "source": [
    "O.vel(N)"
   ]
  },
  {
   "cell_type": "code",
   "execution_count": null,
   "id": "2456fa08-e903-4085-a8f9-66c1051416fc",
   "metadata": {},
   "outputs": [],
   "source": [
    "O.set_vel(N, u1_aux * N.x + u2_aux * N.y + u3_aux * N.z)\n",
    "G.v2pt_theory(O, N, A)\n",
    "P.v2pt_theory(O, N, A)"
   ]
  },
  {
   "cell_type": "code",
   "execution_count": null,
   "id": "cdbc5859-a5f5-4984-9f51-8c3485e21c2b",
   "metadata": {},
   "outputs": [],
   "source": [
    "system.apply_uniform_gravity(g * system.y)\n",
    "system.add_loads(\n",
    "    # damping torque\n",
    "    me.Torque(A, -d * omega * A.z),\n",
    "    me.Torque(N, d * omega * A.z),\n",
    "    # reaction forces acting on O\n",
    "    me.Force(O, Rx * N.x + Ry * N.y + Rz * N.z)\n",
    ")"
   ]
  },
  {
   "cell_type": "code",
   "execution_count": null,
   "id": "fc1468a1-cbd9-4585-ab0b-2eb61df10b58",
   "metadata": {},
   "outputs": [],
   "source": [
    "system.validate_system()\n",
    "eoms = system.form_eoms()\n",
    "eoms"
   ]
  },
  {
   "cell_type": "code",
   "execution_count": null,
   "id": "0bd0fae4-e74d-437a-b463-e4b90b7573d6",
   "metadata": {},
   "outputs": [],
   "source": [
    "system.mass_matrix_full, system.forcing_full"
   ]
  },
  {
   "cell_type": "code",
   "execution_count": null,
   "id": "675e25b4-c937-4ac6-94d7-9eee0dd7309c",
   "metadata": {},
   "outputs": [],
   "source": [
    "system.eom_method.auxiliary_eqs"
   ]
  },
  {
   "cell_type": "code",
   "execution_count": null,
   "id": "394c7ffd",
   "metadata": {},
   "outputs": [],
   "source": []
  }
 ],
 "metadata": {
  "kernelspec": {
   "display_name": "Python 3 (ipykernel)",
   "language": "python",
   "name": "python3"
  },
  "language_info": {
   "codemirror_mode": {
    "name": "ipython",
    "version": 3
   },
   "file_extension": ".py",
   "mimetype": "text/x-python",
   "name": "python",
   "nbconvert_exporter": "python",
   "pygments_lexer": "ipython3",
   "version": "3.12.3"
  }
 },
 "nbformat": 4,
 "nbformat_minor": 5
}
