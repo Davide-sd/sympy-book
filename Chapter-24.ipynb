{
 "cells": [
  {
   "cell_type": "markdown",
   "id": "e956dbd4",
   "metadata": {},
   "source": [
    "# 24 - Dynamical Systems and Simulations"
   ]
  },
  {
   "cell_type": "markdown",
   "id": "8c85f4fd",
   "metadata": {},
   "source": [
    "## 24.1 - Frames of Reference and vectors\n",
    "\n",
    "[Click here to open the associated notebook](Chapter-24-Part-1.ipynb)."
   ]
  },
  {
   "cell_type": "markdown",
   "id": "c58030d9-cab1-4897-90ed-610897a99552",
   "metadata": {},
   "source": [
    "## 24.2 - Coordinates\n",
    "\n",
    "[Click here to open the associated notebook](Chapter-24-Part-2-Coordinates.ipynb)."
   ]
  },
  {
   "cell_type": "markdown",
   "id": "e423623d-3733-4e0a-816f-e1494bac9ced",
   "metadata": {},
   "source": [
    "## 24.3 - Kinematics\n",
    "\n",
    "[Click here to open the associated notebook](Chapter-24-Part-3-Kinematics.ipynb)."
   ]
  },
  {
   "cell_type": "markdown",
   "id": "f0a9ed80-0254-405a-bdcc-8f0760c86037",
   "metadata": {},
   "source": [
    "## 24.4 - Inertia\n",
    "\n",
    "[Click here to open the associated notebook](Chapter-24-Part-4-Inertia.ipynb)."
   ]
  },
  {
   "cell_type": "markdown",
   "id": "c87dbfe1-a731-472e-adaf-7a916fe800aa",
   "metadata": {},
   "source": [
    "## 24.5 - Particles and Rigid Bodies\n",
    "\n",
    "[Click here to open the associated notebook](Chapter-24-Part-5-Particles-Rigid-Bodies.ipynb)."
   ]
  },
  {
   "cell_type": "markdown",
   "id": "8fb2b320-e655-4aef-bd89-7e7a2e61378e",
   "metadata": {},
   "source": [
    "## 24.6 - Simple Pendulum\n",
    "\n",
    "[Click here to open the associated notebook](Chapter-24-Part-6-Simple-Pendulum.ipynb)."
   ]
  },
  {
   "cell_type": "markdown",
   "id": "d9629114",
   "metadata": {},
   "source": [
    "## 24.7 - Square plate attached at the end of a pendulum\n",
    "\n",
    "[Click here to open the associated notebook](Chapter-24-Part-7-Pendulum-with-Plate.ipynb)."
   ]
  },
  {
   "cell_type": "markdown",
   "id": "e8bb5325",
   "metadata": {},
   "source": [
    "## 24.8 - Crank Slider Mechanism\n",
    "\n",
    "[Click here to open the associated notebook](Chapter-24-Part-8-Crank-Slider-Mechanism.ipynb)."
   ]
  },
  {
   "cell_type": "markdown",
   "id": "43ed5dbd",
   "metadata": {},
   "source": [
    "## 24.9 - Quick Return Mechanism\n",
    "\n",
    "[Click here to open the associated notebook](Chapter-24-Part-9-Quick-Return-Mechanism.ipynb)."
   ]
  },
  {
   "cell_type": "markdown",
   "id": "374d12ad",
   "metadata": {},
   "source": [
    "## 24.10 - Spinning Top\n",
    "\n",
    "[Click here to open the associated notebook](Chapter-24-Part-10-Spinning-Top.ipynb)."
   ]
  },
  {
   "cell_type": "markdown",
   "id": "48c45e5f-1c9f-4118-ac96-bb982e960cb8",
   "metadata": {},
   "source": [
    "## 24.11 - Rolling Disk\n",
    "\n",
    "[Click here to open the associated notebook](Chapter-24-Part-11-Rolling-Disk.ipynb)."
   ]
  },
  {
   "cell_type": "markdown",
   "id": "ee27afc6-ddf0-478d-b082-e21dd242507d",
   "metadata": {},
   "source": [
    "## 24.12 - Rotating Platform\n",
    "\n",
    "[Click here to open the associated notebook](Chapter-24-Part-12-Rotating-Platform.ipynb)."
   ]
  },
  {
   "cell_type": "markdown",
   "id": "2580ed9c-e4b0-43b6-99d6-f63b87cf1bf3",
   "metadata": {},
   "source": [
    "## 24.13 - Reaction Wheel Pendulum\n",
    "\n",
    "[Click here to open the associated notebook](Chapter-24-Part-13.ipynb)."
   ]
  },
  {
   "cell_type": "code",
   "execution_count": null,
   "id": "a92b6da9-350f-4ea7-b71c-9d245bff38cf",
   "metadata": {},
   "outputs": [],
   "source": []
  }
 ],
 "metadata": {
  "kernelspec": {
   "display_name": "Python 3 (ipykernel)",
   "language": "python",
   "name": "python3"
  },
  "language_info": {
   "codemirror_mode": {
    "name": "ipython",
    "version": 3
   },
   "file_extension": ".py",
   "mimetype": "text/x-python",
   "name": "python",
   "nbconvert_exporter": "python",
   "pygments_lexer": "ipython3",
   "version": "3.12.3"
  }
 },
 "nbformat": 4,
 "nbformat_minor": 5
}
