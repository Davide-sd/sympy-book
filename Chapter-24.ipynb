{
 "cells": [
  {
   "cell_type": "markdown",
   "id": "e956dbd4",
   "metadata": {},
   "source": [
    "# 24 - Dynamical Systems and Simulations"
   ]
  },
  {
   "cell_type": "markdown",
   "id": "8c85f4fd",
   "metadata": {},
   "source": [
    "## 24.1 and 24.2\n",
    "\n",
    "[Click here to open the associated notebook](Chapter-24-Part-1-2.ipynb)."
   ]
  },
  {
   "cell_type": "markdown",
   "id": "d9629114",
   "metadata": {},
   "source": [
    "## 24.3 - Simple Pendulum\n",
    "\n",
    "[Click here to open the associated notebook](Chapter-24-Part-3-Simple-Pendulum.ipynb)."
   ]
  },
  {
   "cell_type": "markdown",
   "id": "a79f6966",
   "metadata": {},
   "source": [
    "## 24.4 - Square plate attached at the end of a pendulum\n",
    "\n",
    "[Click here to open the associated notebook](Chapter-24-Part-4-Pendulum-with-Plate.ipynb)."
   ]
  },
  {
   "cell_type": "markdown",
   "id": "e8bb5325",
   "metadata": {},
   "source": [
    "## 24.5 - Crank Slider Mechanism\n",
    "\n",
    "[Click here to open the associated notebook](Chapter-24-Part-5-Crank-Slider-Mechanism.ipynb)."
   ]
  },
  {
   "cell_type": "markdown",
   "id": "43ed5dbd",
   "metadata": {},
   "source": [
    "## 24.6 - Quick Return Mechanism\n",
    "\n",
    "[Click here to open the associated notebook](Chapter-24-Part-6-Quick-Return-Mechanism.ipynb)."
   ]
  },
  {
   "cell_type": "markdown",
   "id": "374d12ad",
   "metadata": {},
   "source": [
    "## 24.7 - Rolling Disk\n",
    "\n",
    "[Click here to open the associated notebook](Chapter-24-Part-7-Rolling-Disk.ipynb)."
   ]
  },
  {
   "cell_type": "code",
   "execution_count": null,
   "id": "292fa91d",
   "metadata": {},
   "outputs": [],
   "source": []
  }
 ],
 "metadata": {
  "kernelspec": {
   "display_name": "Python 3 (ipykernel)",
   "language": "python",
   "name": "python3"
  },
  "language_info": {
   "codemirror_mode": {
    "name": "ipython",
    "version": 3
   },
   "file_extension": ".py",
   "mimetype": "text/x-python",
   "name": "python",
   "nbconvert_exporter": "python",
   "pygments_lexer": "ipython3",
   "version": "3.10.12"
  }
 },
 "nbformat": 4,
 "nbformat_minor": 5
}
