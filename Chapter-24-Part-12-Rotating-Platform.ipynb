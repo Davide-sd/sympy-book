{
 "cells": [
  {
   "cell_type": "code",
   "execution_count": null,
   "id": "9844ebcf-3478-44bf-b846-a6342886f789",
   "metadata": {},
   "outputs": [],
   "source": [
    "from sympy import *\n",
    "from sympy.physics.mechanics import *\n",
    "import sympy.physics.mechanics as me\n",
    "me.init_vprinting()"
   ]
  },
  {
   "cell_type": "code",
   "execution_count": null,
   "id": "ffedd0a2-a90d-49cc-afdd-b32c99a74fad",
   "metadata": {},
   "outputs": [],
   "source": [
    "t, theta = symbols(\"t, theta\")\n",
    "phi, psi = dynamicsymbols(\"phi, psi\")\n",
    "phid, psid = dynamicsymbols(\"phi, psi\", 1)\n",
    "phidd, psidd = dynamicsymbols(\"phi, psi\", 2)\n",
    "omega_p, omega_s = dynamicsymbols(\"omega_p, omega_s\")\n",
    "\n",
    "# axial torque applied at D\n",
    "T_D = dynamicsymbols(\"T_D\")\n",
    "# reaction forces acting on point D, E\n",
    "D_forces = dynamicsymbols(\"D_x, D_y, D_z\")\n",
    "E_forces = dynamicsymbols(\"E_x, E_y\")\n",
    "\n",
    "# N: inertial frame\n",
    "# M: frame of the rotating platform\n",
    "# R: intermediate frame\n",
    "# S: frame of the shaft\n",
    "N, M, R, S = symbols(\"N, M, R, S\", cls=ReferenceFrame)\n",
    "M.orient_axis(N, N.z, phi)\n",
    "R.orient_axis(M, M.x, theta)\n",
    "R.orient_body_fixed(M, [theta, pi/2, 0], 231)\n",
    "S.orient_axis(R, R.z, psi)"
   ]
  },
  {
   "cell_type": "code",
   "execution_count": null,
   "id": "65a77dae-4934-435e-a13a-394292493f9d",
   "metadata": {},
   "outputs": [],
   "source": [
    "m, b, h, l = symbols(\"m, b, h, l\")\n",
    "O, G, D, E = symbols(\"O, G, D, E\", cls=Point)\n",
    "G.set_pos(O, 2 * N.z)\n",
    "D.set_pos(G, -l / 2 * S.z)\n",
    "E.set_pos(G, l / 2 * S.z)\n",
    "\n",
    "O.set_vel(N, 0)\n",
    "G.set_vel(M, 0)\n",
    "G.set_vel(R, 0)\n",
    "G.set_vel(S, 0)\n",
    "D.set_vel(M, 0)\n",
    "E.set_vel(M, 0)\n",
    "G.v2pt_theory(O, N, M)\n",
    "G.a2pt_theory(O, N, M)\n",
    "D.v2pt_theory(G, N, M)\n",
    "D.a2pt_theory(G, N, M)\n",
    "E.v2pt_theory(G, N, M)\n",
    "E.a2pt_theory(G, N, M)"
   ]
  },
  {
   "cell_type": "code",
   "execution_count": null,
   "id": "604befc8-2f5c-4a14-8163-086a5c0047dc",
   "metadata": {},
   "outputs": [],
   "source": [
    "def build_vector(components, frame):\n",
    "    return sum(c * v for c, v in zip(components, frame))\n",
    "\n",
    "forces_list = [\n",
    "    (D, build_vector(D_forces, S)),\n",
    "    (E, build_vector(E_forces, S)),\n",
    "]\n",
    "    \n",
    "lhs = sum(e[1] for e in forces_list)\n",
    "rhs = m * G.acc(N)\n",
    "Force_eq = lhs - rhs\n",
    "Force_eq"
   ]
  },
  {
   "cell_type": "code",
   "execution_count": null,
   "id": "13fe708d-c1b3-44a0-89a7-6c9d6d951de5",
   "metadata": {},
   "outputs": [],
   "source": [
    "D_sol = solve(Force_eq.to_matrix(S), D_forces)\n",
    "D_sol"
   ]
  },
  {
   "cell_type": "code",
   "execution_count": null,
   "id": "fc318aba-cfde-431d-9193-98d8a1d4bfd6",
   "metadata": {},
   "outputs": [],
   "source": [
    "Moment_G_eq = sum(point.pos_from(G) ^ force for point, force in forces_list) + T_D * S.z\n",
    "Moment_G_eq"
   ]
  },
  {
   "cell_type": "code",
   "execution_count": null,
   "id": "f0f0234e-2cf6-4e1d-a401-548ea6c38daf",
   "metadata": {},
   "outputs": [],
   "source": [
    "Moment_G_eq = Moment_G_eq.subs(D_sol)\n",
    "Moment_G_eq"
   ]
  },
  {
   "cell_type": "code",
   "execution_count": null,
   "id": "781c0e70-0905-494d-bc59-858c986548db",
   "metadata": {},
   "outputs": [],
   "source": [
    "A, B, C = symbols(\"A:C\")\n",
    "I_G = inertia(S, A, B, C)\n",
    "shaft = RigidBody(\"shaft\", G, S, m, (I_G, G))\n",
    "H_G = shaft.angular_momentum(G, N)\n",
    "H_G"
   ]
  },
  {
   "cell_type": "code",
   "execution_count": null,
   "id": "07fb2135-40f8-4d2b-b194-fa7f7e0c0530",
   "metadata": {},
   "outputs": [],
   "source": [
    "rhs = H_G.diff(t, S) + (S.ang_vel_in(N) ^ H_G)\n",
    "euler = Moment_G_eq - rhs\n",
    "euler"
   ]
  },
  {
   "cell_type": "code",
   "execution_count": null,
   "id": "b2ed5146-b5a8-434f-823e-44da1376593f",
   "metadata": {},
   "outputs": [],
   "source": [
    "assumptions = {\n",
    "    phidd: 0, psidd: 0,\n",
    "    phid: omega_p, psid: omega_s\n",
    "}\n",
    "sd_inertia = {\n",
    "    A: m * (h**2 + l**2) / 12,\n",
    "    B: m * (b**2 + l**2) / 12,\n",
    "    C: m * (b**2 + h**2) / 12,\n",
    "}\n",
    "euler = euler.subs(assumptions).subs(sd_inertia).to_matrix(S)\n",
    "unknowns = [*E_forces, T_D]\n",
    "sol = solve(euler, unknowns)\n",
    "e1, e2, e3 = sol.values()\n",
    "e1 = e1.simplify().collect(omega_p * cos(theta))\n",
    "e2 = e2.simplify().collect(omega_p * cos(theta))\n",
    "e3 = e3.simplify()\n",
    "display(*[Eq(f, e) for f, e in zip(unknowns, [e1, e2, e3])])"
   ]
  },
  {
   "cell_type": "code",
   "execution_count": null,
   "id": "0ebe8923-fceb-4794-b86e-3e2841622fac",
   "metadata": {},
   "outputs": [],
   "source": [
    "# Plotting results\n",
    "\n",
    "sd = {\n",
    "    l: 1,           # m\n",
    "    h: 0.1,         # m\n",
    "    b: 0.025,       # m\n",
    "    theta: pi/6,    # rad\n",
    "    m: 10,          # kg\n",
    "    omega_p: 10.47, # rad/s\n",
    "    omega_s: 209.4, # rad/s\n",
    "}\n",
    "V = sqrt(solutions[0]**2 + solutions[1]**2)\n",
    "\n",
    "from spb import plot\n",
    "import numpy as np\n",
    "plot(V.subs(sd), (psi, 0, 2*pi), tx=np.degrees, xlabel=r\"$\\psi$ [deg]\", ylabel=\"V [N]\")"
   ]
  },
  {
   "cell_type": "code",
   "execution_count": null,
   "id": "bd7c2dda-c184-4719-ae6c-25249edaeaf8",
   "metadata": {},
   "outputs": [],
   "source": [
    "plot(solutions[2].subs(sd), (psi, 0, 2*pi), tx=np.degrees, xlabel=r\"$\\psi$ [deg]\", ylabel=\"$T_{D}$ [Nm]\")"
   ]
  },
  {
   "cell_type": "code",
   "execution_count": null,
   "id": "e79ae0fc-7690-402e-81fd-13ba03b34542",
   "metadata": {},
   "outputs": [],
   "source": []
  }
 ],
 "metadata": {
  "kernelspec": {
   "display_name": "Python 3 (ipykernel)",
   "language": "python",
   "name": "python3"
  },
  "language_info": {
   "codemirror_mode": {
    "name": "ipython",
    "version": 3
   },
   "file_extension": ".py",
   "mimetype": "text/x-python",
   "name": "python",
   "nbconvert_exporter": "python",
   "pygments_lexer": "ipython3",
   "version": "3.12.3"
  }
 },
 "nbformat": 4,
 "nbformat_minor": 5
}
