{
 "cells": [
  {
   "cell_type": "code",
   "execution_count": null,
   "metadata": {},
   "outputs": [],
   "source": [
    "%matplotlib widget\n",
    "from sympy import *\n",
    "init_printing(use_latex=True)"
   ]
  },
  {
   "cell_type": "markdown",
   "metadata": {},
   "source": [
    "# 15 - Implementing an Equation class"
   ]
  },
  {
   "cell_type": "code",
   "execution_count": 1,
   "metadata": {},
   "outputs": [],
   "source": [
    "from algebra_with_sympy import *\n",
    "algwsym_config.output.label = False\n",
    "algwsym_config.output.show_solve_output = False"
   ]
  },
  {
   "cell_type": "code",
   "execution_count": 2,
   "metadata": {},
   "outputs": [
    {
     "data": {
      "text/latex": [
       "$\\displaystyle a + b=c x$"
      ],
      "text/plain": [
       "Equation(a + b, c*x)"
      ]
     },
     "metadata": {},
     "output_type": "display_data"
    },
    {
     "data": {
      "text/latex": [
       "$\\displaystyle x^{2} - 4 x=a + b$"
      ],
      "text/plain": [
       "Equation(x**2 - 4*x, a + b)"
      ]
     },
     "metadata": {},
     "output_type": "display_data"
    }
   ],
   "source": [
    "a, b, c, x = symbols(\"a, b, c, x\")\n",
    "eq1 = Equation(a + b, c * x)\n",
    "eq2 = Equation(x**2 - 4 * x, a + b)\n",
    "display(eq1, eq2)"
   ]
  },
  {
   "cell_type": "code",
   "execution_count": 5,
   "metadata": {},
   "outputs": [
    {
     "data": {
      "text/latex": [
       "$\\displaystyle a + b$"
      ],
      "text/plain": [
       "a + b"
      ]
     },
     "metadata": {},
     "output_type": "display_data"
    },
    {
     "data": {
      "text/latex": [
       "$\\displaystyle c x$"
      ],
      "text/plain": [
       "c*x"
      ]
     },
     "metadata": {},
     "output_type": "display_data"
    },
    {
     "data": {
      "text/latex": [
       "$\\displaystyle c x=a + b$"
      ],
      "text/plain": [
       "Equation(c*x, a + b)"
      ]
     },
     "metadata": {},
     "output_type": "display_data"
    }
   ],
   "source": [
    "display(eq1.lhs, eq1.rhs, eq1.reversed)"
   ]
  },
  {
   "cell_type": "code",
   "execution_count": 8,
   "metadata": {},
   "outputs": [
    {
     "data": {
      "text/plain": [
       "[Equation(x, (a + b)/c)]"
      ]
     },
     "execution_count": 8,
     "metadata": {},
     "output_type": "execute_result"
    }
   ],
   "source": [
    "res = solve(eq1, x)\n",
    "res"
   ]
  },
  {
   "cell_type": "code",
   "execution_count": null,
   "metadata": {},
   "outputs": [],
   "source": [
    "eq1 + 2"
   ]
  },
  {
   "cell_type": "code",
   "execution_count": null,
   "metadata": {},
   "outputs": [],
   "source": [
    "eq1 / eq2"
   ]
  },
  {
   "cell_type": "code",
   "execution_count": null,
   "metadata": {},
   "outputs": [],
   "source": [
    "eq1.applyrhs(lambda t: t**2)"
   ]
  },
  {
   "cell_type": "code",
   "execution_count": null,
   "metadata": {},
   "outputs": [],
   "source": [
    "eq1.subs(c, 2)"
   ]
  },
  {
   "cell_type": "code",
   "execution_count": null,
   "metadata": {},
   "outputs": [],
   "source": [
    "eq1.subs(eq2.reversed)"
   ]
  },
  {
   "cell_type": "markdown",
   "metadata": {},
   "source": [
    "## 15.3 - Using the Equation class"
   ]
  },
  {
   "cell_type": "code",
   "execution_count": null,
   "metadata": {},
   "outputs": [],
   "source": [
    "t, k, x, m, Cp, rho, alpha = symbols(r\"t, k, x, m, C_p, rho, alpha\", positive=True)\n",
    "Dt, Dx, Dy, Dz, DV = [symbols(r\"{\\Delta}\" + s, positive=True) for s in \"t,x,y,z,V\".split(\",\")]\n",
    "Q, q, P, T = [e(t, x) for e in symbols(\"Q, q, P, T\", cls=Function)]"
   ]
  },
  {
   "cell_type": "code",
   "execution_count": null,
   "metadata": {},
   "outputs": [],
   "source": [
    "Mass = Equation(rho, m / DV)\n",
    "Veq = Equation(DV, Dx * Dy * Dz)\n",
    "Qeq = Equation(Q, m * Cp * T)\n",
    "fourier = Equation(q, -k * T.diff(x))\n",
    "td = Equation(alpha, k / (Cp * rho))\n",
    "display(Mass, Veq, Qeq, fourier, td)"
   ]
  },
  {
   "cell_type": "code",
   "execution_count": null,
   "metadata": {},
   "outputs": [],
   "source": [
    "# change in heat content\n",
    "hc_change = Q - Q.subs(t, t + Dt)\n",
    "# heat in: Dy * Dz is the surface area through which q flows\n",
    "hi = q * Dt * Dy * Dz\n",
    "# heat out: Dy * Dz is the surface area through which q flows\n",
    "ho = q.subs(x, x + Dx) * Dt * Dy * Dz\n",
    "# heat generated\n",
    "hg = P * Dt * Dx * Dy * Dz\n",
    "# heat balance equation\n",
    "hb = Equation(hc_change, hi - ho + hg)\n",
    "hb"
   ]
  },
  {
   "cell_type": "code",
   "execution_count": null,
   "metadata": {},
   "outputs": [],
   "source": [
    "Veq = Equation(DV, Dx * Dy * Dz)\n",
    "hb = hb.applyrhs(lambda e: ((e * Dx).expand().subs(*Veq.reversed.args) / Dx)).expand()\n",
    "hb"
   ]
  },
  {
   "cell_type": "code",
   "execution_count": null,
   "metadata": {},
   "outputs": [],
   "source": [
    "hb = (hb / Dt).expand()\n",
    "hb"
   ]
  },
  {
   "cell_type": "code",
   "execution_count": null,
   "metadata": {},
   "outputs": [],
   "source": [
    "hb = hb.applylhs(lambda e: Limit(e.collect(1 / Dt), Dt, 0))\n",
    "hb"
   ]
  },
  {
   "cell_type": "code",
   "execution_count": null,
   "metadata": {},
   "outputs": [],
   "source": [
    "hb = hb.applylhs(lambda e: e.subs(e, Q.diff(t)))\n",
    "hb"
   ]
  },
  {
   "cell_type": "code",
   "execution_count": null,
   "metadata": {},
   "outputs": [],
   "source": [
    "qxdx = Equation(q.subs(x, x + Dx), q.subs(x, x + Dx).series(Dx, 0, 2).removeO().doit())\n",
    "qxdx"
   ]
  },
  {
   "cell_type": "code",
   "execution_count": null,
   "metadata": {},
   "outputs": [],
   "source": [
    "hb = hb.subs(qxdx).expand()\n",
    "hb"
   ]
  },
  {
   "cell_type": "code",
   "execution_count": null,
   "metadata": {},
   "outputs": [],
   "source": [
    "hb = hb.subs(fourier).subs(Qeq).doit()\n",
    "hb"
   ]
  },
  {
   "cell_type": "code",
   "execution_count": null,
   "metadata": {},
   "outputs": [],
   "source": [
    "hb = (hb / DV / k).expand().subs(Mass.reversed)\n",
    "hb"
   ]
  },
  {
   "cell_type": "code",
   "execution_count": null,
   "metadata": {},
   "outputs": [],
   "source": [
    "hb = hb.subs(1 / td.reversed)\n",
    "hb"
   ]
  },
  {
   "cell_type": "code",
   "execution_count": null,
   "metadata": {},
   "outputs": [],
   "source": []
  }
 ],
 "metadata": {
  "kernelspec": {
   "display_name": "Python 3 (ipykernel)",
   "language": "python",
   "name": "python3"
  },
  "language_info": {
   "codemirror_mode": {
    "name": "ipython",
    "version": 3
   },
   "file_extension": ".py",
   "mimetype": "text/x-python",
   "name": "python",
   "nbconvert_exporter": "python",
   "pygments_lexer": "ipython3",
   "version": "3.10.6"
  },
  "toc": {
   "base_numbering": 1,
   "nav_menu": {},
   "number_sections": true,
   "sideBar": true,
   "skip_h1_title": false,
   "title_cell": "Table of Contents",
   "title_sidebar": "Contents",
   "toc_cell": false,
   "toc_position": {},
   "toc_section_display": true,
   "toc_window_display": false
  }
 },
 "nbformat": 4,
 "nbformat_minor": 2
}
