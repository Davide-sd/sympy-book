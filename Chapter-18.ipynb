{
 "cells": [
  {
   "cell_type": "code",
   "execution_count": null,
   "metadata": {},
   "outputs": [],
   "source": [
    "%matplotlib widget\n",
    "from sympy import *\n",
    "init_printing(use_latex=True)"
   ]
  },
  {
   "cell_type": "markdown",
   "metadata": {},
   "source": [
    "# 18 - Multidimensional Arrays and Tensors"
   ]
  },
  {
   "cell_type": "markdown",
   "metadata": {},
   "source": [
    "## 18.1 - Explicit Multidimensional Arrays"
   ]
  },
  {
   "cell_type": "code",
   "execution_count": null,
   "metadata": {},
   "outputs": [],
   "source": [
    "A = Array(2)\n",
    "B = Array([1, 2, 3])\n",
    "C = Array(Matrix([[1, 2, 3], [4, 5, 6]]))\n",
    "D = Array([[[1,2, 3], [4, 5, 6]], [[6, 7, 8], [9, 10, 11]]])\n",
    "A, B, C, D"
   ]
  },
  {
   "cell_type": "code",
   "execution_count": null,
   "metadata": {},
   "outputs": [],
   "source": [
    "print(A.shape, B.shape, C.shape, D.shape)\n",
    "print(A.rank(), B.rank(), C.rank(), D.rank())"
   ]
  },
  {
   "cell_type": "code",
   "execution_count": null,
   "metadata": {},
   "outputs": [],
   "source": [
    "E = Array(range(32), (3, 4, 2))\n",
    "E"
   ]
  },
  {
   "cell_type": "markdown",
   "metadata": {},
   "source": [
    "### 18.1.1 - Operations on arrays"
   ]
  },
  {
   "cell_type": "code",
   "execution_count": null,
   "metadata": {},
   "outputs": [],
   "source": [
    "x, y, z = symbols(\"x:z\")\n",
    "F = MutableDenseNDimArray([x, y, z])\n",
    "F + F, x * F, F - F / 2"
   ]
  },
  {
   "cell_type": "code",
   "execution_count": null,
   "metadata": {},
   "outputs": [],
   "source": [
    "t = symbols(\"t\")\n",
    "r = F.applyfunc(lambda x: cos(x * t))\n",
    "r"
   ]
  },
  {
   "cell_type": "code",
   "execution_count": null,
   "metadata": {},
   "outputs": [],
   "source": [
    "type(r)"
   ]
  },
  {
   "cell_type": "code",
   "execution_count": null,
   "metadata": {},
   "outputs": [],
   "source": [
    "aij = symbols(\"a(:3)\")\n",
    "bij = symbols(\"b(:2)(:2)\")\n",
    "A = Array(aij, (3))\n",
    "B = Array(bij, (2, 2))\n",
    "A, B"
   ]
  },
  {
   "cell_type": "code",
   "execution_count": null,
   "metadata": {},
   "outputs": [],
   "source": [
    "p = tensorproduct(A, B)\n",
    "c = tensorcontraction(B, (0, 1))\n",
    "display(p, c)"
   ]
  },
  {
   "cell_type": "code",
   "execution_count": null,
   "metadata": {},
   "outputs": [],
   "source": [
    "A = Array([[x, y], [z, x]])\n",
    "B = Array([[1, 2], [3, 4]])\n",
    "tensorcontraction(tensorproduct(A, B), (1, 2))"
   ]
  },
  {
   "cell_type": "code",
   "execution_count": null,
   "metadata": {},
   "outputs": [],
   "source": [
    "Array(Matrix(A) * Matrix(B))"
   ]
  },
  {
   "cell_type": "code",
   "execution_count": null,
   "metadata": {},
   "outputs": [],
   "source": [
    "A = Array([[x, y, z], [1, 2, 3]])\n",
    "transpose(A)"
   ]
  },
  {
   "cell_type": "code",
   "execution_count": null,
   "metadata": {},
   "outputs": [],
   "source": [
    "transpose(Matrix(A))"
   ]
  },
  {
   "cell_type": "code",
   "execution_count": null,
   "metadata": {},
   "outputs": [],
   "source": [
    "x, y, z = symbols(\"x:z\")\n",
    "A = Array([x + y + z, x**2 * y**2 * z**2, cos(x) * y + z])\n",
    "der = derive_by_array(A, [x, y, z])\n",
    "display(A, der)"
   ]
  },
  {
   "cell_type": "code",
   "execution_count": null,
   "metadata": {},
   "outputs": [],
   "source": [
    "bij = symbols(\"b(:2)(:2)\", cls=Function)\n",
    "bij = [v(x, y) for v in bij]\n",
    "B = Array(bij, (2, 2))\n",
    "der = derive_by_array(B, [x, y])\n",
    "display(B, der)"
   ]
  },
  {
   "cell_type": "code",
   "execution_count": null,
   "metadata": {},
   "outputs": [],
   "source": [
    "A = Array([[x, y], [z, x]])\n",
    "r = A.tomatrix(), A.tolist(), list(A)\n",
    "r"
   ]
  },
  {
   "cell_type": "code",
   "execution_count": null,
   "metadata": {},
   "outputs": [],
   "source": [
    "type(r[2][0])"
   ]
  },
  {
   "cell_type": "markdown",
   "metadata": {},
   "source": [
    "## 18.2 - Tensor Expressions"
   ]
  },
  {
   "cell_type": "code",
   "execution_count": null,
   "metadata": {},
   "outputs": [],
   "source": [
    "from sympy.tensor.tensor import *"
   ]
  },
  {
   "cell_type": "code",
   "execution_count": null,
   "metadata": {},
   "outputs": [],
   "source": [
    "L = TensorIndexType('Lorentz', metric_symmetry=1)"
   ]
  },
  {
   "cell_type": "code",
   "execution_count": null,
   "metadata": {},
   "outputs": [],
   "source": [
    "i, j = tensor_indices(\"i, j\", L)"
   ]
  },
  {
   "cell_type": "code",
   "execution_count": null,
   "metadata": {},
   "outputs": [],
   "source": [
    "A = tensor_heads(\"A\", [L, L], TensorSymmetry.no_symmetry(2))"
   ]
  },
  {
   "cell_type": "code",
   "execution_count": null,
   "metadata": {},
   "outputs": [],
   "source": [
    "t = A(i, j)\n",
    "display(t)\n",
    "print(type(t))"
   ]
  },
  {
   "cell_type": "code",
   "execution_count": null,
   "metadata": {},
   "outputs": [],
   "source": [
    "Lorentz = TensorIndexType('Lorentz', dummy_name='L', metric_symmetry=1)\n",
    "i, j, k, l = tensor_indices(\"i, j, k, l\", Lorentz)\n",
    "A, B = tensor_heads(\"A, B\", [L, L], TensorSymmetry.no_symmetry(2))\n",
    "expr1 = A(i, j) + B(i, j)\n",
    "expr2 = A(i, j) * B(k, l)\n",
    "display(expr1, expr2)\n",
    "print(type(expr1), type(expr2))"
   ]
  },
  {
   "cell_type": "code",
   "execution_count": null,
   "metadata": {},
   "outputs": [],
   "source": [
    "from sympy.tensor.toperators import PartialDerivative\n",
    "PartialDerivative(A(i, j), B(k, l))"
   ]
  },
  {
   "cell_type": "markdown",
   "metadata": {},
   "source": [
    "## 18.3 - Indexed Objects"
   ]
  },
  {
   "cell_type": "code",
   "execution_count": null,
   "metadata": {},
   "outputs": [],
   "source": [
    "# Creation of indices\n",
    "m, n, k = symbols(\"m, n, k\", integer=True)\n",
    "i = Idx(\"i\", (m, n))\n",
    "j = Idx(\"j\", 5)\n",
    "# Stem Creation\n",
    "M, N = symbols(\"M, N\", cls=IndexedBase)\n",
    "# Creation of the Indexed Object\n",
    "display(M[i, j], N[k])"
   ]
  },
  {
   "cell_type": "code",
   "execution_count": null,
   "metadata": {},
   "outputs": [],
   "source": [
    "M[i, j].shape"
   ]
  },
  {
   "cell_type": "code",
   "execution_count": null,
   "metadata": {},
   "outputs": [],
   "source": [
    "N[k].shape"
   ]
  },
  {
   "cell_type": "code",
   "execution_count": null,
   "metadata": {},
   "outputs": [],
   "source": [
    "p, q = symbols(\"p, q\")\n",
    "i, j, k = symbols(\"i, j, k\")\n",
    "M = IndexedBase(\"M\", shape=(p, q))\n",
    "N = IndexedBase(\"N\")"
   ]
  },
  {
   "cell_type": "code",
   "execution_count": null,
   "metadata": {},
   "outputs": [],
   "source": [
    "M[i, j]"
   ]
  },
  {
   "cell_type": "code",
   "execution_count": null,
   "metadata": {},
   "outputs": [],
   "source": [
    "M[i, j, k]"
   ]
  },
  {
   "cell_type": "code",
   "execution_count": null,
   "metadata": {},
   "outputs": [],
   "source": [
    "N[i], N[i, j], N[i, j, k]"
   ]
  },
  {
   "cell_type": "code",
   "execution_count": null,
   "metadata": {},
   "outputs": [],
   "source": [
    "f = IndexedBase(\"f\")\n",
    "x, n = symbols(\"x, n\")\n",
    "s = x + Sum(f[n], (n, 0, 4))\n",
    "se = s.doit()\t# evaluated summation\n",
    "display(s, se)"
   ]
  },
  {
   "cell_type": "code",
   "execution_count": null,
   "metadata": {},
   "outputs": [],
   "source": [
    "a = Array([1, 2, 3, 4, 5])\n",
    "r1 = s.subs(f, a)\n",
    "r2 = se.subs(f, a)\n",
    "display(r1, r2)"
   ]
  },
  {
   "cell_type": "code",
   "execution_count": null,
   "metadata": {},
   "outputs": [],
   "source": []
  }
 ],
 "metadata": {
  "kernelspec": {
   "display_name": "Python 3",
   "language": "python",
   "name": "python3"
  },
  "language_info": {
   "codemirror_mode": {
    "name": "ipython",
    "version": 3
   },
   "file_extension": ".py",
   "mimetype": "text/x-python",
   "name": "python",
   "nbconvert_exporter": "python",
   "pygments_lexer": "ipython3",
   "version": "3.8.10"
  },
  "toc": {
   "base_numbering": 1,
   "nav_menu": {},
   "number_sections": true,
   "sideBar": true,
   "skip_h1_title": false,
   "title_cell": "Table of Contents",
   "title_sidebar": "Contents",
   "toc_cell": false,
   "toc_position": {},
   "toc_section_display": true,
   "toc_window_display": false
  }
 },
 "nbformat": 4,
 "nbformat_minor": 2
}
