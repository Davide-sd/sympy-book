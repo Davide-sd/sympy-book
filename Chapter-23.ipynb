{
 "cells": [
  {
   "cell_type": "code",
   "execution_count": null,
   "metadata": {},
   "outputs": [],
   "source": [
    "%matplotlib widget\n",
    "from sympy import *\n",
    "init_printing(use_latex=True)"
   ]
  },
  {
   "cell_type": "markdown",
   "metadata": {},
   "source": [
    "# 23 - Printers and Code Generation"
   ]
  },
  {
   "cell_type": "markdown",
   "metadata": {},
   "source": [
    "## 23.1 - The Printing Module"
   ]
  },
  {
   "cell_type": "code",
   "execution_count": null,
   "metadata": {},
   "outputs": [],
   "source": [
    "x = Symbol(\"x\")\n",
    "expr = Piecewise((x**2 + 1, x > 0), (1, True))\n",
    "expr"
   ]
  },
  {
   "cell_type": "code",
   "execution_count": null,
   "metadata": {},
   "outputs": [],
   "source": [
    "sstr(expr)"
   ]
  },
  {
   "cell_type": "code",
   "execution_count": null,
   "metadata": {},
   "outputs": [],
   "source": [
    "latex(expr)"
   ]
  },
  {
   "cell_type": "code",
   "execution_count": null,
   "metadata": {},
   "outputs": [],
   "source": [
    "srepr(expr)"
   ]
  },
  {
   "cell_type": "code",
   "execution_count": null,
   "metadata": {},
   "outputs": [],
   "source": [
    "octave_code(expr)"
   ]
  },
  {
   "cell_type": "code",
   "execution_count": null,
   "metadata": {},
   "outputs": [],
   "source": [
    "print_jscode(expr)"
   ]
  },
  {
   "cell_type": "code",
   "execution_count": null,
   "metadata": {},
   "outputs": [],
   "source": [
    "python(expr)"
   ]
  },
  {
   "cell_type": "code",
   "execution_count": null,
   "metadata": {},
   "outputs": [],
   "source": [
    "print_python(expr)"
   ]
  },
  {
   "cell_type": "markdown",
   "metadata": {},
   "source": [
    "## 23.2 - Latex Printer"
   ]
  },
  {
   "cell_type": "code",
   "execution_count": null,
   "metadata": {},
   "outputs": [],
   "source": [
    "from sympy.interactive import printing\n",
    "printing.init_printing(use_latex=True)"
   ]
  },
  {
   "cell_type": "code",
   "execution_count": null,
   "metadata": {},
   "outputs": [],
   "source": [
    "help(latex)"
   ]
  },
  {
   "cell_type": "code",
   "execution_count": null,
   "metadata": {},
   "outputs": [],
   "source": [
    "printing.init_printing(use_latex=True, order=\"none\", imaginary_unit=\"j\",\n",
    "                       decimal_separator=\"comma\")"
   ]
  },
  {
   "cell_type": "code",
   "execution_count": null,
   "metadata": {},
   "outputs": [],
   "source": [
    "help(printing.init_printing)"
   ]
  },
  {
   "cell_type": "code",
   "execution_count": null,
   "metadata": {},
   "outputs": [],
   "source": [
    "from sympy_utils import my_latex\n",
    "from sympy.interactive import printing\n",
    "printing.init_printing(latex_printer=my_latex, applied_no_args=False,\n",
    "                       der_as_subscript=False)\n",
    "x, y, z = symbols(\"x, y, z\")\n",
    "expr1 = Function(\"f\")(x, y, z)\n",
    "expr2 = expr1.diff(x, y)\n",
    "display(expr1, expr2)"
   ]
  },
  {
   "cell_type": "code",
   "execution_count": null,
   "metadata": {},
   "outputs": [],
   "source": [
    "printing.init_printing(latex_printer=my_latex, applied_no_args=True,\n",
    "                       der_as_subscript=False)\n",
    "display(expr1, expr2)"
   ]
  },
  {
   "cell_type": "code",
   "execution_count": null,
   "metadata": {},
   "outputs": [],
   "source": [
    "printing.init_printing(latex_printer=my_latex, applied_no_args=True,\n",
    "                       der_as_subscript=True)\n",
    "display(expr1, expr2)"
   ]
  },
  {
   "cell_type": "code",
   "execution_count": null,
   "metadata": {},
   "outputs": [],
   "source": [
    "# symbol for the displacement gradient\n",
    "gU = IndexedBase(r\"\\nabla U\")\n",
    "i, j, k = symbols(\"i, j, k\", integer=True)\n",
    "x, y, z, lamb, mu = symbols(\"x:z, lambda, mu\", real=True)\n",
    "sigma_ij = lamb * Sum(gU[k, k], (k, 0, 2)) * KroneckerDelta(i, j) + mu * (gU[i, j] + gU[j, i])\n",
    "# displacement components\n",
    "u, v, w = [s(x, y, z) for s in symbols(\"u, v, w\", cls=Function)]\n",
    "# velocity gradient\n",
    "grad_U = derive_by_array([u, v, w], [x, y, z])\n",
    "sigma_ij = sigma_ij.subs(gU, grad_U)\n",
    "sigma = Array(zeros(3)).as_mutable()\n",
    "sigma_ij = sigma_ij.doit()\n",
    "for _i in range(sigma.shape[0]):\n",
    "    for _j in range(sigma.shape[1]):\n",
    "        sigma[_i, _j] = sigma_ij.subs({i: _i, j: _j})\n",
    "sigma"
   ]
  },
  {
   "cell_type": "markdown",
   "metadata": {},
   "source": [
    "## 23.3 - Defining printing methods in custom classes"
   ]
  },
  {
   "cell_type": "code",
   "execution_count": null,
   "metadata": {},
   "outputs": [],
   "source": [
    "x = symbols(\"x\")\n",
    "class CustomClass(Basic):\n",
    "    pass\n",
    "c = CustomClass(x, sin(x))\n",
    "print(c)"
   ]
  },
  {
   "cell_type": "code",
   "execution_count": null,
   "metadata": {},
   "outputs": [],
   "source": [
    "from sympy_utils import SawtoothWave\n",
    "A, phi, x, T = symbols(\"A, phi, x, T\")\n",
    "s = SawtoothWave(x, A, T, phi)\n",
    "s"
   ]
  },
  {
   "cell_type": "code",
   "execution_count": null,
   "metadata": {},
   "outputs": [],
   "source": [
    "s.subs({A: 1, T: 2, phi: 0})"
   ]
  },
  {
   "cell_type": "code",
   "execution_count": null,
   "metadata": {},
   "outputs": [],
   "source": [
    "s.subs({A: 1, T: 2, phi: 0, x: 1})"
   ]
  },
  {
   "cell_type": "code",
   "execution_count": null,
   "metadata": {},
   "outputs": [],
   "source": [
    "expr1 = s.subs({phi: 0, T:2, A:1})\n",
    "f1 = lambdify([x], expr1, modules=[\"math\"])\n",
    "f2 = lambdify([x], expr1, modules=[\"mpmath\"])\n",
    "f3 = lambdify([x], expr1, modules=[\"numpy\"])\n",
    "display(f1(1), f2(1), f3(1))"
   ]
  },
  {
   "cell_type": "code",
   "execution_count": null,
   "metadata": {},
   "outputs": [],
   "source": [
    "expr2 = x + s.subs({phi: pi / 2, T:2, A:2})\n",
    "from spb import plot\n",
    "plot((expr1, \"expr1\"), (expr2, \"expr2\"), (x, -3.5, 3.5))"
   ]
  },
  {
   "cell_type": "markdown",
   "metadata": {},
   "source": [
    "## 23.5 - Code Generation - Example - Three Body Problem"
   ]
  },
  {
   "cell_type": "markdown",
   "metadata": {},
   "source": [
    "[Click here to open the associated notebook](Chapter-23-Part-5.ipynb)."
   ]
  },
  {
   "cell_type": "code",
   "execution_count": null,
   "metadata": {},
   "outputs": [],
   "source": []
  }
 ],
 "metadata": {
  "kernelspec": {
   "display_name": "Python 3",
   "language": "python",
   "name": "python3"
  },
  "language_info": {
   "codemirror_mode": {
    "name": "ipython",
    "version": 3
   },
   "file_extension": ".py",
   "mimetype": "text/x-python",
   "name": "python",
   "nbconvert_exporter": "python",
   "pygments_lexer": "ipython3",
   "version": "3.8.10"
  },
  "toc": {
   "base_numbering": 1,
   "nav_menu": {},
   "number_sections": true,
   "sideBar": true,
   "skip_h1_title": false,
   "title_cell": "Table of Contents",
   "title_sidebar": "Contents",
   "toc_cell": false,
   "toc_position": {},
   "toc_section_display": true,
   "toc_window_display": false
  }
 },
 "nbformat": 4,
 "nbformat_minor": 2
}
