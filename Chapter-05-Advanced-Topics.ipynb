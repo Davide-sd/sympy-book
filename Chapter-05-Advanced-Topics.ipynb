{
 "cells": [
  {
   "cell_type": "markdown",
   "metadata": {},
   "source": [
    "## 5.5 - Advanced Topics"
   ]
  },
  {
   "cell_type": "code",
   "execution_count": null,
   "metadata": {},
   "outputs": [],
   "source": [
    "%matplotlib widget\n",
    "from sympy import *\n",
    "init_printing(use_latex=True)"
   ]
  },
  {
   "cell_type": "markdown",
   "metadata": {},
   "source": [
    "### 5.5.3 - Creating a custom Constant class"
   ]
  },
  {
   "cell_type": "code",
   "execution_count": null,
   "metadata": {},
   "outputs": [],
   "source": [
    "from sympy.printing import latex\n",
    "from sympy.printing.pretty.stringpict import prettyForm\n",
    "import mpmath.libmp as mlib\n",
    "\n",
    "class Constant(NumberSymbol):\n",
    "    \"\"\" Represent a generic integer or float constant: it will be treaded as a \n",
    "    symbol during symbolic computations, whereas it will be converted to a \n",
    "    number during numerical evaluation.\n",
    "\n",
    "    Examples\n",
    "    ========\n",
    "\n",
    "    t = Constant(2.5, r\"\\tau\")\n",
    "    display(t, t.evalf(), t + 2)\n",
    "    \"\"\"\n",
    "    is_real = True\n",
    "\n",
    "    def __new__(cls, value, name, latex=\"\", pretty=\"\"):\n",
    "        \"\"\"\n",
    "        Parameters\n",
    "        ----------\n",
    "            value : float\n",
    "                The numerical value of the constant\n",
    "            name : string\n",
    "                Used to render the symbol when calling print()\n",
    "            latex (optional) : string\n",
    "                Latex code representing representing this constant. If not\n",
    "                provided, `name` will be used instead.\n",
    "            pretty (optional) : string\n",
    "                Used to render the symbol when calling pprint(). Unicode strings\n",
    "                are admissible. If not provided, `name` will be used instead.\n",
    "        \"\"\"\n",
    "        if isinstance(value, Integer):\n",
    "            value = value.p\n",
    "        if not isinstance(value, (int, float)):\n",
    "            raise TypeError(\"'value' must be a Python's int or float. \\n\" +\n",
    "                \"Instead, got {}\".format(type(value)))\n",
    "        if not all([isinstance(a, str) for a in [name, latex, pretty]]):\n",
    "            raise TypeError(\"Parameters name, latex, pretty must be of type string\")\n",
    "        \n",
    "        obj = AtomicExpr.__new__(cls)\n",
    "        obj._value = value\n",
    "        obj._name = name\n",
    "        obj._latex_str = latex\n",
    "        obj._pretty_str = pretty\n",
    "        return obj\n",
    "\n",
    "    def _as_mpf_val(self, prec):\n",
    "        return mlib.from_float(self._value, prec)\n",
    "\n",
    "    def approximation_interval(self, number_cls):\n",
    "        if issubclass(number_cls, Integer):\n",
    "            return (Integer(math.floor(self._value)), Integer(math.ceil(self._value)))\n",
    "        elif issubclass(number_cls, Rational):\n",
    "            pass\n",
    "    \n",
    "    def _latex(self, printer):\n",
    "        if self._latex_str:\n",
    "            return self._latex_str\n",
    "        return self._name\n",
    "    \n",
    "    def _sympyrepr(self, printer, *args):\n",
    "        return (self.func.__name__ + \n",
    "            \"(value={}, name='{}', latex='{}', pretty='{}')\".format(\n",
    "                self._value, self._name, self._latex_str, self._pretty_str\n",
    "            ))\n",
    "\n",
    "    def _sympystr(self, printer, *args):\n",
    "        return self._name\n",
    "\n",
    "    def _pretty(self, printer, *args):\n",
    "        if printer._use_unicode and self._pretty_str:\n",
    "            return prettyForm(self._pretty_str)\n",
    "        return prettyForm(self._name)"
   ]
  },
  {
   "cell_type": "code",
   "execution_count": null,
   "metadata": {},
   "outputs": [],
   "source": [
    "t = Constant(6.5, \"tau\", r\"\\tau\", u\"\\N{Greek Small Letter Tau}\")\n",
    "t, t.evalf()"
   ]
  },
  {
   "cell_type": "code",
   "execution_count": null,
   "metadata": {},
   "outputs": [],
   "source": [
    "print(t)"
   ]
  },
  {
   "cell_type": "code",
   "execution_count": null,
   "metadata": {},
   "outputs": [],
   "source": [
    "pprint(t)"
   ]
  },
  {
   "cell_type": "code",
   "execution_count": null,
   "metadata": {},
   "outputs": [],
   "source": [
    "srepr(t)"
   ]
  },
  {
   "cell_type": "code",
   "execution_count": null,
   "metadata": {},
   "outputs": [],
   "source": [
    "print(\"is_real: \\t\", t.is_real)\n",
    "print(\"is_positive: \\t\", t.is_positive)\n",
    "print(\"is_negative: \\t\", t.is_negative)\n",
    "print(\"is_zero: \\t\", t.is_zero)"
   ]
  },
  {
   "cell_type": "code",
   "execution_count": null,
   "metadata": {},
   "outputs": [],
   "source": [
    "x = symbols(\"x\")\n",
    "expr = 2 * x + t\n",
    "expr"
   ]
  },
  {
   "cell_type": "code",
   "execution_count": null,
   "metadata": {},
   "outputs": [],
   "source": [
    "expr.evalf(subs={x: 1})"
   ]
  },
  {
   "cell_type": "code",
   "execution_count": null,
   "metadata": {},
   "outputs": [],
   "source": [
    "solve(expr, x)"
   ]
  },
  {
   "cell_type": "code",
   "execution_count": null,
   "metadata": {},
   "outputs": [],
   "source": []
  }
 ],
 "metadata": {
  "kernelspec": {
   "display_name": "Python 3 (ipykernel)",
   "language": "python",
   "name": "python3"
  },
  "language_info": {
   "codemirror_mode": {
    "name": "ipython",
    "version": 3
   },
   "file_extension": ".py",
   "mimetype": "text/x-python",
   "name": "python",
   "nbconvert_exporter": "python",
   "pygments_lexer": "ipython3",
   "version": "3.10.12"
  },
  "toc": {
   "base_numbering": 1,
   "nav_menu": {},
   "number_sections": true,
   "sideBar": true,
   "skip_h1_title": false,
   "title_cell": "Table of Contents",
   "title_sidebar": "Contents",
   "toc_cell": false,
   "toc_position": {},
   "toc_section_display": true,
   "toc_window_display": false
  }
 },
 "nbformat": 4,
 "nbformat_minor": 2
}
