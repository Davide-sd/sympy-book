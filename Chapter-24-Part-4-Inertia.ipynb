{
 "cells": [
  {
   "cell_type": "markdown",
   "id": "dcc9f8d2-6487-426b-ad32-c4949e04a7bc",
   "metadata": {},
   "source": [
    "## Inertia"
   ]
  },
  {
   "cell_type": "code",
   "execution_count": null,
   "id": "4e2e6668-5577-41fe-90e1-ef75afa739a2",
   "metadata": {},
   "outputs": [],
   "source": [
    "from sympy import *\n",
    "import sympy.physics.mechanics as me\n",
    "me.init_vprinting()"
   ]
  },
  {
   "cell_type": "code",
   "execution_count": null,
   "id": "1a2f4dae-3da9-4b34-ad09-3451c635206b",
   "metadata": {},
   "outputs": [],
   "source": [
    "N, A = symbols(\"N, A\", cls=me.ReferenceFrame)\n",
    "theta = symbols(\"theta\")\n",
    "A.orient_axis(N, N.z, theta)\n",
    "a, b, c, d, e, f = symbols(\"a, b, c, d, e, f\")\n",
    "v1 = a * N.x + b * N.y + c * N.z\n",
    "v2 = d * N.x + e * N.y + f * N.z\n",
    "dyad = v1.outer(v2)\n",
    "dyad"
   ]
  },
  {
   "cell_type": "code",
   "execution_count": null,
   "id": "4c589b78-c562-4106-86ff-d529a20881c3",
   "metadata": {},
   "outputs": [],
   "source": [
    "dyad.to_matrix(N)"
   ]
  },
  {
   "cell_type": "code",
   "execution_count": null,
   "id": "92c0f5e4-28ff-4e74-af11-312bd6cd31a5",
   "metadata": {},
   "outputs": [],
   "source": [
    "dyad ^ v1"
   ]
  },
  {
   "cell_type": "code",
   "execution_count": null,
   "id": "74cad0f1-44b5-46ab-be78-80fa8eeaa0e7",
   "metadata": {},
   "outputs": [],
   "source": [
    "dyad & v1"
   ]
  },
  {
   "cell_type": "code",
   "execution_count": null,
   "id": "dedf1ca2-dedf-4b7b-b49d-b382a0c30641",
   "metadata": {},
   "outputs": [],
   "source": [
    "v1 & (dyad & v1)"
   ]
  },
  {
   "cell_type": "code",
   "execution_count": null,
   "id": "ae7b80e2-a659-412b-8bb8-4bea029b9767",
   "metadata": {},
   "outputs": [],
   "source": [
    "dyad.express(A)"
   ]
  },
  {
   "cell_type": "markdown",
   "id": "8286195a-1bdf-4a47-a99e-0a85b7b126d9",
   "metadata": {},
   "source": [
    "### Example"
   ]
  },
  {
   "cell_type": "code",
   "execution_count": null,
   "id": "9b04b61d-e2b4-4ad2-b141-2534f2067fad",
   "metadata": {},
   "outputs": [],
   "source": [
    "m, w = symbols(\"m, w\", positive=True)\n",
    "theta = symbols(\"theta\")\n",
    "\n",
    "A, B, C = symbols(\"A, B, C\", cls=me.ReferenceFrame)\n",
    "B.orient_axis(A, A.y, pi/2)\n",
    "C.orient_axis(A, A.x, theta)\n",
    "\n",
    "O, As, Bs, Cs, P, Q = symbols(\"O, A^*, B^*, C^*, P, Q\", cls=me.Point)\n",
    "As.set_pos(O, w/2 * (A.x + A.y))\n",
    "Bs.set_pos(O, w/2 * (B.x + B.y))\n",
    "Cs.set_pos(O, w/2 * (C.x + C.y))\n",
    "P.set_pos(As, w/2 * (A.x + A.y))\n",
    "Q.set_pos(Bs, w/2 * (B.x + B.y))"
   ]
  },
  {
   "cell_type": "code",
   "execution_count": null,
   "id": "8cad754d-6ef0-4705-8901-dfb650395ee3",
   "metadata": {},
   "outputs": [],
   "source": [
    "def plate_inertia(N, m, a, b):\n",
    "    Ixx = Iyy = m * (a**2 + b**2) / 24\n",
    "    Izz = Ixx + Iyy\n",
    "    return me.inertia(N, Ixx, Iyy, Izz)\n",
    "\n",
    "I_A_As = plate_inertia(A, m, w, w)\n",
    "I_B_Bs = plate_inertia(B, m, w, w)\n",
    "I_C_Cs = plate_inertia(C, m, w, w)\n",
    "\n",
    "display(I_A_As, I_B_Bs, I_C_Cs)"
   ]
  },
  {
   "cell_type": "code",
   "execution_count": null,
   "id": "8d928c62-cdf8-46d4-8100-b487796e81f2",
   "metadata": {},
   "outputs": [],
   "source": [
    "I_As_P = me.inertia_of_point_mass(m, As.pos_from(P), A)\n",
    "I_Bs_P = me.inertia_of_point_mass(m, Bs.pos_from(P), B)\n",
    "I_Cs_P = me.inertia_of_point_mass(m, Cs.pos_from(P), C)\n",
    "display(I_As_P, I_Bs_P, I_Cs_P)"
   ]
  },
  {
   "cell_type": "code",
   "execution_count": null,
   "id": "79db984f-1973-491b-a6ac-a395c17f7fde",
   "metadata": {},
   "outputs": [],
   "source": [
    "I_A_P = I_A_As + I_As_P\n",
    "I_B_P = I_B_Bs + I_Bs_P\n",
    "I_C_P = I_C_Cs + I_Cs_P\n",
    "display(I_A_P, I_B_P, I_C_P)"
   ]
  },
  {
   "cell_type": "code",
   "execution_count": null,
   "id": "31fe1d8b-6fc1-4ef4-a310-20d024f00264",
   "metadata": {},
   "outputs": [],
   "source": [
    "I = I_A_P + I_B_P + I_C_P\n",
    "I = I.express(A)\n",
    "I"
   ]
  },
  {
   "cell_type": "code",
   "execution_count": null,
   "id": "23d1872a-f712-4ee3-aecf-4f7376dfa2dd",
   "metadata": {},
   "outputs": [],
   "source": [
    "n_PQ = P.pos_from(Q)\n",
    "n_PQ = (n_PQ / n_PQ.magnitude()).express(A)\n",
    "n_PQ"
   ]
  },
  {
   "cell_type": "code",
   "execution_count": null,
   "id": "d8ac8495-198b-471a-8722-ff8deb649496",
   "metadata": {},
   "outputs": [],
   "source": [
    "I_PQ = n_PQ & I & n_PQ\n",
    "I_PQ = I_PQ.simplify()\n",
    "I_PQ"
   ]
  },
  {
   "cell_type": "code",
   "execution_count": null,
   "id": "28609eea-1857-4ec7-ba59-3f642c09ec2f",
   "metadata": {},
   "outputs": [],
   "source": [
    "k = symbols(\"k\")\n",
    "sol = solve(I_PQ - 3 * m * k**2, k)\n",
    "k_sol = sol[1]\n",
    "k_sol"
   ]
  },
  {
   "cell_type": "code",
   "execution_count": null,
   "id": "c5fc015a-d9b0-482c-ad36-6add5e72cdd7",
   "metadata": {},
   "outputs": [],
   "source": [
    "dk_dtheta = k_sol.diff(theta)\n",
    "dk_dtheta"
   ]
  },
  {
   "cell_type": "code",
   "execution_count": null,
   "id": "2864ee0d-ad7a-479a-ad53-dbb9ae1d3ec0",
   "metadata": {},
   "outputs": [],
   "source": [
    "from spb import plot\n",
    "plot((k_sol / w, r\"$k(\\theta)$\"), (dk_dtheta / w, r\"$\\frac{\\partial k(\\theta)}{\\partial \\theta}$\"), (theta, 0, 2*pi))"
   ]
  },
  {
   "cell_type": "code",
   "execution_count": null,
   "id": "7620872e-603d-4c18-b1b4-2cd21478e981",
   "metadata": {},
   "outputs": [],
   "source": [
    "theta_val = nsolve(dk_dtheta / w, theta, 5.9)\n",
    "theta_val_deg = (theta_val * 180 / pi).n()\n",
    "theta_val_deg"
   ]
  },
  {
   "cell_type": "code",
   "execution_count": null,
   "id": "3de108e0-34d5-4667-8b7b-7196e677136f",
   "metadata": {},
   "outputs": [],
   "source": []
  }
 ],
 "metadata": {
  "kernelspec": {
   "display_name": "Python 3 (ipykernel)",
   "language": "python",
   "name": "python3"
  },
  "language_info": {
   "codemirror_mode": {
    "name": "ipython",
    "version": 3
   },
   "file_extension": ".py",
   "mimetype": "text/x-python",
   "name": "python",
   "nbconvert_exporter": "python",
   "pygments_lexer": "ipython3",
   "version": "3.12.3"
  }
 },
 "nbformat": 4,
 "nbformat_minor": 5
}
