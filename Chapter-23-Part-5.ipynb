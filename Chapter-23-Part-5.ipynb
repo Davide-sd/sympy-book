{
 "cells": [
  {
   "cell_type": "markdown",
   "metadata": {},
   "source": [
    "## 23.5 - Code Generation - Example - Three Body Problem"
   ]
  },
  {
   "cell_type": "code",
   "execution_count": null,
   "metadata": {},
   "outputs": [],
   "source": [
    "%matplotlib widget\n",
    "from sympy import *\n",
    "init_printing(use_latex=True)\n",
    "import numpy as np\n",
    "import matplotlib as mpl\n",
    "import matplotlib.pyplot as plt"
   ]
  },
  {
   "cell_type": "code",
   "execution_count": null,
   "metadata": {},
   "outputs": [],
   "source": [
    "get_pos = lambda i: Matrix([*[Symbol(s + str(i)) for s in [\"X\", \"Y\", \"Z\"]]])\n",
    "get_vel = lambda i: Matrix([*[Symbol(\"V_\" + s + str(i)) for s in [\"X\", \"Y\", \"Z\"]]])\n",
    "r1, r2, r3 = [get_pos(i) for i in range(1, 4)]\n",
    "v1, v2, v3 = [get_vel(i) for i in range(1, 4)]\n",
    "r1, r2, r3, v1, v2, v3"
   ]
  },
  {
   "cell_type": "code",
   "execution_count": null,
   "metadata": {},
   "outputs": [],
   "source": [
    "G, m1, m2, m3 = symbols(\"G, m1, m2, m3\")"
   ]
  },
  {
   "cell_type": "code",
   "execution_count": null,
   "metadata": {},
   "outputs": [],
   "source": [
    "def term(ma, ra, rb):\n",
    "    return G * ma * (ra - rb) / sqrt((ra - rb).dot(ra - rb))**3"
   ]
  },
  {
   "cell_type": "code",
   "execution_count": null,
   "metadata": {},
   "outputs": [],
   "source": [
    "a1 = term(m2, r2, r1) + term(m3, r3, r1)\n",
    "a2 = term(m1, r1, r2) + term(m3, r3, r2)\n",
    "a3 = term(m1, r1, r3) + term(m2, r2, r3)\n",
    "display(a1)"
   ]
  },
  {
   "cell_type": "code",
   "execution_count": null,
   "metadata": {},
   "outputs": [],
   "source": [
    "from collections import OrderedDict\n",
    "data = {\n",
    "    \"Flower in Circle\": OrderedDict([\n",
    "        (\"r1\", [-0.602885898116520, 1.059162128863347-1, 0]), \n",
    "        (\"r2\", [0.252709795391000, 1.058254872224370-1, 0]), \n",
    "        (\"r3\", [-0.355389016941814, 1.038323764315145-1, 0]), \n",
    "        (\"v1\", [0.122913546623784, 0.747443868604908, 0]), \n",
    "        (\"v2\", [-0.019325586404545, 1.369241993562101, 0]), \n",
    "        (\"v3\", [-0.103587960218793, -2.116685862168820, 0]),\n",
    "        (\"period\", 2.246101255307486),\n",
    "        (\"gmasses\", (1, 1, 1, 1))\n",
    "    ])\n",
    "}\n",
    "\n",
    "# initial conditions\n",
    "case = \"Flower in Circle\"\n",
    "y0 = [t for k, v in data[case].items() if isinstance(v, list) for t in v]\n",
    "period = data[case][\"period\"]\n",
    "_G, _m1, _m2, _m3 = data[case][\"gmasses\"]"
   ]
  },
  {
   "cell_type": "code",
   "execution_count": null,
   "metadata": {},
   "outputs": [],
   "source": [
    "from sympy_utils import plot_arrows_direction_from_line\n",
    "\n",
    "def add_line(x, y, i, label, arrows=True, N=6, hw=.025):\n",
    "    line = plt.plot(x, y, \"C\" + str(i))\n",
    "    plt.plot(x[0], y[0], \"oC\" + str(i), label=label)\n",
    "    \n",
    "    if arrows:\n",
    "        plot_arrows_direction_from_line(line, N, hw, skipfirst=True)\n",
    "    return line\n",
    "\n",
    "def plot_orbit(c, m=[1, 1, 1], com=True):\n",
    "    \"\"\" Plot the orbits for the Three Body Problem.\n",
    "    \n",
    "    Parameters\n",
    "    ----------\n",
    "        c : np.ndarray\n",
    "            Coordinates\n",
    "        m : float\n",
    "            Total mass\n",
    "        com : boolean\n",
    "            If True, plot in the Center Of Mass reference system.\n",
    "            Default to True\n",
    "    \"\"\"\n",
    "    if not isinstance(m, (list, tuple)):\n",
    "        raise TypeError(\"`m` must be a list of three elements\")\n",
    "    if len(m) != 3:\n",
    "        raise ValueError(\"`m` must be a list of three elements\")\n",
    "    m1, m2, m3 = m\n",
    "    m = m1 + m2 + m3\n",
    "    \n",
    "    fig = plt.figure()\n",
    "    if com:\n",
    "        xG = (m1 * c[0, :] + m1 * c[3, :] + m1 * c[6, :]) / m\n",
    "        yG = (m2 * c[1, :] + m2 * c[4, :] + m2 * c[7, :]) / m\n",
    "        zG = (m3 * c[2, :] + m3 * c[5, :] + m3 * c[8, :]) / m\n",
    "        add_line(c[0, :] - xG, c[1, :] - yG, 0, label=\"m1\")\n",
    "        add_line(c[3, :] - xG, c[4, :] - yG, 1, label=\"m2\")\n",
    "        add_line(c[6, :] - xG, c[7, :] - yG, 2, label=\"m3\")\n",
    "    else:\n",
    "        add_line(c[0, :], c[1, :], 0, label=\"m1\")\n",
    "        add_line(c[3, :], c[4, :], 1, label=\"m2\")\n",
    "        add_line(c[6, :], c[7, :], 2, label=\"m3\")\n",
    "    plt.xlabel(\"x\")\n",
    "    plt.ylabel(\"y\")\n",
    "    plt.title(\"Flower in circle\")\n",
    "    plt.grid()\n",
    "    plt.legend()\n",
    "    plt.axis(\"equal\")\n",
    "    plt.show()"
   ]
  },
  {
   "cell_type": "code",
   "execution_count": null,
   "metadata": {},
   "outputs": [],
   "source": [
    "from scipy.integrate import solve_ivp\n",
    "from sympy.utilities.codegen import codegen\n",
    "from sympy.utilities.autowrap import autowrap"
   ]
  },
  {
   "cell_type": "markdown",
   "metadata": {},
   "source": [
    "### 23.5.1 - Generating a lambda function"
   ]
  },
  {
   "cell_type": "code",
   "execution_count": null,
   "metadata": {},
   "outputs": [],
   "source": [
    "y = [*r1, *r2, *r3, *v1, *v2, *v3]\n",
    "dydt = [*v1, *v2, *v3, *a1, *a2, *a3]"
   ]
  },
  {
   "cell_type": "code",
   "execution_count": null,
   "metadata": {},
   "outputs": [],
   "source": [
    "Y = IndexedBase(\"Y\")\n",
    "d = dict(zip(y, Y))\n",
    "print(d)"
   ]
  },
  {
   "cell_type": "code",
   "execution_count": null,
   "metadata": {},
   "outputs": [],
   "source": [
    "dydt = [e.xreplace(d) for e in dydt]\n",
    "dydt[-1]"
   ]
  },
  {
   "cell_type": "code",
   "execution_count": null,
   "metadata": {},
   "outputs": [],
   "source": [
    "t = symbols(\"t\")\n",
    "f = lambdify([t, Y, G, m1, m2, m3], dydt, \"numpy\")"
   ]
  },
  {
   "cell_type": "code",
   "execution_count": null,
   "metadata": {},
   "outputs": [],
   "source": [
    "import inspect\n",
    "print(inspect.getsource(f))"
   ]
  },
  {
   "cell_type": "code",
   "execution_count": null,
   "metadata": {},
   "outputs": [],
   "source": [
    "sol = solve_ivp(f, [0, period], y0, args=(_G, _m1, _m2, _m3),\n",
    "              method=\"RK45\", rtol=1e-10, atol=1e-10)\n",
    "r = sol.y\n",
    "plot_orbit(r)"
   ]
  },
  {
   "cell_type": "code",
   "execution_count": null,
   "metadata": {},
   "outputs": [],
   "source": [
    "%timeit solve_ivp(f, [0, period], y0, args=(_G, _m1, _m2, _m3), method=\"RK45\", rtol=1e-10, atol=1e-10)"
   ]
  },
  {
   "cell_type": "markdown",
   "metadata": {},
   "source": [
    "### 23.5.2 - Generating an executable with autowrap()"
   ]
  },
  {
   "cell_type": "code",
   "execution_count": null,
   "metadata": {},
   "outputs": [],
   "source": [
    "from sympy.utilities.codegen import codegen\n",
    "from sympy.utilities.autowrap import autowrap\n",
    "y = [*r1, *r2, *r3, *v1, *v2, *v3]\n",
    "dydt = [*v1, *v2, *v3, *a1, *a2, *a3]"
   ]
  },
  {
   "cell_type": "code",
   "execution_count": null,
   "metadata": {},
   "outputs": [],
   "source": [
    "help(codegen)"
   ]
  },
  {
   "cell_type": "code",
   "execution_count": null,
   "metadata": {},
   "outputs": [],
   "source": [
    "[(cfilename, csourcecode), (hfilename, hsourcecode)] = codegen((\"three_body\", Matrix(dydt)), language=\"c\")\n",
    "print(csourcecode)"
   ]
  },
  {
   "cell_type": "code",
   "execution_count": null,
   "metadata": {},
   "outputs": [],
   "source": [
    "Y = MatrixSymbol(\"Y\", len(y), 1)\n",
    "d = dict(zip(y, Y))\n",
    "print(d)"
   ]
  },
  {
   "cell_type": "code",
   "execution_count": null,
   "metadata": {},
   "outputs": [],
   "source": [
    "dydt = Matrix(dydt).xreplace(d)\n",
    "[(cfilename, csourcecode), (hfilename, hsourcecode)] = codegen((\"three_body\", dydt), language=\"c\")\n",
    "print(csourcecode)"
   ]
  },
  {
   "cell_type": "code",
   "execution_count": null,
   "metadata": {},
   "outputs": [],
   "source": [
    "dY = MatrixSymbol(\"dY\", *dydt.shape)\n",
    "eq = Eq(dY, dydt)\n",
    "[(cfilename, csourcecode), (hfilename, hsourcecode)] = codegen((\"three_body\", eq), language=\"c\")\n",
    "print(csourcecode)"
   ]
  },
  {
   "cell_type": "code",
   "execution_count": null,
   "metadata": {},
   "outputs": [],
   "source": [
    "from sympy.utilities.codegen import C99CodeGen\n",
    "help(C99CodeGen)"
   ]
  },
  {
   "cell_type": "code",
   "execution_count": null,
   "metadata": {},
   "outputs": [],
   "source": [
    "cg = C99CodeGen(cse=True)\n",
    "[(cfilename, csourcecode), (hfilename, hsourcecode)] = codegen((\"three_body\", eq), code_gen=cg)\n",
    "print(csourcecode)"
   ]
  },
  {
   "cell_type": "code",
   "execution_count": null,
   "metadata": {},
   "outputs": [],
   "source": [
    "help(autowrap)"
   ]
  },
  {
   "cell_type": "code",
   "execution_count": null,
   "metadata": {},
   "outputs": [],
   "source": [
    "t = symbols(\"t\")\n",
    "binary_func = autowrap(eq, args=[t, Y, G, m1, m2, m3], \n",
    "                        backend='cython', tempdir='./wtf3', code_gen=cg)"
   ]
  },
  {
   "cell_type": "code",
   "execution_count": null,
   "metadata": {},
   "outputs": [],
   "source": [
    "def three_body_problem(t, y, G, m1, m2, m3):\n",
    "    dY = binary_func(t, y[:, np.newaxis], G, m1, m2, m3)\n",
    "    return dY.squeeze()"
   ]
  },
  {
   "cell_type": "code",
   "execution_count": null,
   "metadata": {},
   "outputs": [],
   "source": [
    "sol = solve_ivp(three_body_problem, [0, period], np.asarray(y0), args=(_G, _m1, _m2, _m3),\n",
    "              method=\"RK45\", rtol=1e-10, atol=1e-10)\n",
    "r = sol.y\n",
    "plot_orbit(r)"
   ]
  },
  {
   "cell_type": "code",
   "execution_count": null,
   "metadata": {},
   "outputs": [],
   "source": [
    "%timeit solve_ivp(three_body_problem, [0, period], np.asarray(y0), args=(_G, _m1, _m2, _m3), method=\"RK45\", rtol=1e-10, atol=1e-10)"
   ]
  },
  {
   "cell_type": "markdown",
   "metadata": {},
   "source": [
    "### 23.5.3 - Manually generating an executable"
   ]
  },
  {
   "cell_type": "markdown",
   "metadata": {},
   "source": [
    "Before executing the following cells, copy the folder `autowrap_3bp` (generated in the previous section) and follow the instructions on the book."
   ]
  },
  {
   "cell_type": "code",
   "execution_count": null,
   "metadata": {},
   "outputs": [],
   "source": [
    "import os\n",
    "olddir = os.getcwd()\n",
    "try:\n",
    "    os.chdir(os.path.join(olddir, \"autowrap_3bp_final\"))\n",
    "    !python3 setup.py build_ext --inplace\n",
    "finally:\n",
    "    os.chdir(olddir)"
   ]
  },
  {
   "cell_type": "code",
   "execution_count": null,
   "metadata": {},
   "outputs": [],
   "source": [
    "from autowrap_3bp_final.wrapper_module_0 import autofunc_c as three_body_binary\n"
   ]
  },
  {
   "cell_type": "code",
   "execution_count": null,
   "metadata": {},
   "outputs": [],
   "source": [
    "sol = solve_ivp(three_body_binary, [0, period], y0, args=(_G, _m1, _m2, _m3),\n",
    "              method=\"RK45\", rtol=1e-10, atol=1e-10)\n",
    "r = sol.y\n",
    "plot_orbit(r)"
   ]
  },
  {
   "cell_type": "code",
   "execution_count": null,
   "metadata": {},
   "outputs": [],
   "source": [
    "%timeit solve_ivp(three_body_binary, [0, period], y0, args=(_G, _m1, _m2, _m3), method=\"RK45\", rtol=1e-10, atol=1e-10)"
   ]
  },
  {
   "cell_type": "code",
   "execution_count": null,
   "metadata": {},
   "outputs": [],
   "source": []
  }
 ],
 "metadata": {
  "kernelspec": {
   "display_name": "Python 3",
   "language": "python",
   "name": "python3"
  },
  "language_info": {
   "codemirror_mode": {
    "name": "ipython",
    "version": 3
   },
   "file_extension": ".py",
   "mimetype": "text/x-python",
   "name": "python",
   "nbconvert_exporter": "python",
   "pygments_lexer": "ipython3",
   "version": "3.8.10"
  },
  "toc": {
   "base_numbering": 1,
   "nav_menu": {},
   "number_sections": true,
   "sideBar": true,
   "skip_h1_title": false,
   "title_cell": "Table of Contents",
   "title_sidebar": "Contents",
   "toc_cell": false,
   "toc_position": {},
   "toc_section_display": true,
   "toc_window_display": false
  }
 },
 "nbformat": 4,
 "nbformat_minor": 2
}
