{
 "cells": [
  {
   "cell_type": "code",
   "execution_count": null,
   "metadata": {},
   "outputs": [],
   "source": [
    "%matplotlib widget\n",
    "from sympy import *\n",
    "init_printing(use_latex=True)"
   ]
  },
  {
   "cell_type": "markdown",
   "metadata": {},
   "source": [
    "# 16 - Differential Equations"
   ]
  },
  {
   "cell_type": "code",
   "execution_count": null,
   "metadata": {},
   "outputs": [],
   "source": [
    "# x: position, F: external force\n",
    "x, F = symbols(\"x, F\", cls=Function)\n",
    "# t: time\n",
    "t = symbols(\"t\")\n",
    "# m: mass, g: damping coefficient, k: elastic coefficient\n",
    "m, g, k = symbols(\"m, gamma, k\", real=True, positive=True)\n",
    "expr1 = m * x(t).diff(t, 2) + g * x(t).diff(t) + k * x(t) - F(t)\n",
    "expr2 = m * Derivative(x(t), t, 2) + g * Derivative(x(t), t) + k * x(t) - F(t)\n",
    "expr1"
   ]
  },
  {
   "cell_type": "code",
   "execution_count": null,
   "metadata": {},
   "outputs": [],
   "source": [
    "t, x, nu = symbols(\"t, x, nu\")\n",
    "u = Function(\"u\")\n",
    "# apply the function\n",
    "ua = u(t, x)\n",
    "eq = Eq(ua.diff(t), nu * ua.diff(x, 2))\n",
    "eq"
   ]
  },
  {
   "cell_type": "markdown",
   "metadata": {},
   "source": [
    "## 16.1 - Solving Ordinary Differential Equations"
   ]
  },
  {
   "cell_type": "markdown",
   "metadata": {},
   "source": [
    "### 16.1.1 - Laplace Transform"
   ]
  },
  {
   "cell_type": "code",
   "execution_count": null,
   "metadata": {},
   "outputs": [],
   "source": [
    "# t: time domain, s: s-domain\n",
    "t, s = symbols(\"t, s\")\n",
    "# a: constant\n",
    "a = symbols(\"a\", real=True, positive=True)\n",
    "# expression in the time domain\n",
    "expr = exp(a * t)\n",
    "lt1 = laplace_transform(expr, t, s)\n",
    "lt2 = laplace_transform(expr, t, s, noconds=True)\n",
    "lt3 = LaplaceTransform(expr, t, s)\n",
    "display(expr, lt1, lt2, lt3)"
   ]
  },
  {
   "cell_type": "code",
   "execution_count": null,
   "metadata": {},
   "outputs": [],
   "source": [
    "lt3.args"
   ]
  },
  {
   "cell_type": "code",
   "execution_count": null,
   "metadata": {},
   "outputs": [],
   "source": [
    "inverse_laplace_transform(lt2, s, t)"
   ]
  },
  {
   "cell_type": "code",
   "execution_count": null,
   "metadata": {},
   "outputs": [],
   "source": [
    "srepr(_)"
   ]
  },
  {
   "cell_type": "code",
   "execution_count": null,
   "metadata": {},
   "outputs": [],
   "source": [
    "# x: position\n",
    "x = Function(\"x\")\n",
    "# t: time, s: s-domain\n",
    "t, s = symbols(\"t, s\")\n",
    "# m: mass, g: damping coefficient, k: elastic coefficient\n",
    "m, g, k = symbols(\"m, gamma, k\", real=True, positive=True)\n",
    "eq = Eq(m * x(t).diff(t, 2) + g * x(t).diff(t) + k * x(t), 0)\n",
    "eq"
   ]
  },
  {
   "cell_type": "code",
   "execution_count": null,
   "metadata": {},
   "outputs": [],
   "source": [
    "laplace_transform(eq.rewrite(Add), t, s, noconds=True)"
   ]
  },
  {
   "cell_type": "code",
   "execution_count": null,
   "metadata": {},
   "outputs": [],
   "source": [
    "from sympy_utils import laplace_transform_ode"
   ]
  },
  {
   "cell_type": "code",
   "execution_count": null,
   "metadata": {},
   "outputs": [],
   "source": [
    "td, sd, eq1 = laplace_transform_ode(eq, False)\n",
    "td, sd, eq2 = laplace_transform_ode(eq)\n",
    "display(eq1, eq2)"
   ]
  },
  {
   "cell_type": "markdown",
   "metadata": {},
   "source": [
    "### Example"
   ]
  },
  {
   "cell_type": "code",
   "execution_count": null,
   "metadata": {},
   "outputs": [],
   "source": [
    "y = Function(\"y\")\n",
    "t = Symbol(\"t\")\n",
    "eq = Eq(y(t).diff(t) + 2 * y(t), 12 * exp(3 * t))\n",
    "_, s, eq_transf = laplace_transform_ode(eq)\n",
    "eq_transf"
   ]
  },
  {
   "cell_type": "code",
   "execution_count": null,
   "metadata": {},
   "outputs": [],
   "source": [
    "ics = {\n",
    "    y(0): 3\n",
    "}\n",
    "eq_transf = eq_transf.subs(ics)\n",
    "eq_transf"
   ]
  },
  {
   "cell_type": "code",
   "execution_count": null,
   "metadata": {},
   "outputs": [],
   "source": [
    "ics = {\n",
    "    y(0): 3\n",
    "}\n",
    "eq_transf = eq_transf.subs(ics)\n",
    "eq_transf"
   ]
  },
  {
   "cell_type": "code",
   "execution_count": null,
   "metadata": {},
   "outputs": [],
   "source": [
    "Y = solve(eq_transf, Symbol(\"Y\"))[0]\n",
    "Y"
   ]
  },
  {
   "cell_type": "code",
   "execution_count": null,
   "metadata": {},
   "outputs": [],
   "source": [
    "inverse_laplace_transform(Y, s, t)"
   ]
  },
  {
   "cell_type": "markdown",
   "metadata": {},
   "source": [
    "### Example"
   ]
  },
  {
   "cell_type": "code",
   "execution_count": null,
   "metadata": {},
   "outputs": [],
   "source": [
    "x, y = symbols(\"x, y\", cls=Function)\n",
    "t = Symbol(\"t\")\n",
    "eq1 = Eq(x(t).diff(t) + y(t), exp(-t))\n",
    "eq2 = Eq(y(t).diff(t) - x(t), 3 * exp(-t))\n",
    "ics = {\n",
    "    x(0): 0,\n",
    "    y(0): 1\n",
    "}\n",
    "_, s, eq1t = laplace_transform_ode(eq1)\n",
    "_, _, eq2t = laplace_transform_ode(eq2)\n",
    "eq1t = eq1t.subs(ics)\n",
    "eq2t = eq2t.subs(ics)\n",
    "display(eq1t, eq2t)"
   ]
  },
  {
   "cell_type": "code",
   "execution_count": null,
   "metadata": {},
   "outputs": [],
   "source": [
    "r = solve([eq1t, eq2t], symbols(\"X, Y\"))\n",
    "r"
   ]
  },
  {
   "cell_type": "code",
   "execution_count": null,
   "metadata": {},
   "outputs": [],
   "source": [
    "x_sol = Eq(x(t), inverse_laplace_transform(r[Symbol(\"X\")], s, t))\n",
    "y_sol = Eq(y(t), inverse_laplace_transform(r[Symbol(\"Y\")], s, t))\n",
    "display(x_sol, y_sol)"
   ]
  },
  {
   "cell_type": "markdown",
   "metadata": {},
   "source": [
    "### Example"
   ]
  },
  {
   "cell_type": "code",
   "execution_count": null,
   "metadata": {},
   "outputs": [],
   "source": [
    "y = Function(\"y\")\n",
    "t = Symbol(\"t\")\n",
    "eq = Eq(y(t).diff(t, 2) + 2 * y(t).diff(t) + 2 * y(t), exp(-t))\n",
    "_, s, eq_transf = laplace_transform_ode(eq)\n",
    "eq_transf"
   ]
  },
  {
   "cell_type": "code",
   "execution_count": null,
   "metadata": {},
   "outputs": [],
   "source": [
    "ics = {\n",
    "    y(0): 0,\n",
    "    y(t).diff(t).subs(t, 0): 0\n",
    "}\n",
    "eq_transf = eq_transf.subs(ics)\n",
    "eq_transf "
   ]
  },
  {
   "cell_type": "code",
   "execution_count": null,
   "metadata": {},
   "outputs": [],
   "source": [
    "Y = solve(eq_transf, Symbol(\"Y\"))[0]\n",
    "Y"
   ]
  },
  {
   "cell_type": "code",
   "execution_count": null,
   "metadata": {},
   "outputs": [],
   "source": [
    "inverse_laplace_transform(Y, s, t)"
   ]
  },
  {
   "cell_type": "markdown",
   "metadata": {},
   "source": [
    "## 16.1.2 - The dsolve() function"
   ]
  },
  {
   "cell_type": "code",
   "execution_count": null,
   "metadata": {},
   "outputs": [],
   "source": [
    "# x: position\n",
    "x = symbols(\"x\", cls=Function)\n",
    "# t: time\n",
    "t = symbols(\"t\")\n",
    "# m: mass, g: damping coefficient, k: elastic coefficient\n",
    "m, g, k = symbols(\"m, gamma, k\", real=True, positive=True)\n",
    "eq = Eq(m * x(t).diff(t, 2) + g * x(t).diff(t) + k * x(t), 0)\n",
    "eq"
   ]
  },
  {
   "cell_type": "code",
   "execution_count": null,
   "metadata": {},
   "outputs": [],
   "source": [
    "sol = dsolve(eq)\n",
    "sol"
   ]
  },
  {
   "cell_type": "code",
   "execution_count": null,
   "metadata": {},
   "outputs": [],
   "source": [
    "srepr(sol)"
   ]
  },
  {
   "cell_type": "code",
   "execution_count": null,
   "metadata": {},
   "outputs": [],
   "source": [
    "constants = {\"C1\": Symbol(\"A\"), \"C2\": Symbol(\"B\")}\n",
    "sol.subs(constants)"
   ]
  },
  {
   "cell_type": "code",
   "execution_count": null,
   "metadata": {},
   "outputs": [],
   "source": [
    "x0, x0d = symbols(\"x_0, \\dot{x}_{0}\")\n",
    "ics = {\n",
    "    # we set t=0 in the position boundary condition\n",
    "    x(0): x0,\n",
    "    # we set t=0 in the velocity boundary condition after the differentiation\n",
    "    x(t).diff(t).subs(t, 0): x0d\n",
    "}\n",
    "ics"
   ]
  },
  {
   "cell_type": "code",
   "execution_count": null,
   "metadata": {},
   "outputs": [],
   "source": [
    "sol2 = dsolve(eq, ics=ics)\n",
    "sol2"
   ]
  },
  {
   "cell_type": "markdown",
   "metadata": {},
   "source": [
    "### Approximate Solution"
   ]
  },
  {
   "cell_type": "code",
   "execution_count": null,
   "metadata": {},
   "outputs": [],
   "source": [
    "x = symbols(\"x\")\n",
    "# note that we are applying the function\n",
    "y = Function(\"y\")(x)\n",
    "eq = Eq(y.diff(x, 2) - 2 * x * y.diff(x) + y, 0)\n",
    "eq"
   ]
  },
  {
   "cell_type": "code",
   "execution_count": null,
   "metadata": {},
   "outputs": [],
   "source": [
    "dsolve(eq)"
   ]
  },
  {
   "cell_type": "code",
   "execution_count": null,
   "metadata": {},
   "outputs": [],
   "source": [
    "dsolve(eq, x0=2, n=4)"
   ]
  },
  {
   "cell_type": "markdown",
   "metadata": {},
   "source": [
    "### Lack of Solutions"
   ]
  },
  {
   "cell_type": "code",
   "execution_count": null,
   "metadata": {},
   "outputs": [],
   "source": [
    "x, mu = symbols(\"x, mu\")\n",
    "y = Function(\"y\")(x)\n",
    "eq = Eq(y.diff(x, 2) + mu * (y**2 - 1) * y.diff(x) + y, 0)\n",
    "eq"
   ]
  },
  {
   "cell_type": "code",
   "execution_count": null,
   "metadata": {},
   "outputs": [],
   "source": [
    "dsolve(eq)"
   ]
  },
  {
   "cell_type": "markdown",
   "metadata": {},
   "source": [
    "## 16.2 - Solving Partial Differential Equations"
   ]
  },
  {
   "cell_type": "markdown",
   "metadata": {},
   "source": [
    "### Example"
   ]
  },
  {
   "cell_type": "code",
   "execution_count": null,
   "metadata": {},
   "outputs": [],
   "source": [
    "x, y = symbols(\"x, y\")\n",
    "u = Function(\"u\")(x, y)\n",
    "eq = Eq(2 * u.diff(x) + 3 * u.diff(y) + 8 * u, 0)\n",
    "r = pdsolve(eq)\n",
    "r"
   ]
  },
  {
   "cell_type": "code",
   "execution_count": null,
   "metadata": {},
   "outputs": [],
   "source": [
    "isinstance(r.rhs.args[0], Function)"
   ]
  },
  {
   "cell_type": "code",
   "execution_count": null,
   "metadata": {},
   "outputs": [],
   "source": [
    "srepr(r.rhs.args[0])"
   ]
  },
  {
   "cell_type": "code",
   "execution_count": null,
   "metadata": {},
   "outputs": [],
   "source": []
  }
 ],
 "metadata": {
  "kernelspec": {
   "display_name": "Python 3",
   "language": "python",
   "name": "python3"
  },
  "language_info": {
   "codemirror_mode": {
    "name": "ipython",
    "version": 3
   },
   "file_extension": ".py",
   "mimetype": "text/x-python",
   "name": "python",
   "nbconvert_exporter": "python",
   "pygments_lexer": "ipython3",
   "version": "3.8.10"
  },
  "toc": {
   "base_numbering": 1,
   "nav_menu": {},
   "number_sections": true,
   "sideBar": true,
   "skip_h1_title": false,
   "title_cell": "Table of Contents",
   "title_sidebar": "Contents",
   "toc_cell": false,
   "toc_position": {},
   "toc_section_display": true,
   "toc_window_display": false
  }
 },
 "nbformat": 4,
 "nbformat_minor": 2
}
