{
 "cells": [
  {
   "cell_type": "code",
   "execution_count": null,
   "metadata": {},
   "outputs": [],
   "source": [
    "%matplotlib widget\n",
    "from sympy import *\n",
    "init_printing(use_latex=True)"
   ]
  },
  {
   "cell_type": "markdown",
   "metadata": {},
   "source": [
    "# 16 - Differential Equations"
   ]
  },
  {
   "cell_type": "code",
   "execution_count": null,
   "metadata": {},
   "outputs": [],
   "source": [
    "# x: position, F: external force\n",
    "x, F = symbols(\"x, F\", cls=Function)\n",
    "# t: time\n",
    "t = symbols(\"t\")\n",
    "# m: mass, g: damping coefficient, k: elastic coefficient\n",
    "m, g, k = symbols(\"m, gamma, k\", real=True, positive=True)\n",
    "expr1 = m * x(t).diff(t, 2) + g * x(t).diff(t) + k * x(t) - F(t)\n",
    "expr2 = m * Derivative(x(t), t, 2) + g * Derivative(x(t), t) + k * x(t) - F(t)\n",
    "expr1"
   ]
  },
  {
   "cell_type": "code",
   "execution_count": null,
   "metadata": {},
   "outputs": [],
   "source": [
    "t, x, nu = symbols(\"t, x, nu\")\n",
    "u = Function(\"u\")\n",
    "# applied function\n",
    "ua = u(t, x)\n",
    "eq = Eq(ua.diff(t), nu * ua.diff(x, 2))\n",
    "eq"
   ]
  },
  {
   "cell_type": "markdown",
   "metadata": {},
   "source": [
    "## 16.1 - Solving Ordinary Differential Equations"
   ]
  },
  {
   "cell_type": "markdown",
   "metadata": {},
   "source": [
    "### 16.1.1 - Laplace Transform"
   ]
  },
  {
   "cell_type": "code",
   "execution_count": null,
   "metadata": {},
   "outputs": [],
   "source": [
    "# t: time domain, s: s-domain\n",
    "t, s = symbols(\"t, s\")\n",
    "# a: constant\n",
    "a = symbols(\"a\", real=True, positive=True)\n",
    "# expression in the time domain\n",
    "expr = exp(a * t)\n",
    "lt1 = laplace_transform(expr, t, s)\n",
    "lt2 = laplace_transform(expr, t, s, noconds=True)\n",
    "lt3 = LaplaceTransform(expr, t, s)\n",
    "display(expr, lt1, lt2, lt3)"
   ]
  },
  {
   "cell_type": "code",
   "execution_count": null,
   "metadata": {},
   "outputs": [],
   "source": [
    "lt3.args"
   ]
  },
  {
   "cell_type": "code",
   "execution_count": null,
   "metadata": {},
   "outputs": [],
   "source": [
    "inverse_laplace_transform(lt2, s, t)"
   ]
  },
  {
   "cell_type": "code",
   "execution_count": null,
   "metadata": {},
   "outputs": [],
   "source": [
    "srepr(_)"
   ]
  },
  {
   "cell_type": "code",
   "execution_count": null,
   "metadata": {},
   "outputs": [],
   "source": [
    "# x: position\n",
    "x = Function(\"x\")\n",
    "# t: time, s: s-domain\n",
    "t, s = symbols(\"t, s\")\n",
    "# m: mass, g: damping coefficient, k: elastic coefficient\n",
    "m, g, k = symbols(\"m, gamma, k\", real=True, positive=True)\n",
    "eq = Eq(m * x(t).diff(t, 2) + g * x(t).diff(t) + k * x(t), 0)\n",
    "eq"
   ]
  },
  {
   "cell_type": "code",
   "execution_count": null,
   "metadata": {},
   "outputs": [],
   "source": [
    "new_eq = laplace_transform(eq.rewrite(Add), t, s, noconds=True)\n",
    "new_eq"
   ]
  },
  {
   "cell_type": "code",
   "execution_count": null,
   "metadata": {},
   "outputs": [],
   "source": [
    "Xl = laplace_transform(x(t), t, s, noconds=True)\n",
    "Xl"
   ]
  },
  {
   "cell_type": "markdown",
   "metadata": {},
   "source": [
    "### Example"
   ]
  },
  {
   "cell_type": "code",
   "execution_count": null,
   "metadata": {},
   "outputs": [],
   "source": [
    "y = Function(\"y\")\n",
    "t, s = symbols(\"t, s\")\n",
    "eq = Eq(y(t).diff(t) + 2 * y(t), 12 * exp(3 * t))\n",
    "Yl = laplace_transform(y(t), t, s, noconds=True)\n",
    "eq_transf = laplace_transform(eq.rewrite(Add), t, s, noconds=True)\n",
    "display(Yl, eq_transf)"
   ]
  },
  {
   "cell_type": "code",
   "execution_count": null,
   "metadata": {},
   "outputs": [],
   "source": [
    "ics = {\n",
    "    y(0): 3\n",
    "}\n",
    "eq_transf = eq_transf.subs(ics)\n",
    "eq_transf"
   ]
  },
  {
   "cell_type": "code",
   "execution_count": null,
   "metadata": {},
   "outputs": [],
   "source": [
    "ics = {\n",
    "    y(0): 3\n",
    "}\n",
    "eq_transf = eq_transf.subs(ics)\n",
    "eq_transf"
   ]
  },
  {
   "cell_type": "code",
   "execution_count": null,
   "metadata": {},
   "outputs": [],
   "source": [
    "Y = solve(eq_transf, Yl)[0]\n",
    "Y"
   ]
  },
  {
   "cell_type": "code",
   "execution_count": null,
   "metadata": {},
   "outputs": [],
   "source": [
    "inverse_laplace_transform(Y, s, t)"
   ]
  },
  {
   "cell_type": "markdown",
   "metadata": {},
   "source": [
    "### Example"
   ]
  },
  {
   "cell_type": "code",
   "execution_count": null,
   "metadata": {},
   "outputs": [],
   "source": [
    "x, y = symbols(\"x, y\", cls=Function)\n",
    "t, s = symbols(\"t, s\")\n",
    "eq1 = Eq(x(t).diff(t) + y(t), exp(-t))\n",
    "eq2 = Eq(y(t).diff(t) - x(t), 3 * exp(-t))\n",
    "ics = {\n",
    "    x(0): 0,\n",
    "    y(0): 1\n",
    "}\n",
    "Xl = laplace_transform(x(t), t, s, noconds=True)\n",
    "Yl = laplace_transform(y(t), t, s, noconds=True)\n",
    "eq1t = laplace_transform(eq1.rewrite(Add), t, s, noconds=True)\n",
    "eq2t = laplace_transform(eq2.rewrite(Add), t, s, noconds=True)\n",
    "eq1t = eq1t.subs(ics)\n",
    "eq2t = eq2t.subs(ics)\n",
    "display(eq1t, eq2t)"
   ]
  },
  {
   "cell_type": "code",
   "execution_count": null,
   "metadata": {},
   "outputs": [],
   "source": [
    "r = solve([eq1t, eq2t], [Xl, Yl])\n",
    "r"
   ]
  },
  {
   "cell_type": "code",
   "execution_count": null,
   "metadata": {},
   "outputs": [],
   "source": [
    "x_sol = Eq(x(t), inverse_laplace_transform(r[Xl], s, t))\n",
    "y_sol = Eq(y(t), inverse_laplace_transform(r[Yl], s, t))\n",
    "display(x_sol, y_sol)"
   ]
  },
  {
   "cell_type": "markdown",
   "metadata": {},
   "source": [
    "### Example"
   ]
  },
  {
   "cell_type": "code",
   "execution_count": null,
   "metadata": {},
   "outputs": [],
   "source": [
    "y = Function(\"y\")\n",
    "t, s = symbols(\"t, s\")\n",
    "eq = Eq(y(t).diff(t, 2) + 2 * y(t).diff(t) + 2 * y(t), exp(-t))\n",
    "Yl = laplace_transform(y(t), t, s, noconds=True)\n",
    "eq_transf = laplace_transform(eq.rewrite(Add), t, s, noconds=True)\n",
    "eq_transf"
   ]
  },
  {
   "cell_type": "code",
   "execution_count": null,
   "metadata": {},
   "outputs": [],
   "source": [
    "ics = {\n",
    "    y(0): 0,\n",
    "    y(t).diff(t).subs(t, 0): 0\n",
    "}\n",
    "eq_transf = eq_transf.subs(ics)\n",
    "eq_transf"
   ]
  },
  {
   "cell_type": "code",
   "execution_count": null,
   "metadata": {},
   "outputs": [],
   "source": [
    "Y = solve(eq_transf, Yl)[0]\n",
    "Y"
   ]
  },
  {
   "cell_type": "code",
   "execution_count": null,
   "metadata": {},
   "outputs": [],
   "source": [
    "inverse_laplace_transform(Y, s, t)"
   ]
  },
  {
   "cell_type": "markdown",
   "metadata": {},
   "source": [
    "## 16.1.2 - The dsolve() function"
   ]
  },
  {
   "cell_type": "code",
   "execution_count": null,
   "metadata": {},
   "outputs": [],
   "source": [
    "# x: position\n",
    "x = symbols(\"x\", cls=Function)\n",
    "# t: time\n",
    "t = symbols(\"t\")\n",
    "# m: mass, g: damping coefficient, k: elastic coefficient\n",
    "m, g, k = symbols(\"m, gamma, k\", real=True, positive=True)\n",
    "eq = Eq(m * x(t).diff(t, 2) + g * x(t).diff(t) + k * x(t), 0)\n",
    "eq"
   ]
  },
  {
   "cell_type": "code",
   "execution_count": null,
   "metadata": {},
   "outputs": [],
   "source": [
    "sol = dsolve(eq)\n",
    "sol"
   ]
  },
  {
   "cell_type": "code",
   "execution_count": null,
   "metadata": {},
   "outputs": [],
   "source": [
    "srepr(sol)"
   ]
  },
  {
   "cell_type": "code",
   "execution_count": null,
   "metadata": {},
   "outputs": [],
   "source": [
    "constants = {\"C1\": Symbol(\"A\"), \"C2\": Symbol(\"B\")}\n",
    "sol.subs(constants)"
   ]
  },
  {
   "cell_type": "code",
   "execution_count": null,
   "metadata": {},
   "outputs": [],
   "source": [
    "x0, x0d = symbols(\"x_0, \\dot{x}_{0}\")\n",
    "ics = {\n",
    "    # we set t=0 in the position boundary condition\n",
    "    x(0): x0,\n",
    "    # we set t=0 in the velocity boundary condition after the differentiation\n",
    "    x(t).diff(t).subs(t, 0): x0d\n",
    "}\n",
    "ics"
   ]
  },
  {
   "cell_type": "code",
   "execution_count": null,
   "metadata": {},
   "outputs": [],
   "source": [
    "sol2 = dsolve(eq, ics=ics)\n",
    "sol2"
   ]
  },
  {
   "cell_type": "markdown",
   "metadata": {},
   "source": [
    "### Approximate Solution"
   ]
  },
  {
   "cell_type": "code",
   "execution_count": null,
   "metadata": {},
   "outputs": [],
   "source": [
    "x = symbols(\"x\")\n",
    "# note that we are applying the function\n",
    "y = Function(\"y\")(x)\n",
    "eq = Eq(y.diff(x, 2) - 2 * x * y.diff(x) + y, 0)\n",
    "eq"
   ]
  },
  {
   "cell_type": "code",
   "execution_count": null,
   "metadata": {},
   "outputs": [],
   "source": [
    "dsolve(eq)"
   ]
  },
  {
   "cell_type": "code",
   "execution_count": null,
   "metadata": {},
   "outputs": [],
   "source": [
    "dsolve(eq, x0=2, n=4)"
   ]
  },
  {
   "cell_type": "markdown",
   "metadata": {},
   "source": [
    "### Numerical Solution to ODEs"
   ]
  },
  {
   "cell_type": "code",
   "execution_count": null,
   "metadata": {},
   "outputs": [],
   "source": [
    "# https://en.wikipedia.org/wiki/Duffing_equation\n",
    "x = Function(\"x\")(t)\n",
    "alpha, beta, gamma, delta, omega = symbols(\"alpha, beta, gamma, delta, omega\")\n",
    "eq = Eq(x.diff(t, 2) + delta * x.diff(t) + alpha * x + beta * x**3, gamma * cos(omega * t))\n",
    "eq"
   ]
  },
  {
   "cell_type": "code",
   "execution_count": null,
   "metadata": {},
   "outputs": [],
   "source": [
    "dsolve(eq)"
   ]
  },
  {
   "cell_type": "code",
   "execution_count": null,
   "metadata": {},
   "outputs": [],
   "source": [
    "%matplotlib widget\n",
    "import matplotlib.pyplot as plt\n",
    "from matplotlib.animation import FuncAnimation\n",
    "import numpy as np\n",
    "from scipy.integrate import solve_ivp\n",
    "\n",
    "def duffing(t, y, alpha, beta, gamma, delta, omega):\n",
    "    return [\n",
    "        y[1],\n",
    "        -alpha * y[0] - beta * y[0]**3 - delta * y[1] + gamma * np.cos(omega * t)\n",
    "    ]\n",
    "\n",
    "alpha, beta, gamma, delta, omega = -1, 1, 0.3, 0.05, 2 * np.pi * 0.2\n",
    "\n",
    "t0, t1 = 0, 5000\n",
    "period = 2 * np.pi / omega\n",
    "n = 200 # number of steps per period\n",
    "dt = period / n\n",
    "t_eval = np.arange(t0, t1, dt)\n",
    "\n",
    "res = solve_ivp(\n",
    "    duffing, [t0, t1], y0=[0, .05], method=\"RK45\", t_eval=t_eval,\n",
    "    args=[alpha, beta, gamma, delta, omega])\n",
    "\n",
    "# visualize an evolution of the Poincaré map\n",
    "fig, ax = plt.subplots()\n",
    "idx = 1\n",
    "scatter = ax.scatter(res.y[0, idx::n], res.y[1, idx::n], s=1)\n",
    "ax.set_xlabel(\"x\")\n",
    "ax.set_ylabel(r\"$\\dot{x}$\", rotation=0)\n",
    "ax.set_ylabel(r\"$\\frac{dx}{dt}$\")\n",
    "ax.set_title(\"Poincaré map - $t = 0 \\cdot T$\")\n",
    "xmin, xmax = res.y[0, :].min(), res.y[0, :].max()\n",
    "offset_x = (xmax - xmin) * 0.05\n",
    "ymin, ymax = res.y[1, :].min(), res.y[1, :].max()\n",
    "offset_y = (xmax - xmin) * 0.05\n",
    "ax.set_xlim(xmin - offset_x, xmax + offset_x)\n",
    "ax.set_ylim(ymin - offset_y, ymax + offset_y)\n",
    "\n",
    "def update(idx):\n",
    "    data = np.array([res.y[0, idx::n], res.y[1, idx::n]]).T\n",
    "    scatter.set_offsets(data)\n",
    "    ax.set_title(\"Poincaré Map at $t = {:.3f} \\cdot T$\".format((idx + 1) / n))\n",
    "\n",
    "ani = FuncAnimation(fig, update, frames=list(range(n)), repeat=False)\n",
    "plt.show()"
   ]
  },
  {
   "cell_type": "markdown",
   "metadata": {},
   "source": [
    "## 16.2 - Solving Partial Differential Equations"
   ]
  },
  {
   "cell_type": "markdown",
   "metadata": {},
   "source": [
    "### Example"
   ]
  },
  {
   "cell_type": "code",
   "execution_count": null,
   "metadata": {},
   "outputs": [],
   "source": [
    "x, y = symbols(\"x, y\")\n",
    "u = Function(\"u\")(x, y)\n",
    "eq = Eq(2 * u.diff(x) + 3 * u.diff(y) + 8 * u, 0)\n",
    "r = pdsolve(eq)\n",
    "r"
   ]
  },
  {
   "cell_type": "code",
   "execution_count": null,
   "metadata": {},
   "outputs": [],
   "source": [
    "isinstance(r.rhs.args[0], Function)"
   ]
  },
  {
   "cell_type": "code",
   "execution_count": null,
   "metadata": {},
   "outputs": [],
   "source": [
    "srepr(r.rhs.args[0])"
   ]
  },
  {
   "cell_type": "code",
   "execution_count": null,
   "metadata": {},
   "outputs": [],
   "source": []
  }
 ],
 "metadata": {
  "kernelspec": {
   "display_name": "Python 3 (ipykernel)",
   "language": "python",
   "name": "python3"
  },
  "language_info": {
   "codemirror_mode": {
    "name": "ipython",
    "version": 3
   },
   "file_extension": ".py",
   "mimetype": "text/x-python",
   "name": "python",
   "nbconvert_exporter": "python",
   "pygments_lexer": "ipython3",
   "version": "3.10.12"
  },
  "toc": {
   "base_numbering": 1,
   "nav_menu": {},
   "number_sections": true,
   "sideBar": true,
   "skip_h1_title": false,
   "title_cell": "Table of Contents",
   "title_sidebar": "Contents",
   "toc_cell": false,
   "toc_position": {},
   "toc_section_display": true,
   "toc_window_display": false
  }
 },
 "nbformat": 4,
 "nbformat_minor": 2
}
