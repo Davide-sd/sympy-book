{
 "cells": [
  {
   "cell_type": "markdown",
   "id": "c667e975-59c7-46c5-bdbc-e2af1399a474",
   "metadata": {},
   "source": [
    "## Particles and Rigid Bodies"
   ]
  },
  {
   "cell_type": "code",
   "execution_count": null,
   "id": "1b01984b-58b1-4352-90f4-19d645bd63c4",
   "metadata": {},
   "outputs": [],
   "source": [
    "from sympy import *\n",
    "import sympy.physics.mechanics as me\n",
    "me.init_vprinting()"
   ]
  },
  {
   "cell_type": "markdown",
   "id": "2b4e3018-1fff-4a21-9240-fd7a764aa520",
   "metadata": {},
   "source": [
    "### Example - Crank-Slider mechanism"
   ]
  },
  {
   "cell_type": "code",
   "execution_count": null,
   "id": "c83bea1a-01a5-407a-989b-2a0db3aff21f",
   "metadata": {},
   "outputs": [],
   "source": [
    "q1, q2, q3 = me.dynamicsymbols(\"q1, q2, q3\")\n",
    "N, A, B = symbols(\"N, A, B\", cls=me.ReferenceFrame)\n",
    "A.orient_axis(N, N.z, q1)\n",
    "B.orient_axis(A, A.z, q2 - q1)\n",
    "\n",
    "O, P, Q, R = symbols(\"O, P, Q, R\", cls=me.Point)\n",
    "\n",
    "L1, L2 = symbols(\"L1, L2\")\n",
    "P.set_pos(O, L1 * A.x)\n",
    "Q.set_pos(P, L2 * B.x)\n",
    "R.set_pos(O, q3 * N.x)\n",
    "\n",
    "O.set_vel(N, 0)\n",
    "P.set_vel(A, 0)\n",
    "Q.set_vel(B, 0)\n",
    "\n",
    "v_P_N = P.v2pt_theory(O, N, A)\n",
    "a_P_N = P.a2pt_theory(O, N, A)\n",
    "v_Q_N = Q.v2pt_theory(P, N, B)\n",
    "a_Q_N = Q.a2pt_theory(P, N, B)"
   ]
  },
  {
   "cell_type": "code",
   "execution_count": null,
   "id": "b72d142d-8a0c-4c5b-82bc-ca1c8d48301c",
   "metadata": {},
   "outputs": [],
   "source": [
    "m = symbols(\"m\") # mass of the slider\n",
    "slider_particle = me.Particle(\"slider\", R, m)"
   ]
  },
  {
   "cell_type": "code",
   "execution_count": null,
   "id": "de013a92-941e-4061-9000-70526fe8298e",
   "metadata": {},
   "outputs": [],
   "source": [
    "G1 = O.locatenew(\"G1\", L1 / 2 * A.x) # CoM of the crank\n",
    "G2 = P.locatenew(\"G2\", L2 / 2 * B.x) # CoM of the rod"
   ]
  },
  {
   "cell_type": "code",
   "execution_count": null,
   "id": "59bbfe3c-affe-4dcc-8c77-cd73b561cafc",
   "metadata": {},
   "outputs": [],
   "source": [
    "rho1, rho2 = symbols(\"rho_1, rho_2\")\n",
    "inertia1 = me.inertia(A, 0, rho1 * L1**3 / 12, rho1 * L1**3 / 12)\n",
    "inertia2 = me.inertia(B, 0, rho2 * L2**3 / 12, rho2 * L2**3 / 12)\n",
    "display(inertia1, inertia2)"
   ]
  },
  {
   "cell_type": "code",
   "execution_count": null,
   "id": "efc46cb3-dc6e-4968-acb1-865c5bd40111",
   "metadata": {},
   "outputs": [],
   "source": [
    "crank_body = me.RigidBody(\"crank\", G1, A, rho1 * L1, (inertia1, G1))\n",
    "rod_body = me.RigidBody(\"rod\", G2, B, rho2 * L2, (inertia2, G2))"
   ]
  },
  {
   "cell_type": "code",
   "execution_count": null,
   "id": "8e3e9731-57f8-4359-ba03-c8c54b1c2ebf",
   "metadata": {},
   "outputs": [],
   "source": [
    "display(\n",
    "    crank_body.mass,\n",
    "    crank_body.masscenter,\n",
    "    (crank_body.frame.x, crank_body.frame.y, crank_body.frame.z),\n",
    "    crank_body.inertia[0]\n",
    ")"
   ]
  },
  {
   "cell_type": "code",
   "execution_count": null,
   "id": "e4f668cd-4f7b-4ce1-9037-1fe70bfa028e",
   "metadata": {},
   "outputs": [],
   "source": [
    "tmp_body = me.RigidBody(\"tmp\")\n",
    "display(\n",
    "    tmp_body.mass,\n",
    "    tmp_body.masscenter,\n",
    "    (tmp_body.frame.x, tmp_body.frame.y, tmp_body.frame.z),\n",
    "    tmp_body.inertia[0]\n",
    ")"
   ]
  },
  {
   "cell_type": "code",
   "execution_count": null,
   "id": "568c9fa7-f47b-4087-a87a-d77264646554",
   "metadata": {},
   "outputs": [],
   "source": []
  }
 ],
 "metadata": {
  "kernelspec": {
   "display_name": "Python 3 (ipykernel)",
   "language": "python",
   "name": "python3"
  },
  "language_info": {
   "codemirror_mode": {
    "name": "ipython",
    "version": 3
   },
   "file_extension": ".py",
   "mimetype": "text/x-python",
   "name": "python",
   "nbconvert_exporter": "python",
   "pygments_lexer": "ipython3",
   "version": "3.12.3"
  }
 },
 "nbformat": 4,
 "nbformat_minor": 5
}
