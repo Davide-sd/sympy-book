{
 "cells": [
  {
   "cell_type": "code",
   "execution_count": null,
   "metadata": {},
   "outputs": [],
   "source": [
    "%matplotlib widget\n",
    "from sympy import *\n",
    "init_printing(use_latex=True)"
   ]
  },
  {
   "cell_type": "markdown",
   "metadata": {},
   "source": [
    "# 21 - Assumptions"
   ]
  },
  {
   "cell_type": "markdown",
   "metadata": {},
   "source": [
    "## 21.1 - New Assumption Module"
   ]
  },
  {
   "cell_type": "markdown",
   "metadata": {},
   "source": [
    "### 21.1.1 - The Need for New Assumptions"
   ]
  },
  {
   "cell_type": "code",
   "execution_count": null,
   "metadata": {},
   "outputs": [],
   "source": [
    "x, y = symbols(\"x, y\", positive=True)\n",
    "expr = x + y\n",
    "expr.is_positive, expr.is_zero, expr.is_negative"
   ]
  },
  {
   "cell_type": "code",
   "execution_count": null,
   "metadata": {},
   "outputs": [],
   "source": [
    "x = symbols(\"x\", real=True)"
   ]
  },
  {
   "cell_type": "code",
   "execution_count": null,
   "metadata": {},
   "outputs": [],
   "source": [
    "sqrt(x**2)"
   ]
  },
  {
   "cell_type": "code",
   "execution_count": null,
   "metadata": {},
   "outputs": [],
   "source": [
    "Pow(Pow(x, 2), S.Half)"
   ]
  },
  {
   "cell_type": "markdown",
   "metadata": {},
   "source": [
    "### 21.1.2 - The “New Assumption Module”"
   ]
  },
  {
   "cell_type": "code",
   "execution_count": null,
   "metadata": {},
   "outputs": [],
   "source": [
    "x = Symbol(\"x\")\n",
    "p = Q.positive(x)\n",
    "print(type(p), p.args)"
   ]
  },
  {
   "cell_type": "code",
   "execution_count": null,
   "metadata": {},
   "outputs": [],
   "source": [
    "x, y = symbols(\"x, y\")\n",
    "ask(Q.positive(x * y), Q.positive(x) & Q.negative(y))"
   ]
  },
  {
   "cell_type": "code",
   "execution_count": null,
   "metadata": {},
   "outputs": [],
   "source": [
    "ask(Q.real(x) | Q.integer(x), Q.positive(x))"
   ]
  },
  {
   "cell_type": "code",
   "execution_count": null,
   "metadata": {},
   "outputs": [],
   "source": [
    "X = MatrixSymbol(\"X\", 2, 2)\n",
    "Y = MatrixSymbol(\"Y\", 2, 2)\n",
    "ask(Q.positive_definite(X + Y), Q.positive_definite(X) & Q.positive_definite(Y))"
   ]
  },
  {
   "cell_type": "code",
   "execution_count": null,
   "metadata": {},
   "outputs": [],
   "source": [
    "x = Symbol(\"x\")\n",
    "r1 = refine(sqrt(x**2), Q.positive(x))\n",
    "r2 = refine(sqrt(x**2), Q.real(x))\n",
    "r1, r2"
   ]
  },
  {
   "cell_type": "markdown",
   "metadata": {},
   "source": [
    "## 21.2 - Limitation of the “New Assumptions” Module"
   ]
  },
  {
   "cell_type": "markdown",
   "metadata": {},
   "source": [
    "### 21.2.1 - Keeping Track of the Assumptions"
   ]
  },
  {
   "cell_type": "code",
   "execution_count": null,
   "metadata": {},
   "outputs": [],
   "source": [
    "x, y = symbols(\"x, y\")\n",
    "expr1 = x + y\n",
    "expr2 = x**2 * y\n",
    "a1 = ask(Q.positive(expr1), Q.positive(x) & Q.positive(y))\n",
    "a2 = ask(Q.positive(expr2), Q.positive(x) & Q.positive(y))\n",
    "a1, a2"
   ]
  },
  {
   "cell_type": "code",
   "execution_count": null,
   "metadata": {},
   "outputs": [],
   "source": [
    "assumptions = (Q.positive(x), Q.positive(y))\n",
    "with assuming(*assumptions):\n",
    "    print(ask(Q.positive(expr1)), ask(Q.positive(expr2)))"
   ]
  },
  {
   "cell_type": "markdown",
   "metadata": {},
   "source": [
    "### 21.2.3 - New Assumptions Are Not Used by Sympy"
   ]
  },
  {
   "cell_type": "code",
   "execution_count": null,
   "metadata": {},
   "outputs": [],
   "source": [
    "x1 = symbols(\"x\")\n",
    "a1 = symbols(\"a\", nonzero=True)\n",
    "exp(a1 * x1).integrate(x1)"
   ]
  },
  {
   "cell_type": "code",
   "execution_count": null,
   "metadata": {},
   "outputs": [],
   "source": [
    "x2 = symbols(\"x\")\n",
    "a2 = symbols(\"a\")\n",
    "with assuming(Q.nonzero(a2)):\n",
    "    r = exp(a2 * x2).integrate(x2)\n",
    "    display(r)"
   ]
  },
  {
   "cell_type": "markdown",
   "metadata": {},
   "source": [
    "### 21.2.3 - Limitation on refine()"
   ]
  },
  {
   "cell_type": "code",
   "execution_count": null,
   "metadata": {},
   "outputs": [],
   "source": [
    "x = symbols(\"x\")\n",
    "expr = sqrt(x**2)\n",
    "r1, r2 = refine(expr, Q.real(x)), refine(expr, Q.positive(x))\n",
    "expr, r1, r2"
   ]
  },
  {
   "cell_type": "code",
   "execution_count": null,
   "metadata": {},
   "outputs": [],
   "source": [
    "x2 = symbols(\"x\")\n",
    "a2 = symbols(\"a\")\n",
    "with assuming(Q.nonzero(a2)):\n",
    "    r = exp(a2 * x2).integrate(x2)\n",
    "    display(refine(r, Q.nonzero(a2)))"
   ]
  },
  {
   "cell_type": "markdown",
   "metadata": {},
   "source": [
    "## 21.3 - Advanced Topics"
   ]
  },
  {
   "cell_type": "markdown",
   "metadata": {},
   "source": [
    "### 21.3.1 - Structure of the Old Assumption Module"
   ]
  },
  {
   "cell_type": "code",
   "execution_count": null,
   "metadata": {},
   "outputs": [],
   "source": [
    "n = Float(2.5)\n",
    "n.is_integer"
   ]
  },
  {
   "cell_type": "code",
   "execution_count": null,
   "metadata": {
    "scrolled": true
   },
   "outputs": [],
   "source": [
    "Float.default_assumptions"
   ]
  },
  {
   "cell_type": "code",
   "execution_count": null,
   "metadata": {},
   "outputs": [],
   "source": [
    "Float._prop_handler"
   ]
  },
  {
   "cell_type": "markdown",
   "metadata": {},
   "source": [
    "### 21.3.2 - Structure of the New Assumption Module"
   ]
  },
  {
   "cell_type": "code",
   "execution_count": null,
   "metadata": {},
   "outputs": [],
   "source": [
    "from sympy.assumptions.assume import global_assumptions\n",
    "x = Symbol(\"x\")\n",
    "global_assumptions.add(Q.real(x))\n",
    "global_assumptions"
   ]
  },
  {
   "cell_type": "code",
   "execution_count": null,
   "metadata": {},
   "outputs": [],
   "source": [
    "with assuming():\n",
    "    print(ask(Q.real(2 * x)))"
   ]
  },
  {
   "cell_type": "code",
   "execution_count": null,
   "metadata": {},
   "outputs": [],
   "source": []
  }
 ],
 "metadata": {
  "kernelspec": {
   "display_name": "Python 3",
   "language": "python",
   "name": "python3"
  },
  "language_info": {
   "codemirror_mode": {
    "name": "ipython",
    "version": 3
   },
   "file_extension": ".py",
   "mimetype": "text/x-python",
   "name": "python",
   "nbconvert_exporter": "python",
   "pygments_lexer": "ipython3",
   "version": "3.8.10"
  },
  "toc": {
   "base_numbering": 1,
   "nav_menu": {},
   "number_sections": true,
   "sideBar": true,
   "skip_h1_title": false,
   "title_cell": "Table of Contents",
   "title_sidebar": "Contents",
   "toc_cell": false,
   "toc_position": {},
   "toc_section_display": true,
   "toc_window_display": false
  }
 },
 "nbformat": 4,
 "nbformat_minor": 2
}
