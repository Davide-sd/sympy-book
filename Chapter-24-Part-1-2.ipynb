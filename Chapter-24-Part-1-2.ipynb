{
 "cells": [
  {
   "cell_type": "markdown",
   "id": "15c96be2",
   "metadata": {},
   "source": [
    "## Frames of Reference and vectors"
   ]
  },
  {
   "cell_type": "code",
   "execution_count": 1,
   "id": "39368eab",
   "metadata": {},
   "outputs": [],
   "source": [
    "from sympy import *\n",
    "import sympy.physics.mechanics as me\n",
    "me.init_vprinting()"
   ]
  },
  {
   "cell_type": "code",
   "execution_count": 2,
   "id": "fc69cc35",
   "metadata": {},
   "outputs": [
    {
     "data": {
      "image/png": "[encoded data removed]",
      "text/latex": [
       "$\\displaystyle \\dot{f} + \\ddot{f}$"
      ],
      "text/plain": [
       "ḟ + f̈"
      ]
     },
     "execution_count": 2,
     "metadata": {},
     "output_type": "execute_result"
    }
   ],
   "source": [
    "t = symbols(\"t\")\n",
    "f = Function(\"f\")(t)\n",
    "f.diff(t, 2) + f.diff(t)"
   ]
  },
  {
   "cell_type": "code",
   "execution_count": 3,
   "id": "34cc5673",
   "metadata": {},
   "outputs": [
    {
     "data": {
      "image/png": "[encoded data removed]",
      "text/latex": [
       "$\\displaystyle \\left( \\mathbf{\\hat{n}_x}, \\  \\mathbf{\\hat{n}_y}, \\  \\mathbf{\\hat{n}_z}\\right)$"
      ],
      "text/plain": [
       "(n_x, n_y, n_z)"
      ]
     },
     "execution_count": 3,
     "metadata": {},
     "output_type": "execute_result"
    }
   ],
   "source": [
    "N = me.ReferenceFrame(\"N\")\n",
    "N.x, N.y, N.z"
   ]
  },
  {
   "cell_type": "code",
   "execution_count": 4,
   "id": "f5f6058c",
   "metadata": {},
   "outputs": [
    {
     "data": {
      "image/png": "[encoded data removed]",
      "text/latex": [
       "$\\displaystyle \\left[\\begin{matrix}\\cos{\\left(\\theta \\right)} & \\sin{\\left(\\theta \\right)} & 0\\\\- \\sin{\\left(\\theta \\right)} & \\cos{\\left(\\theta \\right)} & 0\\\\0 & 0 & 1\\end{matrix}\\right]$"
      ],
      "text/plain": [
       "⎡cos(θ)   sin(θ)  0⎤\n",
       "⎢                  ⎥\n",
       "⎢-sin(θ)  cos(θ)  0⎥\n",
       "⎢                  ⎥\n",
       "⎣   0       0     1⎦"
      ]
     },
     "execution_count": 4,
     "metadata": {},
     "output_type": "execute_result"
    }
   ],
   "source": [
    "theta = symbols(\"theta\")\n",
    "A = me.ReferenceFrame(\"A\")\n",
    "A.orient_axis(N, N.z, theta)\n",
    "A.dcm(N)"
   ]
  },
  {
   "cell_type": "code",
   "execution_count": 5,
   "id": "d55ef6f0",
   "metadata": {},
   "outputs": [
    {
     "data": {
      "image/png": "[encoded data removed]",
      "text/latex": [
       "$\\displaystyle \\left( \\left[\\begin{matrix}1 & 0 & 0\\\\0 & \\cos{\\left(\\phi \\right)} & \\sin{\\left(\\phi \\right)}\\\\0 & - \\sin{\\left(\\phi \\right)} & \\cos{\\left(\\phi \\right)}\\end{matrix}\\right], \\  \\left[\\begin{matrix}\\cos{\\left(\\theta \\right)} & \\sin{\\left(\\theta \\right)} & 0\\\\- \\sin{\\left(\\theta \\right)} \\cos{\\left(\\phi \\right)} & \\cos{\\left(\\phi \\right)} \\cos{\\left(\\theta \\right)} & \\sin{\\left(\\phi \\right)}\\\\\\sin{\\left(\\phi \\right)} \\sin{\\left(\\theta \\right)} & - \\sin{\\left(\\phi \\right)} \\cos{\\left(\\theta \\right)} & \\cos{\\left(\\phi \\right)}\\end{matrix}\\right]\\right)$"
      ],
      "text/plain": [
       "⎛⎡1     0       0   ⎤  ⎡    cos(θ)          sin(θ)        0   ⎤⎞\n",
       "⎜⎢                  ⎥  ⎢                                      ⎥⎟\n",
       "⎜⎢0  cos(φ)   sin(φ)⎥, ⎢-sin(θ)⋅cos(φ)  cos(φ)⋅cos(θ)   sin(φ)⎥⎟\n",
       "⎜⎢                  ⎥  ⎢                                      ⎥⎟\n",
       "⎝⎣0  -sin(φ)  cos(φ)⎦  ⎣sin(φ)⋅sin(θ)   -sin(φ)⋅cos(θ)  cos(φ)⎦⎠"
      ]
     },
     "execution_count": 5,
     "metadata": {},
     "output_type": "execute_result"
    }
   ],
   "source": [
    "phi = symbols(\"phi\")\n",
    "B = me.ReferenceFrame(\"B\")\n",
    "B.orient_axis(A, A.x, phi)\n",
    "B.dcm(A), B.dcm(N)"
   ]
  },
  {
   "cell_type": "code",
   "execution_count": 6,
   "id": "887df47a",
   "metadata": {},
   "outputs": [
    {
     "data": {
      "image/png": "[encoded data removed]",
      "text/latex": [
       "$\\displaystyle \\mathbf{\\hat{n}_x} + 2\\mathbf{\\hat{n}_y} + 3\\mathbf{\\hat{n}_z}$"
      ],
      "text/plain": [
       "n_x + 2 n_y + 3 n_z"
      ]
     },
     "execution_count": 6,
     "metadata": {},
     "output_type": "execute_result"
    }
   ],
   "source": [
    "v1 = N.x + 2 * N.y + 3 * N.z\n",
    "v1"
   ]
  },
  {
   "cell_type": "code",
   "execution_count": 7,
   "id": "6410040e",
   "metadata": {},
   "outputs": [
    {
     "data": {
      "image/png": "[encoded data removed]",
      "text/latex": [
       "$\\displaystyle \\mathbf{\\hat{n}_x} + 2\\mathbf{\\hat{a}_y} + 3\\mathbf{\\hat{b}_z}$"
      ],
      "text/plain": [
       "n_x + 2 a_y + 3 b_z"
      ]
     },
     "execution_count": 7,
     "metadata": {},
     "output_type": "execute_result"
    }
   ],
   "source": [
    "v2 = N.x + 2 * A.y + 3 * B.z\n",
    "v2"
   ]
  },
  {
   "cell_type": "code",
   "execution_count": 8,
   "id": "e72c0034",
   "metadata": {},
   "outputs": [
    {
     "data": {
      "image/png": "[encoded data removed]",
      "text/latex": [
       "$\\displaystyle (2 \\sin{\\left(\\theta \\right)} + \\cos{\\left(\\theta \\right)})\\mathbf{\\hat{a}_x} + (- \\sin{\\left(\\theta \\right)} + 2 \\cos{\\left(\\theta \\right)})\\mathbf{\\hat{a}_y} + 3\\mathbf{\\hat{a}_z}$"
      ],
      "text/plain": [
       "(2⋅sin(θ) + cos(θ)) a_x + (-sin(θ) + 2⋅cos(θ)) a_y + 3 a_z"
      ]
     },
     "metadata": {},
     "output_type": "display_data"
    },
    {
     "data": {
      "image/png": "[encoded data removed]",
      "text/latex": [
       "$\\displaystyle (3 \\sin{\\left(\\phi \\right)} \\sin{\\left(\\theta \\right)} - 2 \\sin{\\left(\\theta \\right)} + 1)\\mathbf{\\hat{n}_x} + (- 3 \\sin{\\left(\\phi \\right)} \\cos{\\left(\\theta \\right)} + 2 \\cos{\\left(\\theta \\right)})\\mathbf{\\hat{n}_y} + 3 \\cos{\\left(\\phi \\right)}\\mathbf{\\hat{n}_z}$"
      ],
      "text/plain": [
       "(3⋅sin(φ)⋅sin(θ) - 2⋅sin(θ) + 1) n_x + (-3⋅sin(φ)⋅cos(θ) + 2⋅cos(θ)) n_y + 3⋅cos(φ) n_z"
      ]
     },
     "metadata": {},
     "output_type": "display_data"
    }
   ],
   "source": [
    "display(v1.express(A), v2.express(N))"
   ]
  },
  {
   "cell_type": "code",
   "execution_count": null,
   "id": "324294f9",
   "metadata": {},
   "outputs": [],
   "source": [
    "scalar_field = N[0] * N[1] + N[2]\n",
    "res = me.gradient(scalar_field, N)\n",
    "display(scalar_field, res)"
   ]
  },
  {
   "cell_type": "code",
   "execution_count": null,
   "id": "e2ccb808",
   "metadata": {},
   "outputs": [],
   "source": [
    "C = me.ReferenceFrame(\"C\", variables=[\"x\", \"y\", \"z\"])\n",
    "vector_field = C[0]*C[1]*C[2] * C.x\n",
    "res = me.curl(vector_field, C)\n",
    "display(vector_field, res)"
   ]
  },
  {
   "cell_type": "markdown",
   "id": "1462f261",
   "metadata": {},
   "source": [
    "### Time-dependent vectors"
   ]
  },
  {
   "cell_type": "code",
   "execution_count": null,
   "id": "546cc08f",
   "metadata": {},
   "outputs": [],
   "source": [
    "theta, a, b, c = me.dynamicsymbols(\"theta, a, b, c\")\n",
    "thetad, ad, bd, cd = me.dynamicsymbols(\"theta, a, b, c\", 1)\n",
    "display((theta, a, b, c), (thetad, ad, bd, cd))"
   ]
  },
  {
   "cell_type": "code",
   "execution_count": null,
   "id": "712fa95b",
   "metadata": {},
   "outputs": [],
   "source": [
    "D = me.ReferenceFrame(\"D\")\n",
    "D.orient_axis(N, N.z, theta)\n",
    "v = a * D.x + b * D.y + c * D.z\n",
    "v"
   ]
  },
  {
   "cell_type": "code",
   "execution_count": null,
   "id": "cff49eb9",
   "metadata": {},
   "outputs": [],
   "source": [
    "t = symbols(\"t\")\n",
    "v.diff(t, D)"
   ]
  },
  {
   "cell_type": "code",
   "execution_count": null,
   "id": "2637193e",
   "metadata": {},
   "outputs": [],
   "source": [
    "v.diff(t, N)"
   ]
  },
  {
   "cell_type": "markdown",
   "id": "84eb2852",
   "metadata": {},
   "source": [
    "## Coordinates, velocities and accelerations"
   ]
  },
  {
   "cell_type": "code",
   "execution_count": null,
   "id": "6784a252",
   "metadata": {},
   "outputs": [],
   "source": [
    "q1, q2, q3 = me.dynamicsymbols(\"q1, q2, q3\")\n",
    "N, A, B = symbols(\"N, A, B\", cls=me.ReferenceFrame)\n",
    "A.orient_axis(N, N.z, q1)\n",
    "B.orient_axis(A, A.z, q2 - q1)"
   ]
  },
  {
   "cell_type": "code",
   "execution_count": null,
   "id": "8b17cefc",
   "metadata": {},
   "outputs": [],
   "source": [
    "O, P, Q, R = symbols(\"O, P, Q, R\", cls=me.Point)"
   ]
  },
  {
   "cell_type": "code",
   "execution_count": null,
   "id": "2e0fb794",
   "metadata": {},
   "outputs": [],
   "source": [
    "L1, L2 = symbols(\"L1, L2\")\n",
    "P.set_pos(O, L1 * A.x)\n",
    "Q.set_pos(P, L2 * B.x)\n",
    "R.set_pos(O, q3 * N.x)"
   ]
  },
  {
   "cell_type": "code",
   "execution_count": null,
   "id": "1528f24b",
   "metadata": {},
   "outputs": [],
   "source": [
    "OP1 = P.pos_from(O)\n",
    "OP2 = P.pos_from(O).express(N)\n",
    "display(OP1, OP2)"
   ]
  },
  {
   "cell_type": "code",
   "execution_count": null,
   "id": "55b9404f",
   "metadata": {},
   "outputs": [],
   "source": [
    "OQ1 = Q.pos_from(O)\n",
    "OQ2 = Q.pos_from(O).express(N).simplify()\n",
    "display(OQ1, OQ2)"
   ]
  },
  {
   "cell_type": "code",
   "execution_count": null,
   "id": "5762ae22",
   "metadata": {},
   "outputs": [],
   "source": [
    "R.pos_from(O)"
   ]
  },
  {
   "cell_type": "markdown",
   "id": "f6de0ded",
   "metadata": {},
   "source": [
    "### Setting the velocities"
   ]
  },
  {
   "cell_type": "code",
   "execution_count": null,
   "id": "f8ff1db4",
   "metadata": {},
   "outputs": [],
   "source": [
    "O.set_vel(N, 0)"
   ]
  },
  {
   "cell_type": "code",
   "execution_count": null,
   "id": "2f80802b",
   "metadata": {},
   "outputs": [],
   "source": [
    "P.v2pt_theory(O, N, A)"
   ]
  },
  {
   "cell_type": "code",
   "execution_count": null,
   "id": "53970fba",
   "metadata": {},
   "outputs": [],
   "source": [
    "Q.v2pt_theory(P, N, B)"
   ]
  },
  {
   "cell_type": "code",
   "execution_count": null,
   "id": "0344b92d",
   "metadata": {},
   "outputs": [],
   "source": [
    "u3 = me.dynamicsymbols(\"u3\")\n",
    "R.set_vel(N, u3 * N.x)"
   ]
  },
  {
   "cell_type": "code",
   "execution_count": null,
   "id": "09985c4a",
   "metadata": {},
   "outputs": [],
   "source": [
    "R.vel(N)"
   ]
  },
  {
   "cell_type": "markdown",
   "id": "1527c935",
   "metadata": {},
   "source": [
    "### Particles and Rigid Bodies"
   ]
  },
  {
   "cell_type": "code",
   "execution_count": null,
   "id": "a256f989",
   "metadata": {},
   "outputs": [],
   "source": [
    "G1 = O.locatenew(\"G1\", L1 / 2 * A.x)\n",
    "G2 = P.locatenew(\"G2\", L2 / 2 * B.x)"
   ]
  },
  {
   "cell_type": "code",
   "execution_count": null,
   "id": "f7cdeb63",
   "metadata": {},
   "outputs": [],
   "source": [
    "m = symbols(\"m\") # mass of the slider\n",
    "slider_particle = me.Particle(\"slider\", R, m)"
   ]
  },
  {
   "cell_type": "code",
   "execution_count": null,
   "id": "4ca66417",
   "metadata": {},
   "outputs": [],
   "source": [
    "G1 = O.locatenew(\"G1\", L1 / 2 * A.x) # CoM of the crank\n",
    "G2 = P.locatenew(\"G2\", L2 / 2 * B.x) # CoM of the rod"
   ]
  },
  {
   "cell_type": "code",
   "execution_count": null,
   "id": "4e61a644",
   "metadata": {},
   "outputs": [],
   "source": [
    "rho1, rho2 = symbols(\"rho_1, rho_2\")\n",
    "inertia1 = me.inertia(A, 0, 0, rho1 * L1**3 / 12)\n",
    "inertia2 = me.inertia(B, 0, 0, rho2 * L2**3 / 12)\n",
    "inertia1, inertia2"
   ]
  },
  {
   "cell_type": "code",
   "execution_count": null,
   "id": "d30ad957",
   "metadata": {},
   "outputs": [],
   "source": [
    "type(inertia1)"
   ]
  },
  {
   "cell_type": "code",
   "execution_count": null,
   "id": "61632dc8",
   "metadata": {},
   "outputs": [],
   "source": [
    "inertia1.to_matrix(A)"
   ]
  },
  {
   "cell_type": "code",
   "execution_count": null,
   "id": "3f89c7af",
   "metadata": {},
   "outputs": [],
   "source": [
    "crank_body = me.RigidBody(\"crank\", G1, A, rho1 * L1, (inertia1, G1))\n",
    "rod_body = me.RigidBody(\"rod\", G2, B, rho2 * L2, (inertia2, G2))"
   ]
  },
  {
   "cell_type": "code",
   "execution_count": null,
   "id": "62e2fc6a",
   "metadata": {},
   "outputs": [],
   "source": []
  }
 ],
 "metadata": {
  "kernelspec": {
   "display_name": "Python 3 (ipykernel)",
   "language": "python",
   "name": "python3"
  },
  "language_info": {
   "codemirror_mode": {
    "name": "ipython",
    "version": 3
   },
   "file_extension": ".py",
   "mimetype": "text/x-python",
   "name": "python",
   "nbconvert_exporter": "python",
   "pygments_lexer": "ipython3",
   "version": "3.10.12"
  }
 },
 "nbformat": 4,
 "nbformat_minor": 5
}
