{
 "cells": [
  {
   "cell_type": "code",
   "execution_count": null,
   "metadata": {},
   "outputs": [],
   "source": [
    "%matplotlib widget\n",
    "from sympy import *\n",
    "init_printing(use_latex=True)"
   ]
  },
  {
   "cell_type": "markdown",
   "metadata": {},
   "source": [
    "# 20 - Vector Fields"
   ]
  },
  {
   "cell_type": "markdown",
   "metadata": {},
   "source": [
    "### 20.1.1 - Coordinate Systems"
   ]
  },
  {
   "cell_type": "code",
   "execution_count": null,
   "metadata": {},
   "outputs": [],
   "source": [
    "from sympy.vector import *\n",
    "N = CoordSys3D(\"N\")\n",
    "N"
   ]
  },
  {
   "cell_type": "code",
   "execution_count": null,
   "metadata": {},
   "outputs": [],
   "source": [
    "N.i, N.j, N.k"
   ]
  },
  {
   "cell_type": "code",
   "execution_count": null,
   "metadata": {},
   "outputs": [],
   "source": [
    "t = symbols(\"t\")\n",
    "v1 = (t**2 + 1) * N.i\n",
    "v2 = (t**2 + 1) * N.i - 2 * N.j + N.k\n",
    "display(v1, v2)\n",
    "print(type(v1), type(v2))"
   ]
  },
  {
   "cell_type": "code",
   "execution_count": null,
   "metadata": {},
   "outputs": [],
   "source": [
    "i, j, k = N.base_vectors()\n",
    "v3 = i + 2 * j + 3 * k\n",
    "v3"
   ]
  },
  {
   "cell_type": "code",
   "execution_count": null,
   "metadata": {},
   "outputs": [],
   "source": [
    "N.x, N.y, N.z"
   ]
  },
  {
   "cell_type": "code",
   "execution_count": null,
   "metadata": {},
   "outputs": [],
   "source": [
    "x, y, z = N.base_scalars()\n",
    "f = x**2 * y + z\n",
    "f"
   ]
  },
  {
   "cell_type": "code",
   "execution_count": null,
   "metadata": {},
   "outputs": [],
   "source": [
    "M = CoordSys3D(\"M\", transformation=\"cylindrical\")"
   ]
  },
  {
   "cell_type": "code",
   "execution_count": null,
   "metadata": {},
   "outputs": [],
   "source": [
    "M = N.create_new(\"M\", transformation=\"cylindrical\")\n",
    "M"
   ]
  },
  {
   "cell_type": "code",
   "execution_count": null,
   "metadata": {},
   "outputs": [],
   "source": [
    "M.base_scalars()"
   ]
  },
  {
   "cell_type": "code",
   "execution_count": null,
   "metadata": {},
   "outputs": [],
   "source": [
    "display(M.transformation_to_parent(), M.transformation_from_parent())"
   ]
  },
  {
   "cell_type": "code",
   "execution_count": null,
   "metadata": {},
   "outputs": [],
   "source": [
    "i, j, k = N.base_vectors()\n",
    "# write v in N\n",
    "v = 2 * i + 3 * j + 4 * k\n",
    "# express v in M\n",
    "express(v, M)"
   ]
  },
  {
   "cell_type": "code",
   "execution_count": null,
   "metadata": {},
   "outputs": [],
   "source": [
    "# substitution dictionary\n",
    "d = {key: val for key, val in zip(N.base_scalars(), v.components.values())}\n",
    "# values of the componenents in the new reference system\n",
    "comps = list((c.subs(d) for c in M.transformation_from_parent()))\n",
    "# combining base vectors with the new components\n",
    "new_comps = list((b * c for b, c in zip(M.base_vectors(), comps)))\n",
    "# final result\n",
    "new_v = VectorAdd(*new_comps)\n",
    "new_v"
   ]
  },
  {
   "cell_type": "code",
   "execution_count": null,
   "metadata": {},
   "outputs": [],
   "source": [
    "A = v.to_matrix(N)\n",
    "display(A)\n",
    "print(type(A))"
   ]
  },
  {
   "cell_type": "code",
   "execution_count": null,
   "metadata": {},
   "outputs": [],
   "source": [
    "matrix_to_vector(A, N)"
   ]
  },
  {
   "cell_type": "markdown",
   "metadata": {},
   "source": [
    "### 20.1.2 - Vector Operations"
   ]
  },
  {
   "cell_type": "code",
   "execution_count": null,
   "metadata": {},
   "outputs": [],
   "source": [
    "N = CoordSys3D(\"N\")\n",
    "x, y, z = N.base_scalars()\n",
    "i, j, k = N.base_vectors()\n",
    "a, b, c = symbols(\"a:c\")\n",
    "v1 = x * y * i + y * z * j + z * x * k\n",
    "v2 = a * i + b * j + c * k\n",
    "display(v1, v2)"
   ]
  },
  {
   "cell_type": "code",
   "execution_count": null,
   "metadata": {},
   "outputs": [],
   "source": [
    "v1 + v2"
   ]
  },
  {
   "cell_type": "code",
   "execution_count": null,
   "metadata": {},
   "outputs": [],
   "source": [
    "2 * v2"
   ]
  },
  {
   "cell_type": "code",
   "execution_count": null,
   "metadata": {},
   "outputs": [],
   "source": [
    "display(v1.dot(v2), v1 ^ v2)"
   ]
  },
  {
   "cell_type": "code",
   "execution_count": null,
   "metadata": {},
   "outputs": [],
   "source": [
    "field = x**2 * y + z\n",
    "gradient(field)"
   ]
  },
  {
   "cell_type": "code",
   "execution_count": null,
   "metadata": {},
   "outputs": [],
   "source": [
    "divergence(v1)"
   ]
  },
  {
   "cell_type": "code",
   "execution_count": null,
   "metadata": {},
   "outputs": [],
   "source": [
    "curl(v1)"
   ]
  },
  {
   "cell_type": "code",
   "execution_count": null,
   "metadata": {},
   "outputs": [],
   "source": [
    "v3 = v1 * x\n",
    "laplacian(v3)"
   ]
  },
  {
   "cell_type": "code",
   "execution_count": null,
   "metadata": {},
   "outputs": [],
   "source": [
    "directional_derivative(field, v1)"
   ]
  },
  {
   "cell_type": "code",
   "execution_count": null,
   "metadata": {},
   "outputs": [],
   "source": [
    "d = Del()\n",
    "(d & v1).doit()"
   ]
  },
  {
   "cell_type": "code",
   "execution_count": null,
   "metadata": {},
   "outputs": [],
   "source": [
    "(v1 & d)(field)"
   ]
  },
  {
   "cell_type": "markdown",
   "metadata": {},
   "source": [
    "### 20.1.3 - Vector Calculus"
   ]
  },
  {
   "cell_type": "code",
   "execution_count": null,
   "metadata": {},
   "outputs": [],
   "source": [
    "N = CoordSys3D(\"N\")\n",
    "i, j, k = N.base_vectors()\n",
    "x, y = symbols(\"x, y\")\n",
    "v = x * i + (x + y) * j + k\n",
    "v"
   ]
  },
  {
   "cell_type": "code",
   "execution_count": null,
   "metadata": {},
   "outputs": [],
   "source": [
    "v.integrate(x).doit()"
   ]
  },
  {
   "cell_type": "code",
   "execution_count": null,
   "metadata": {},
   "outputs": [],
   "source": [
    "v.diff(x)"
   ]
  },
  {
   "cell_type": "code",
   "execution_count": null,
   "metadata": {},
   "outputs": [],
   "source": [
    "from sympy.abc import t, theta, phi, x, y, z\n",
    "r, H, R = symbols(\"r, H, R\", real=True, positive=True)\n",
    "from sympy.geometry import Point\n",
    "circle1 = ParametricRegion((r * cos(theta) - 2, r * sin(theta) + 3), (theta, 0, 2* pi))\n",
    "circle2 = ImplicitRegion((x, y), (x + 2)**2 + (y - 3)**2 - r**2)\n",
    "circle3 = Circle(Point(-2, 3), r)"
   ]
  },
  {
   "cell_type": "code",
   "execution_count": null,
   "metadata": {},
   "outputs": [],
   "source": [
    "segment = Segment(Point(4, -1, 9), Point(1, 5, 7))\n",
    "triangle = Polygon((0, 0), (1, 0), (1, 1))\n",
    "disc = ParametricRegion((r * cos(theta), r * sin(theta)), (r, 0, 2), (theta, 0, 2* pi))\n",
    "cylinder = ParametricRegion((r * cos(theta), r * sin(theta), z), (z, 0, H), (r,0, R), (theta, 0, 2 * pi))\n",
    "box = ParametricRegion((x, y, z), (x, -1, 1), (y, -2, 2), (z, -3, 3))\n",
    "cone = ParametricRegion((r * cos(theta), r * sin(theta), r), (r, 0, 3), (theta,0, 2 * pi))\n",
    "parabola = ImplicitRegion((x, y), (y - 1)**2 - 4*(x + 6))\n",
    "ellipse = ImplicitRegion((x, y), (x**2 / 4 + y**2 / 16 - 1))\n",
    "sphere = ImplicitRegion((x, y, z), x**2 + y**2 + z**2 - 2 * x)"
   ]
  },
  {
   "cell_type": "code",
   "execution_count": null,
   "metadata": {},
   "outputs": [],
   "source": [
    "sphere.rational_parametrization()"
   ]
  },
  {
   "cell_type": "code",
   "execution_count": null,
   "metadata": {},
   "outputs": [],
   "source": [
    "length_curve = vector_integrate(1, circle1)\n",
    "area_disc = vector_integrate(1, disc)\n",
    "volume_cyl = vector_integrate(1, cylinder)\n",
    "display(length_curve, area_disc, volume_cyl)"
   ]
  },
  {
   "cell_type": "markdown",
   "metadata": {},
   "source": [
    "## 20.2 - Advanced Topics"
   ]
  },
  {
   "cell_type": "markdown",
   "metadata": {},
   "source": [
    "[Click here to open the associated notebook](Chapter-20-Advanced-Topics.ipynb)."
   ]
  },
  {
   "cell_type": "code",
   "execution_count": null,
   "metadata": {},
   "outputs": [],
   "source": []
  }
 ],
 "metadata": {
  "kernelspec": {
   "display_name": "Python 3",
   "language": "python",
   "name": "python3"
  },
  "language_info": {
   "codemirror_mode": {
    "name": "ipython",
    "version": 3
   },
   "file_extension": ".py",
   "mimetype": "text/x-python",
   "name": "python",
   "nbconvert_exporter": "python",
   "pygments_lexer": "ipython3",
   "version": "3.7.5"
  },
  "toc": {
   "base_numbering": 1,
   "nav_menu": {},
   "number_sections": true,
   "sideBar": true,
   "skip_h1_title": false,
   "title_cell": "Table of Contents",
   "title_sidebar": "Contents",
   "toc_cell": false,
   "toc_position": {},
   "toc_section_display": true,
   "toc_window_display": false
  }
 },
 "nbformat": 4,
 "nbformat_minor": 2
}
