{
 "cells": [
  {
   "cell_type": "markdown",
   "id": "15c96be2",
   "metadata": {},
   "source": [
    "## Frames of Reference and vectors"
   ]
  },
  {
   "cell_type": "code",
   "execution_count": null,
   "id": "39368eab",
   "metadata": {},
   "outputs": [],
   "source": [
    "from sympy import *\n",
    "import sympy.physics.mechanics as me\n",
    "me.init_vprinting()"
   ]
  },
  {
   "cell_type": "code",
   "execution_count": null,
   "id": "fc69cc35",
   "metadata": {},
   "outputs": [],
   "source": [
    "t = symbols(\"t\")\n",
    "f = Function(\"f\")(t)\n",
    "f.diff(t, 2) + f.diff(t)"
   ]
  },
  {
   "cell_type": "code",
   "execution_count": null,
   "id": "34cc5673",
   "metadata": {},
   "outputs": [],
   "source": [
    "N = me.ReferenceFrame(\"N\")\n",
    "N.x, N.y, N.z"
   ]
  },
  {
   "cell_type": "code",
   "execution_count": null,
   "id": "f5f6058c",
   "metadata": {},
   "outputs": [],
   "source": [
    "theta = symbols(\"theta\")\n",
    "A = me.ReferenceFrame(\"A\")\n",
    "A.orient_axis(N, N.z, theta)\n",
    "A.dcm(N)"
   ]
  },
  {
   "cell_type": "code",
   "execution_count": null,
   "id": "d55ef6f0",
   "metadata": {},
   "outputs": [],
   "source": [
    "phi = symbols(\"phi\")\n",
    "B = me.ReferenceFrame(\"B\")\n",
    "B.orient_axis(A, A.x, phi)\n",
    "B.dcm(A), B.dcm(N)"
   ]
  },
  {
   "cell_type": "code",
   "execution_count": null,
   "id": "887df47a",
   "metadata": {},
   "outputs": [],
   "source": [
    "v1 = N.x + 2 * N.y + 3 * N.z\n",
    "v1"
   ]
  },
  {
   "cell_type": "code",
   "execution_count": null,
   "id": "6410040e",
   "metadata": {},
   "outputs": [],
   "source": [
    "v2 = N.x + 2 * A.y + 3 * B.z\n",
    "v2"
   ]
  },
  {
   "cell_type": "code",
   "execution_count": null,
   "id": "e72c0034",
   "metadata": {},
   "outputs": [],
   "source": [
    "display(v1.express(A), v2.express(N))"
   ]
  },
  {
   "cell_type": "code",
   "execution_count": null,
   "id": "324294f9",
   "metadata": {},
   "outputs": [],
   "source": [
    "scalar_field = N[0] * N[1] + N[2]\n",
    "res = me.gradient(scalar_field, N)\n",
    "display(scalar_field, res)"
   ]
  },
  {
   "cell_type": "code",
   "execution_count": null,
   "id": "e2ccb808",
   "metadata": {},
   "outputs": [],
   "source": [
    "C = me.ReferenceFrame(\"C\", variables=[\"x\", \"y\", \"z\"])\n",
    "vector_field = C[0]*C[1]*C[2] * C.x\n",
    "res = me.curl(vector_field, C)\n",
    "display(vector_field, res)"
   ]
  },
  {
   "cell_type": "markdown",
   "id": "1462f261",
   "metadata": {},
   "source": [
    "### Time-dependent vectors"
   ]
  },
  {
   "cell_type": "code",
   "execution_count": null,
   "id": "546cc08f",
   "metadata": {},
   "outputs": [],
   "source": [
    "theta, a, b, c = me.dynamicsymbols(\"theta, a, b, c\")\n",
    "thetad, ad, bd, cd = me.dynamicsymbols(\"theta, a, b, c\", 1)\n",
    "display((theta, a, b, c), (thetad, ad, bd, cd))"
   ]
  },
  {
   "cell_type": "code",
   "execution_count": null,
   "id": "712fa95b",
   "metadata": {},
   "outputs": [],
   "source": [
    "D = me.ReferenceFrame(\"D\")\n",
    "D.orient_axis(N, N.z, theta)\n",
    "v = a * D.x + b * D.y + c * D.z\n",
    "v"
   ]
  },
  {
   "cell_type": "code",
   "execution_count": null,
   "id": "cff49eb9",
   "metadata": {},
   "outputs": [],
   "source": [
    "t = symbols(\"t\")\n",
    "v.diff(t, D)"
   ]
  },
  {
   "cell_type": "code",
   "execution_count": null,
   "id": "2637193e",
   "metadata": {},
   "outputs": [],
   "source": [
    "v.diff(t, N)"
   ]
  },
  {
   "cell_type": "code",
   "execution_count": null,
   "id": "3c79484c-7db3-4d63-9e69-4dda3a022448",
   "metadata": {},
   "outputs": [],
   "source": []
  }
 ],
 "metadata": {
  "kernelspec": {
   "display_name": "Python 3 (ipykernel)",
   "language": "python",
   "name": "python3"
  },
  "language_info": {
   "codemirror_mode": {
    "name": "ipython",
    "version": 3
   },
   "file_extension": ".py",
   "mimetype": "text/x-python",
   "name": "python",
   "nbconvert_exporter": "python",
   "pygments_lexer": "ipython3",
   "version": "3.12.3"
  }
 },
 "nbformat": 4,
 "nbformat_minor": 5
}
