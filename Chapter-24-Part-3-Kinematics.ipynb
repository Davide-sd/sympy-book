{
 "cells": [
  {
   "cell_type": "markdown",
   "id": "56921450-b80a-41cf-8dfa-a7a32edb0d69",
   "metadata": {},
   "source": [
    "## Kinematics"
   ]
  },
  {
   "cell_type": "code",
   "execution_count": null,
   "id": "ffcd1763-0c41-49f4-8a92-c2e2b264211b",
   "metadata": {},
   "outputs": [],
   "source": [
    "from sympy import *\n",
    "import sympy.physics.mechanics as me\n",
    "me.init_vprinting()"
   ]
  },
  {
   "cell_type": "markdown",
   "id": "3bd9722e-dd4c-4243-8923-b25501b22f82",
   "metadata": {},
   "source": [
    "### Two points fixed on a rigid body."
   ]
  },
  {
   "cell_type": "markdown",
   "id": "9c62e208-8a8b-44d5-a38c-f2bd876eba35",
   "metadata": {},
   "source": [
    "#### Example - Crank-Slider"
   ]
  },
  {
   "cell_type": "code",
   "execution_count": null,
   "id": "32119f5d-126f-4acb-a4c7-434d83eb5981",
   "metadata": {},
   "outputs": [],
   "source": [
    "q1, q2, q3 = me.dynamicsymbols(\"q1, q2, q3\")\n",
    "N, A, B = symbols(\"N, A, B\", cls=me.ReferenceFrame)\n",
    "A.orient_axis(N, N.z, q1)\n",
    "# B.orient_axis(A, A.z, q2 - q1)\n",
    "B.orient_axis(N, N.z, q2)\n",
    "\n",
    "O, P, Q, R = symbols(\"O, P, Q, R\", cls=me.Point)\n",
    "\n",
    "L1, L2 = symbols(\"L1, L2\")\n",
    "P.set_pos(O, L1 * A.x)\n",
    "Q.set_pos(P, L2 * B.x)\n",
    "R.set_pos(O, q3 * N.x)"
   ]
  },
  {
   "cell_type": "code",
   "execution_count": null,
   "id": "22740b88-91f7-42ab-8526-4f41a98af41b",
   "metadata": {},
   "outputs": [],
   "source": [
    "O.set_vel(N, 0)\n",
    "P.set_vel(A, 0)\n",
    "Q.set_vel(B, 0)"
   ]
  },
  {
   "cell_type": "code",
   "execution_count": null,
   "id": "cffd0543-77f5-4be1-adcf-119c361e6354",
   "metadata": {},
   "outputs": [],
   "source": [
    "v_P_N = P.v2pt_theory(O, N, A)\n",
    "a_P_N = P.a2pt_theory(O, N, A)\n",
    "display(v_P_N, a_P_N)"
   ]
  },
  {
   "cell_type": "code",
   "execution_count": null,
   "id": "3c3b4d03-abc3-4d56-8480-801112972755",
   "metadata": {},
   "outputs": [],
   "source": [
    "v_Q_N = Q.v2pt_theory(P, N, B)\n",
    "a_Q_N = Q.a2pt_theory(P, N, B)\n",
    "display(v_Q_N, a_Q_N)"
   ]
  },
  {
   "cell_type": "code",
   "execution_count": null,
   "id": "83deaa02-05a8-4397-b951-051b742e1812",
   "metadata": {},
   "outputs": [],
   "source": [
    "u3 = me.dynamicsymbols(\"u3\")\n",
    "R.set_vel(N, u3 * N.x)"
   ]
  },
  {
   "cell_type": "markdown",
   "id": "aecd521e-c45b-4a1f-b050-08ff9d764234",
   "metadata": {},
   "source": [
    "### One point moving on a rigid body."
   ]
  },
  {
   "cell_type": "markdown",
   "id": "19f7c60d-058b-4e6a-a24f-d2e4fb8b340b",
   "metadata": {},
   "source": [
    "#### Example - Rotating Hoop."
   ]
  },
  {
   "cell_type": "code",
   "execution_count": null,
   "id": "4eb5118b-be17-4d4b-971c-5c709d892ca9",
   "metadata": {},
   "outputs": [],
   "source": [
    "R, H, M = symbols(\"R, H, M\", cls=me.ReferenceFrame)\n",
    "Omega, a = symbols(\"Omega, a\")\n",
    "theta = me.dynamicsymbols(\"theta\")\n",
    "t = me.dynamicsymbols._t # equivalent to symbols(\"t\")\n",
    "\n",
    "H.orient_axis(R, R.z, Omega * t)\n",
    "M.orient_axis(H, H.y, pi/2-theta)\n",
    "\n",
    "O, P = symbols(\"O, P\", cls=me.Point)\n",
    "P.set_pos(O, a * M.x)"
   ]
  },
  {
   "cell_type": "code",
   "execution_count": null,
   "id": "819e754c-723a-4266-9707-ade994c1c3e6",
   "metadata": {},
   "outputs": [],
   "source": [
    "O.set_vel(R, 0)\n",
    "O.set_vel(H, 0)\n",
    "P.set_vel(M, 0)"
   ]
  },
  {
   "cell_type": "code",
   "execution_count": null,
   "id": "eea82ddb-48e1-42c4-8c62-ba48003f3ca6",
   "metadata": {},
   "outputs": [],
   "source": [
    "v_P_R = P.v1pt_theory(O, R, H).express(H)\n",
    "a_P_R = P.a1pt_theory(O, R, H).express(H).simplify()\n",
    "display(v_P_R, a_P_R)"
   ]
  },
  {
   "cell_type": "markdown",
   "id": "24378b35-e1ef-481b-9b42-1888edf41d4c",
   "metadata": {},
   "source": [
    "### Better insights on velocities and accelerations."
   ]
  },
  {
   "cell_type": "markdown",
   "id": "59fb34d9-6d99-4747-a091-f43c618175f4",
   "metadata": {},
   "source": [
    "#### Example - Rolling Disk. "
   ]
  },
  {
   "cell_type": "code",
   "execution_count": null,
   "id": "70919c0b-69b4-4fee-bc36-dafa1267bc26",
   "metadata": {},
   "outputs": [],
   "source": [
    "psi, theta, phi, xc, yc = me.dynamicsymbols(\"psi, theta, phi, x_c, y_c\")\n",
    "psid, thetad, phid, xcd, ycd = me.dynamicsymbols(\n",
    "    \"psi, theta, phi, x_c, y_c\", 1)\n",
    "r = symbols(\"r\")\n",
    "\n",
    "A, B, C, D = symbols(\"A, B, C, D\", cls=me.ReferenceFrame)\n",
    "B.orient_axis(A, A.z, psi)\n",
    "C.orient_axis(B, B.x, theta)\n",
    "D.orient_axis(C, C.y, phi)"
   ]
  },
  {
   "cell_type": "code",
   "execution_count": null,
   "id": "b2c6b498-d00f-4145-aa31-fbcbe17c3174",
   "metadata": {},
   "outputs": [],
   "source": [
    "O, G, Q, Cp = symbols(\"O, G, Q, Cp\", cls=me.Point)\n",
    "Cp.set_pos(O, xc * A.x + yc * A.y)\n",
    "G.set_pos(Cp, r * C.z)\n",
    "Q.set_pos(G, -r * C.z)\n",
    "\n",
    "display(Q.pos_from(O), Cp.pos_from(O))"
   ]
  },
  {
   "cell_type": "code",
   "execution_count": null,
   "id": "e2de4dbe-0c16-40da-aa72-45fd7cd5384f",
   "metadata": {},
   "outputs": [],
   "source": [
    "O.set_vel(A, 0)\n",
    "Cp.set_vel(B, 0)\n",
    "Cp.set_vel(A, Cp.pos_from(O).diff(t, A))\n",
    "G.set_vel(C, 0)\n",
    "G.set_vel(D, 0)\n",
    "Q.v2pt_theory(G, A, D)"
   ]
  },
  {
   "cell_type": "code",
   "execution_count": null,
   "id": "ed60c9db-e97c-416f-92c8-1e624195e50f",
   "metadata": {},
   "outputs": [],
   "source": [
    "a_Q_wrong = Q.acc(A).express(C).simplify()\n",
    "a_Q_wrong"
   ]
  },
  {
   "cell_type": "code",
   "execution_count": null,
   "id": "dc8be42c-777a-4893-b845-fcee8168e310",
   "metadata": {},
   "outputs": [],
   "source": [
    "t = symbols(\"t\")\n",
    "v_Q = Q.vel(A)\n",
    "a_Q_diff = v_Q.diff(t, A).express(C).simplify()\n",
    "(a_Q_diff - a_Q_wrong)"
   ]
  },
  {
   "cell_type": "code",
   "execution_count": null,
   "id": "899de5c5-758a-4c6b-b296-1a652f371c67",
   "metadata": {},
   "outputs": [],
   "source": [
    "a_Q_correct = Q.a2pt_theory(G, A, D).express(C).simplify()\n",
    "a_Q_correct"
   ]
  },
  {
   "cell_type": "code",
   "execution_count": null,
   "id": "e6deba62-4353-44ad-a51e-7286e006f7e9",
   "metadata": {},
   "outputs": [],
   "source": [
    "(a_Q_correct - a_Q_wrong).simplify()"
   ]
  },
  {
   "cell_type": "code",
   "execution_count": null,
   "id": "37489e82-6052-4012-a3da-e0dbe702b910",
   "metadata": {},
   "outputs": [],
   "source": []
  }
 ],
 "metadata": {
  "kernelspec": {
   "display_name": "Python 3 (ipykernel)",
   "language": "python",
   "name": "python3"
  },
  "language_info": {
   "codemirror_mode": {
    "name": "ipython",
    "version": 3
   },
   "file_extension": ".py",
   "mimetype": "text/x-python",
   "name": "python",
   "nbconvert_exporter": "python",
   "pygments_lexer": "ipython3",
   "version": "3.12.3"
  }
 },
 "nbformat": 4,
 "nbformat_minor": 5
}
