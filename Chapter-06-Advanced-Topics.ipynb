{
 "cells": [
  {
   "cell_type": "markdown",
   "metadata": {},
   "source": [
    "## 6.5 - Advanced Topics"
   ]
  },
  {
   "cell_type": "code",
   "execution_count": null,
   "metadata": {},
   "outputs": [],
   "source": [
    "%matplotlib widget\n",
    "from sympy import *\n",
    "init_printing(use_latex=True)"
   ]
  },
  {
   "cell_type": "markdown",
   "metadata": {},
   "source": [
    "### 6.5.1 - Structural Equality and Numbers"
   ]
  },
  {
   "cell_type": "code",
   "execution_count": null,
   "metadata": {},
   "outputs": [],
   "source": [
    "Rational(5, 2) == Float(2.5)"
   ]
  },
  {
   "cell_type": "code",
   "execution_count": null,
   "metadata": {},
   "outputs": [],
   "source": [
    "Float(2.0) == Integer(2) == Rational(2)"
   ]
  },
  {
   "cell_type": "code",
   "execution_count": null,
   "metadata": {},
   "outputs": [],
   "source": [
    "a = 2.0\n",
    "b = 2\n",
    "type(a), type(b)"
   ]
  },
  {
   "cell_type": "code",
   "execution_count": null,
   "metadata": {},
   "outputs": [],
   "source": [
    "a == b, hash(a), hash(b)"
   ]
  },
  {
   "cell_type": "code",
   "execution_count": null,
   "metadata": {},
   "outputs": [],
   "source": [
    "c = Float(2)\n",
    "d = Integer(2)\n",
    "c == d, type(c), type(d)"
   ]
  },
  {
   "cell_type": "code",
   "execution_count": null,
   "metadata": {},
   "outputs": [],
   "source": [
    "hash(c), hash(d)"
   ]
  },
  {
   "cell_type": "code",
   "execution_count": null,
   "metadata": {},
   "outputs": [],
   "source": [
    "a == c, b == d"
   ]
  },
  {
   "cell_type": "code",
   "execution_count": null,
   "metadata": {},
   "outputs": [],
   "source": [
    "{a, c}"
   ]
  },
  {
   "cell_type": "markdown",
   "metadata": {},
   "source": [
    "### 6.5.5 - The AssocOp class - Argument Evaluation"
   ]
  },
  {
   "cell_type": "code",
   "execution_count": null,
   "metadata": {},
   "outputs": [],
   "source": [
    "x = symbols(\"x\")\n",
    "expr = 2 + x + 3 * x - 1\n",
    "expr"
   ]
  },
  {
   "cell_type": "code",
   "execution_count": null,
   "metadata": {},
   "outputs": [],
   "source": [
    "x = Symbol(\"x\")\n",
    "expr1 = Add(2, Add(x, 3), evaluate=False)\n",
    "expr2 = Add(2, Add(x, 3))\n",
    "display(expr1, expr2)"
   ]
  },
  {
   "cell_type": "markdown",
   "metadata": {},
   "source": [
    "### 6.5.6 - Polynomials and performance"
   ]
  },
  {
   "cell_type": "markdown",
   "metadata": {},
   "source": [
    "#### Dense Multivariate Polynomial representation."
   ]
  },
  {
   "cell_type": "code",
   "execution_count": null,
   "metadata": {},
   "outputs": [],
   "source": [
    "x = symbols(\"x\")\n",
    "f = Poly(6*x**3 + 3*x**2 + x + 4)\n",
    "print(f.rep)\n",
    "display(f.as_expr())"
   ]
  },
  {
   "cell_type": "code",
   "execution_count": null,
   "metadata": {},
   "outputs": [],
   "source": [
    "i = f - x\n",
    "print(i.rep)\n",
    "c1 = i.coeffs()\n",
    "c2 = i.all_coeffs()\n",
    "c3 = i.rep.rep\n",
    "display(i, c1, c2, c3)"
   ]
  },
  {
   "cell_type": "code",
   "execution_count": null,
   "metadata": {},
   "outputs": [],
   "source": [
    "x, y = symbols(\"x, y\")\n",
    "expr = x**2*y + x**2 + x*y + y - 1\n",
    "p = Poly(expr, x)\n",
    "p"
   ]
  },
  {
   "cell_type": "code",
   "execution_count": null,
   "metadata": {},
   "outputs": [],
   "source": [
    "p.rep"
   ]
  },
  {
   "cell_type": "code",
   "execution_count": null,
   "metadata": {},
   "outputs": [],
   "source": [
    "p1 = Poly(expr, x, y)\n",
    "print(p1.rep)\n",
    "display(p1)"
   ]
  },
  {
   "cell_type": "markdown",
   "metadata": {},
   "source": [
    "#### Sparse Polynomial representation."
   ]
  },
  {
   "cell_type": "code",
   "execution_count": null,
   "metadata": {},
   "outputs": [],
   "source": [
    "t = symbols(\"t\")\n",
    "p2 = Poly(expr, t)\n",
    "print(p2.rep)\n",
    "print(type(p2.rep.rep[0]))\n",
    "display(p2)"
   ]
  },
  {
   "cell_type": "code",
   "execution_count": null,
   "metadata": {},
   "outputs": [],
   "source": [
    "dict(p2.rep.rep[0])"
   ]
  },
  {
   "cell_type": "markdown",
   "metadata": {},
   "source": [
    "#### Performance of the Poly class."
   ]
  },
  {
   "cell_type": "code",
   "execution_count": null,
   "metadata": {},
   "outputs": [],
   "source": [
    "from sympy import *\n",
    "init_printing(use_latex=True)\n",
    "x, y, z = symbols(\"x:z\")\n",
    "from sympy.polys.orderings import monomial_key\n",
    "monomials = sorted(itermonomials([x, y, z], 3, 0), key=monomial_key('lex', [z, y, x]))\n",
    "monomials"
   ]
  },
  {
   "cell_type": "code",
   "execution_count": null,
   "metadata": {},
   "outputs": [],
   "source": [
    "# Poly Class - DMP representation\n",
    "t = symbols(\"t\")\n",
    "p_dense_DMP = Poly(sum(monomials))\n",
    "p_dense50_DMP = Poly(sum([m for i, m in enumerate(monomials) if i % 2 == 1]))\n",
    "p_dense30_DMP = Poly(sum([m for i, m in enumerate(monomials) if i % 3 == 0]))\n",
    "p_sparse_DMP = Poly(x + y + z)\n",
    "# Poly Class - Sparse representation\n",
    "p_dense_Sparse = Poly(sum(monomials), t)\n",
    "p_dense50_Sparse = Poly(sum([m for i, m in enumerate(monomials) if i % 2 == 1]), t)\n",
    "p_dense30_Sparse = Poly(sum([m for i, m in enumerate(monomials) if i % 3 == 0]), t)\n",
    "p_sparse_Sparse = Poly(x + y + z, t)\n",
    "\n",
    "display(*[t.as_expr() for t in [p_dense_DMP, p_dense50_DMP, p_dense30_DMP, p_sparse_DMP]])"
   ]
  },
  {
   "cell_type": "markdown",
   "metadata": {},
   "source": [
    "__NOTE:__ The *timeit* module is used to measure the execution time. In particular:\n",
    "\n",
    "* `r` is the number of repeats, that is, how many times `timeit.Timer` is going to be executed.\n",
    "* `n` is the number of executions of the main statement for each repeat.\n",
    "\n",
    "For `p_dense_DMP, p_dense_S`, the computation becomes very slow when the exponent is greater than 20 (depending on our machine, of course). Hence, `r, n` are kept relatively low. Nonetheless, the following code block still needs several minutes of CPU time. Feel free to skip it and jumpt to the results."
   ]
  },
  {
   "cell_type": "code",
   "execution_count": null,
   "metadata": {},
   "outputs": [],
   "source": [
    "import timeit\n",
    "from functools import partial\n",
    "\n",
    "# the higher these numbers, the longer it takes to complete\n",
    "r, n = 3, 3\n",
    "\n",
    "exponent_list = list(range(5, 31, 5))\n",
    "def func(p, e):\n",
    "    p**e\n",
    "\n",
    "times = []\n",
    "for i, p in enumerate([\n",
    "    p_dense_DMP, p_dense50_DMP, p_dense30_DMP, p_sparse_DMP,\n",
    "    p_dense_Sparse, p_dense50_Sparse, p_dense30_Sparse, p_sparse_Sparse]):\n",
    "    print(f\"Evaluating polynomial {i + 1}: {p}\")\n",
    "    times.append(\n",
    "        [min(timeit.Timer(partial(func, p, e)).repeat(repeat=r, number=n)) / n\n",
    "            for e in exponent_list])\n",
    "print(times)"
   ]
  },
  {
   "cell_type": "code",
   "execution_count": null,
   "metadata": {},
   "outputs": [],
   "source": [
    "import matplotlib.pyplot as plt\n",
    "\n",
    "def _plot(i, j, *axs, title=\"\"):\n",
    "    for ax in axs:\n",
    "        ax.plot(exponent_list, times[i], 'o-', label=\"Poly DMP\")\n",
    "        ax.plot(exponent_list, times[j], '*:', label=\"Poly Sparse\")\n",
    "    axs[1].set_yscale(\"log\")\n",
    "    axs[1].set_xlabel(\"Exponent, n\")\n",
    "    axs[0].set_title(title)\n",
    "\n",
    "fig, axs = plt.subplots(2, 4, layout='constrained')\n",
    "_plot(0, 4, axs[0, 0], axs[1, 0], title=\"p_dense_*\")\n",
    "_plot(1, 5, axs[0, 1], axs[1, 1], title=\"p_dense50_*\")\n",
    "_plot(2, 6, axs[0, 2], axs[1, 2], title=\"p_dense30_*\")\n",
    "_plot(3, 7, axs[0, 3], axs[1, 3], title=\"p_sparse_*\")\n",
    "axs[0, 0].set_ylabel(\"Time [s]\")\n",
    "axs[1, 0].set_ylabel(\"Time [s]\")\n",
    "handles, labels = axs[0, 0].get_legend_handles_labels()\n",
    "fig.legend(handles=handles, loc='outside lower center', ncol=3)\n",
    "plt.show()"
   ]
  },
  {
   "cell_type": "markdown",
   "metadata": {},
   "source": [
    "On the author's machine:\n",
    "\n",
    "```py\n",
    "times = [[0.0051877856664456585, 0.06434556933284814, 0.7301255503328624, 1.6243882273332322, 8.355428479333568, 25.829918795666647], [0.0031626113335126624, 0.0516847359995154, 0.6669770023333209, 1.4625776696666435, 7.8049532830003345, 24.833471777999875], [0.002525360333189989, 0.03605262866646323, 0.42177054599960684, 0.9695227123332492, 4.7901540780003415, 14.813447893666307], [0.0002533323331590509, 0.0012053196666480896, 0.0058202256665632985, 0.012218887666676892, 0.04130718600026739, 0.10420181999991958], [0.002544063000338307, 0.06412856966683951, 1.0547183329999825, 2.5213712000004307, 15.564129866999792, 53.76344056166636], [0.0009485273337001369, 0.028106702333388967, 0.5869069223335828, 1.39301257166638, 9.400174062666943, 34.62221006166692], [0.0003084679998816379, 0.005088013333079289, 0.06667715433347136, 0.1734358223335827, 1.031816491333302, 3.6772383186665443], [3.490999976444679e-05, 0.00011808799960514686, 0.00039943333346551907, 0.0007298043334837226, 0.0017542309997224947, 0.0035806366668111878]]\n",
    "```\n",
    "\n",
    "![image.png](attachment:image.png)"
   ]
  },
  {
   "cell_type": "markdown",
   "metadata": {},
   "source": [
    "#### Large coefficients and gmpy2.\n",
    "\n",
    "If `gmpy2` is present in our environment, SymPy’s polynomial module will\n",
    "use gmpy2’s `mpz` type (multiple-precision integer), otherwise Python’s `int` will be used.\n",
    "Depending on the platform and the specific operation, an `mpz` will be faster than Python’s\n",
    "`int` once the precision exceeds 20 to 50 digits. Hence, the bigger the coefficients of a\n",
    "polynomial, the faster the computation with gmpy2. Let’s find out the performance gain\n",
    "with a simple example."
   ]
  },
  {
   "cell_type": "code",
   "execution_count": null,
   "metadata": {},
   "outputs": [],
   "source": [
    "from sympy import *\n",
    "init_printing(use_latex=True)\n",
    "import timeit\n",
    "from functools import partial\n",
    "\n",
    "x, y, z = symbols(\"x, y, z\")\n",
    "p = Poly(1234 * x + 123 * y + 12 * z + 1)\n",
    "p"
   ]
  },
  {
   "cell_type": "markdown",
   "metadata": {},
   "source": [
    "The benchmark consists in the exponentiation of the polynomial with an increasing expo-\n",
    "nent. The bigger the exponent, the bigger the resulting coefficients. Note that we created\n",
    "a polynomial with 3 indeterminates and a total degree of 1, using the DMP representation. Each exponentiation will create a fully dense polynomial, hence this is the best\n",
    "representation for this particular benchmark."
   ]
  },
  {
   "cell_type": "code",
   "execution_count": null,
   "metadata": {},
   "outputs": [],
   "source": [
    "exponent_list = list(range(10, 31, 5))\n",
    "def func(expr):\n",
    "    factor(expr)\n",
    "\n",
    "def do_test(p):\n",
    "    r, n = 3, 3\n",
    "    times = []\n",
    "    for e in exponent_list:\n",
    "        new_expr = p**e\n",
    "        times.append(min(timeit.Timer(partial(func, new_expr)).repeat(repeat=r, number=n)) / n)\n",
    "    return times"
   ]
  },
  {
   "cell_type": "markdown",
   "metadata": {},
   "source": [
    "The benchmark code needs to be executed twice, with and without gmpy2 installed on the system.\n",
    "Let's uninstall it, restart the kernel and perform the test."
   ]
  },
  {
   "cell_type": "code",
   "execution_count": null,
   "metadata": {},
   "outputs": [],
   "source": [
    "!pip uninstall -y gmpy2"
   ]
  },
  {
   "cell_type": "code",
   "execution_count": null,
   "metadata": {},
   "outputs": [],
   "source": [
    "times_no_gmpy2 = do_test(p)\n",
    "print(times_no_gmpy2)"
   ]
  },
  {
   "cell_type": "markdown",
   "metadata": {},
   "source": [
    "Now, let's install it, restart the kernel and perform the test."
   ]
  },
  {
   "cell_type": "code",
   "execution_count": null,
   "metadata": {},
   "outputs": [],
   "source": [
    "!pip install gmpy2"
   ]
  },
  {
   "cell_type": "code",
   "execution_count": null,
   "metadata": {},
   "outputs": [],
   "source": [
    "times_with_gmpy2 = do_test(p)\n",
    "print(times_with_gmpy2)"
   ]
  },
  {
   "cell_type": "markdown",
   "metadata": {},
   "source": [
    "Finally, plot the results:"
   ]
  },
  {
   "cell_type": "code",
   "execution_count": null,
   "metadata": {},
   "outputs": [],
   "source": [
    "import matplotlib.pyplot as plt\n",
    "\n",
    "times_no_gmpy2 = [0.08219280733464984, 0.39288315933420864, 2.5575064906685534, 11.717498931000591, 47.01095505166692]\n",
    "times_with_gmpy2 = [0.07844529500046822, 0.2467654323336319, 0.9048305456672097, 1.9894147483355482, 3.951857888668504]\n",
    "speedup = [u / v for u, v in zip(times_no_gmpy2, times_with_gmpy2)]\n",
    "exponent_list = list(range(10, 31, 5))\n",
    "\n",
    "fig, ax = plt.subplots(2, 1, sharex=True)\n",
    "ax[0].plot(exponent_list, times_no_gmpy2, 'o-', label=\"Python's int\")\n",
    "ax[0].plot(exponent_list, times_with_gmpy2, '^-', label=\"gmpy2's mpz\")\n",
    "ax[0].set_ylabel(\"Time [s]\")\n",
    "ax[0].set_xticks(exponent_list, exponent_list)\n",
    "ax[0].legend()\n",
    "ax[1].plot(exponent_list, speedup, 'o-')\n",
    "ax[1].set_xlabel(\"Exponent, n\")\n",
    "ax[1].set_ylabel(\"Speedup\")\n",
    "fig.tight_layout()"
   ]
  },
  {
   "attachments": {
    "image-2.png": {
     "image/png": "[encoded data removed]"
    }
   },
   "cell_type": "markdown",
   "metadata": {},
   "source": [
    "On the author's machine:\n",
    "\n",
    "![image-2.png](attachment:image-2.png)"
   ]
  },
  {
   "cell_type": "markdown",
   "metadata": {},
   "source": [
    "#### Numerical evaluation of large polynomials"
   ]
  },
  {
   "cell_type": "code",
   "execution_count": null,
   "metadata": {},
   "outputs": [],
   "source": [
    "from sympy import *\n",
    "import timeit\n",
    "from functools import partial\n",
    "\n",
    "def build_expr(m, x, y, r=3, n=10, time=True):\n",
    "    memory = zeros(1, m + 1)\n",
    "    memory[0] = 1\n",
    "    x_times_y = x * y\n",
    "    timings = {}\n",
    "    \n",
    "    def func(j, memory):\n",
    "        f = [\n",
    "            Rational(binomial(j, k)) * (x**(j + 1 - k) * y**(k * (j + 1 - k))) * memory[k] - x_times_y\n",
    "            for k in range(j)\n",
    "        ]\n",
    "        return f, S.Half - sum(f)\n",
    "\n",
    "    for j in range(1, m + 1):\n",
    "        if timeit:\n",
    "            t = min(timeit.Timer(partial(func, j, memory)).repeat(repeat=r, number=n)) / n\n",
    "            timings[j] = t\n",
    "        f, out = func(j, memory)\n",
    "        memory[j] = out\n",
    "        \n",
    "    return f, timings\n",
    "\n",
    "def buil_poly_dmp(m, x, y, r=3, n=10, time=True):\n",
    "    memory = [Poly(0, x, y)] * (m + 1)\n",
    "    memory[0] = Poly(1, x, y)\n",
    "    x_times_y = Poly(x * y, x, y)\n",
    "    timings = {}\n",
    "    \n",
    "    def func(j, memory):\n",
    "        f = [\n",
    "            Rational(binomial(j, k)) * Poly(x**(j + 1 - k) * y**(k * (j + 1 - k)), x, y) * memory[k] - x_times_y\n",
    "            for k in range(j)\n",
    "        ]\n",
    "        return f, S.Half - sum(f, start=Poly(0, x, y))\n",
    "\n",
    "    for j in range(1, m + 1):\n",
    "        if timeit:\n",
    "            t = min(timeit.Timer(partial(func, j, memory)).repeat(repeat=r, number=n)) / n\n",
    "            timings[j] = t\n",
    "        f, out = func(j, memory)\n",
    "        memory[j] = out\n",
    "    return f, timings\n",
    "\n",
    "def buil_poly_sparse(m, x, y, r=3, n=10, time=True):\n",
    "    t = symbols(\"t\")\n",
    "    memory = [Poly(0, t)] * (m + 1)\n",
    "    memory[0] = Poly(1, t)\n",
    "    x_times_y = Poly(x * y, t)\n",
    "    timings = {}\n",
    "    \n",
    "    def func(j, memory):\n",
    "        f = [\n",
    "            Rational(binomial(j, k)) * Poly(x**(j + 1 - k) * y**(k * (j + 1 - k)), t) * memory[k] - x_times_y\n",
    "            for k in range(j)\n",
    "        ]\n",
    "        return f, S.Half - sum(f, start=Poly(0, t))\n",
    "\n",
    "    for j in range(1, m + 1):\n",
    "        if timeit:\n",
    "            _t = min(timeit.Timer(partial(func, j, memory)).repeat(repeat=r, number=n)) / n\n",
    "            timings[j] = _t\n",
    "        f, out = func(j, memory)\n",
    "        memory[j] = out\n",
    "        \n",
    "    return f, timings\n",
    "\n",
    "def buil_ring_sparse(m, x, y, r=3, n=10, time=True):\n",
    "    K = QQ[x, y]\n",
    "    x = K(x)\n",
    "    y = K(y)\n",
    "    memory = [K.zero] * (m + 1)\n",
    "    memory[0] = K.one\n",
    "    x_times_y = x * y\n",
    "    timings = {}\n",
    "    \n",
    "    def func(j, memory):\n",
    "        f = [\n",
    "            binomial(j, k) * (x**(j + 1 - k) * y**(k * (j + 1 - k))) * memory[k] - x_times_y\n",
    "            for k in range(j)\n",
    "        ]  \n",
    "        return f, 1/2 - sum(f, start=K.zero) \n",
    "\n",
    "    for j in range(1, m + 1):\n",
    "        if timeit:\n",
    "            t = min(timeit.Timer(partial(func, j, memory)).repeat(repeat=r, number=n)) / n\n",
    "            timings[j] = t\n",
    "        f, out = func(j, memory)\n",
    "        memory[j] = out\n",
    "    return f, timings"
   ]
  },
  {
   "cell_type": "code",
   "execution_count": null,
   "metadata": {},
   "outputs": [],
   "source": [
    "m = 19\n",
    "x, y = symbols(\"x, y\")\n",
    "\n",
    "# build polynomials\n",
    "res1, timings1 = build_expr(m, x, y, n=1000)\n",
    "res2, timings2 = buil_poly_dmp(m, x, y)\n",
    "res3, timings3 = buil_poly_sparse(m, x, y)\n",
    "res4, timings4 = buil_ring_sparse(m, x, y, n=100)\n",
    "\n",
    "# verify that they produces the same result. Since the comparison\n",
    "# cost time, just test one short intermediate result.\n",
    "idx = 10 if m >= 20 else int(m / 2)\n",
    "a = res1[idx].expand() == res2[idx].expr\n",
    "b = res2[idx].expr == res3[idx].expr\n",
    "c = res3[idx].expr == res4[idx].as_expr()\n",
    "assert a and b and c\n",
    "print(\"Everything is good, let's proceed!\")"
   ]
  },
  {
   "cell_type": "code",
   "execution_count": null,
   "metadata": {},
   "outputs": [],
   "source": [
    "import matplotlib.pyplot as plt\n",
    "from sympy.polys.monomials import monomial_count\n",
    "num_indeterminates = 2\n",
    "\n",
    "sparsities = []\n",
    "total_degrees = []\n",
    "max_coefficients = []\n",
    "for poly in res2:\n",
    "    total_degree = poly.total_degree()\n",
    "    total_degrees.append(total_degree)\n",
    "    max_coefficients.append(max(abs(c) for c in poly.coeffs()))\n",
    "    num_monomials = monomial_count(num_indeterminates, total_degree)\n",
    "    sparsity = (len(poly.coeffs()) / num_monomials * 100).evalf()\n",
    "    sparsities.append(sparsity)\n",
    "    \n",
    "xvals = list(timings1.keys())\n",
    "fig, ax = plt.subplots(3, 1, sharex=True)\n",
    "ax[0].plot(xvals, sparsities)\n",
    "ax[0].set_xticks(xvals, xvals)\n",
    "ax[0].set_ylabel(\"Sparsity [%]\")\n",
    "ax[1].plot(xvals, total_degrees)\n",
    "ax[1].set_xticks(xvals, xvals)\n",
    "ax[1].set_ylabel(\"Total Degree\")\n",
    "ax[2].plot(xvals, max_coefficients)\n",
    "ax[2].set_xticks(xvals, xvals)\n",
    "ax[2].set_xlabel(\"Iteration, m\")\n",
    "ax[2].set_ylabel(\"Max Coefficient\")\n",
    "ax[2].set_yscale(\"log\")\n",
    "plt.show()"
   ]
  },
  {
   "cell_type": "code",
   "execution_count": null,
   "metadata": {},
   "outputs": [],
   "source": [
    "import matplotlib.pyplot as plt\n",
    "\n",
    "fig, ax = plt.subplots(1, 2)\n",
    "ax[0].plot(timings1.keys(), timings1.values(), label=\"Expression\")\n",
    "ax[0].plot(timings2.keys(), timings2.values(), label=\"Poly - DMP\")\n",
    "ax[0].plot(timings3.keys(), timings3.values(), label=\"Poly - Sparse\")\n",
    "ax[0].plot(timings4.keys(), timings4.values(), label=\"Ring Poly\")\n",
    "ax[0].set_xlabel(\"Iteration, m\")\n",
    "ax[0].set_ylabel(\"Time [s]\")\n",
    "ax[0].legend()\n",
    "ax[1].plot(timings1.keys(), timings1.values(), label=\"Expression\")\n",
    "ax[1].plot(timings2.keys(), timings2.values(), label=\"Poly - DMP\")\n",
    "ax[1].plot(timings3.keys(), timings3.values(), label=\"Poly - Sparse\")\n",
    "ax[1].plot(timings4.keys(), timings4.values(), label=\"Ring Poly\")\n",
    "ax[1].set_xlabel(\"Iteration, m\")\n",
    "ax[1].set_ylabel(\"Time [s]\")\n",
    "ax[1].set_yscale(\"log\")\n",
    "fig.tight_layout()\n",
    "plt.show()"
   ]
  },
  {
   "attachments": {
    "image.png": {
     "image/png": "[encoded data removed]"
    }
   },
   "cell_type": "markdown",
   "metadata": {},
   "source": [
    "On the author's machine:\n",
    "\n",
    "![image.png](attachment:image.png)"
   ]
  },
  {
   "cell_type": "code",
   "execution_count": null,
   "metadata": {},
   "outputs": [],
   "source": [
    "from sympy.printing.pycode import SymPyPrinter\n",
    "\n",
    "p = SymPyPrinter()\n",
    "p._default_settings[\"sympy_integers\"] = True\n",
    "\n",
    "idx = -1\n",
    "t1 = timeit.default_timer()\n",
    "f1 = lambdify([x, y], res1[idx], {\"S\": S}, printer=p)\n",
    "t2 = timeit.default_timer()\n",
    "print(\"time to lambdify expr:\", t2 - t1)\n",
    "\n",
    "f2 = lambdify([x, y], res1[idx], {\"S\": S}, printer=p, cse=True)\n",
    "t3 = timeit.default_timer()\n",
    "print(\"time to lambdify expr with cse:\", t3 - t2)\n",
    "\n",
    "expanded = res1[idx].expand()\n",
    "t4 = timeit.default_timer()\n",
    "print(\"time to expand expr:\", t4 - t3)\n",
    "\n",
    "f3 = lambdify([x, y], expanded, {\"S\": S}, printer=p)\n",
    "t5 = timeit.default_timer()\n",
    "print(\"time to lambdify expanded expr:\", t5 - t4)\n",
    "\n",
    "f4 = lambdify([x, y], expanded, {\"S\": S}, printer=p, cse=True)\n",
    "t6 = timeit.default_timer()\n",
    "print(\"time to lambdify expanded expr with cse:\", t6 - t5)"
   ]
  },
  {
   "cell_type": "code",
   "execution_count": null,
   "metadata": {},
   "outputs": [],
   "source": [
    "a, b, c, d = f1(6, 7), f2(6, 7), f3(6, 7), f4(6, 7)\n",
    "assert all(isinstance(t, Integer) for t in [a, b, c, d])\n",
    "print(\"Everything is fine, proceed!\")"
   ]
  },
  {
   "cell_type": "code",
   "execution_count": null,
   "metadata": {},
   "outputs": [],
   "source": [
    "x_val = Integer(6)\n",
    "y_val = Integer(7)\n",
    "integer_eval = {}\n",
    "\n",
    "print(\"evaluating f1\")\n",
    "r, n = 7, 10\n",
    "integer_eval[\"f1\"] = min(timeit.Timer(partial(f1, x_val, y_val)).repeat(repeat=r, number=n)) / n\n",
    "\n",
    "print(\"evaluating f2, f3, f4\")\n",
    "n = 100\n",
    "integer_eval[\"f2\"] = min(timeit.Timer(partial(f2, x_val, y_val)).repeat(repeat=r, number=n)) / n\n",
    "integer_eval[\"f3\"] = min(timeit.Timer(partial(f3, x_val, y_val)).repeat(repeat=r, number=n)) / n\n",
    "integer_eval[\"f4\"] = min(timeit.Timer(partial(f4, x_val, y_val)).repeat(repeat=r, number=n)) / n\n",
    "\n",
    "print(\"evaluating poly-dmp\")\n",
    "f = lambda x_val, y_val: res2[-1].eval({x: x_val, y: y_val})\n",
    "integer_eval[\"poly-dmp\"] = min(timeit.Timer(partial(f, x_val, y_val)).repeat(repeat=r, number=n)) / n\n",
    "\n",
    "print(\"evaluating poly-sparse\")\n",
    "n = 10\n",
    "def f(poly, x_val, y_val):\n",
    "    expr = poly.eval(0)\n",
    "    expr.subs({x: x_val, y: y_val})\n",
    "integer_eval[\"poly-sparse\"] = min(timeit.Timer(partial(f, res3[-1], x_val, y_val)).repeat(repeat=r, number=n)) / n\n",
    "\n",
    "print(\"evaluating ring-sparse\")\n",
    "n = 1000\n",
    "from gmpy2 import mpz\n",
    "K = QQ[x, y]\n",
    "xr = K(x)\n",
    "yr = K(y)\n",
    "f = lambda x_val, y_val: res4[-1].evaluate([(xr, mpz(6)), (yr, mpz(7))])\n",
    "integer_eval[\"ring-sparse\"] = min(timeit.Timer(partial(f, x_val, y_val)).repeat(repeat=r, number=n)) / n\n",
    "\n",
    "integer_eval"
   ]
  },
  {
   "cell_type": "code",
   "execution_count": null,
   "metadata": {},
   "outputs": [],
   "source": [
    "x_val = Rational(6, 7)\n",
    "y_val = Rational(7, 5)\n",
    "rational_eval = {}\n",
    "\n",
    "print(\"evaluating f1\")\n",
    "r, n = 7, 10\n",
    "rational_eval[\"f1\"] = min(timeit.Timer(partial(f1, x_val, y_val)).repeat(repeat=r, number=n)) / n\n",
    "\n",
    "print(\"evaluating f2\")\n",
    "n = 1000\n",
    "rational_eval[\"f2\"] = min(timeit.Timer(partial(f2, x_val, y_val)).repeat(repeat=r, number=n)) / n\n",
    "\n",
    "print(\"evaluating f3, f4\")\n",
    "n = 100\n",
    "rational_eval[\"f3\"] = min(timeit.Timer(partial(f3, x_val, y_val)).repeat(repeat=r, number=n)) / n\n",
    "rational_eval[\"f4\"] = min(timeit.Timer(partial(f4, x_val, y_val)).repeat(repeat=r, number=n)) / n\n",
    "\n",
    "print(\"evaluating poly-dmp\")\n",
    "f = lambda x_val, y_val: res2[-1].eval({x: x_val, y: y_val})\n",
    "rational_eval[\"poly-dmp\"] = min(timeit.Timer(partial(f, x_val, y_val)).repeat(repeat=r, number=n)) / n\n",
    "\n",
    "print(\"evaluating poly-sparse\")\n",
    "n = 10\n",
    "def f(poly, x_val, y_val):\n",
    "    expr = poly.eval(0)\n",
    "    expr.subs({x: x_val, y: y_val})\n",
    "rational_eval[\"poly-sparse\"] = min(timeit.Timer(partial(f, res3[-1], x_val, y_val)).repeat(repeat=r, number=n)) / n\n",
    "\n",
    "print(\"evaluating ring-sparse\")\n",
    "n = 1000\n",
    "from gmpy2 import mpq\n",
    "K = QQ[x, y]\n",
    "xr = K(x)\n",
    "yr = K(y)\n",
    "f = lambda x_val, y_val: res4[-1].evaluate([(xr, mpq(6, 7)), (yr, mpq(7, 5))])\n",
    "rational_eval[\"ring-sparse\"] = min(timeit.Timer(partial(f, x_val, y_val)).repeat(repeat=r, number=n)) / n\n",
    "\n",
    "rational_eval"
   ]
  },
  {
   "cell_type": "code",
   "execution_count": null,
   "metadata": {},
   "outputs": [],
   "source": [
    "import numpy as np\n",
    "height = 0.30\n",
    "y = np.arange(len(integer_eval)) + 1\n",
    "\n",
    "fig, ax = plt.subplots()\n",
    "rects1 = ax.barh(y - height / 2, list(integer_eval.values()), height, label='integer')\n",
    "rects2 = ax.barh(y + height / 2, list(rational_eval.values()), height, label='rational')\n",
    "ax.bar_label(rects1, padding=10, fmt='%.2E')\n",
    "ax.bar_label(rects2, padding=10, fmt='%.2E')\n",
    "ax.set_xscale(\"log\")\n",
    "ax.set_xlabel(\"Time [s]\")\n",
    "ax.set_yticks(y)\n",
    "ax.set_yticklabels(integer_eval.keys())\n",
    "ax.invert_yaxis()\n",
    "ax.set_xlim(None, 10)\n",
    "ax.legend()\n",
    "plt.show()"
   ]
  },
  {
   "cell_type": "markdown",
   "metadata": {},
   "source": [
    "On the author's machine:\n",
    "\n",
    "```py\n",
    "integer_eval = {\n",
    "    'f1': 1.0278656852002315,\n",
    "    'f2': 0.00042393599600109157,\n",
    "    'f3': 0.01426915947100133,\n",
    "    'f4': 0.00783072205999997,\n",
    "    'poly-dmp': 0.0019291659419977804,\n",
    "    'poly-sparse': 0.3907891441001993,\n",
    "    'ring-sparse': 0.0009084658569991006\n",
    "}\n",
    "rational_eval = {\n",
    "    'f1': 1.1952454024998587,\n",
    "    'f2': 0.0005795310959983908,\n",
    "    'f3': 0.04565403132000938,\n",
    "    'f4': 0.0382136493500002,\n",
    "    'poly-dmp': 0.001983882140011701,\n",
    "    'poly-sparse': 0.3171098947001155,\n",
    "    'ring-sparse': 0.0017916796630015597\n",
    "}\n",
    "```\n",
    "\n",
    "![image.png](attachment:image.png)"
   ]
  },
  {
   "cell_type": "code",
   "execution_count": null,
   "metadata": {},
   "outputs": [],
   "source": [
    "m = 25\n",
    "x, y = symbols(\"x, y\")\n",
    "\n",
    "# build polynomials\n",
    "res5, timings1 = build_expr(m, x, y, time=False)\n",
    "res6, timings4 = buil_ring_sparse(m, x, y, time=False)\n",
    "\n",
    "# verify that they produces the same result. Since the comparison\n",
    "# cost time, just test one short intermediate result.\n",
    "idx = 10 if m >= 20 else int(m / 2)\n",
    "assert res5[idx].expand() == res6[idx].as_expr()\n",
    "print(\"Everything is good, let's proceed!\")"
   ]
  },
  {
   "cell_type": "code",
   "execution_count": null,
   "metadata": {},
   "outputs": [],
   "source": [
    "from sympy.printing.pycode import SymPyPrinter\n",
    "\n",
    "p = SymPyPrinter()\n",
    "p._default_settings[\"sympy_integers\"] = True\n",
    "\n",
    "start = timeit.default_timer()\n",
    "f5 = lambdify([x, y], res5[-1], {\"S\": S}, printer=p, cse=True)\n",
    "end = timeit.default_timer()\n",
    "print(\"time to lambdify expr with cse:\", end - start)\n",
    "assert isinstance(f5(6, 7), Integer)\n",
    "print(\"Everything is good, let's proceed!\")"
   ]
  },
  {
   "cell_type": "code",
   "execution_count": null,
   "metadata": {},
   "outputs": [],
   "source": [
    "x_val = Integer(6)\n",
    "y_val = Integer(7)\n",
    "integer_eval = {}\n",
    "r = 3\n",
    "\n",
    "print(\"evaluating f5\")\n",
    "n = 100\n",
    "integer_eval[\"f5\"] = min(timeit.Timer(partial(f5, x_val, y_val)).repeat(repeat=r, number=n)) / n\n",
    "\n",
    "print(\"evaluating ring-sparse\")\n",
    "n = 1000\n",
    "from gmpy2 import mpz\n",
    "K = QQ[x, y]\n",
    "xr = K(x)\n",
    "yr = K(y)\n",
    "f = lambda x_val, y_val: res6[-1].evaluate([(xr, mpz(6)), (yr, mpz(7))])\n",
    "integer_eval[\"ring-sparse\"] = min(timeit.Timer(partial(f, x_val, y_val)).repeat(repeat=r, number=n)) / n\n",
    "\n",
    "integer_eval"
   ]
  },
  {
   "cell_type": "code",
   "execution_count": null,
   "metadata": {},
   "outputs": [],
   "source": []
  }
 ],
 "metadata": {
  "kernelspec": {
   "display_name": "Python 3 (ipykernel)",
   "language": "python",
   "name": "python3"
  },
  "language_info": {
   "codemirror_mode": {
    "name": "ipython",
    "version": 3
   },
   "file_extension": ".py",
   "mimetype": "text/x-python",
   "name": "python",
   "nbconvert_exporter": "python",
   "pygments_lexer": "ipython3",
   "version": "3.10.6"
  },
  "toc": {
   "base_numbering": 1,
   "nav_menu": {},
   "number_sections": true,
   "sideBar": true,
   "skip_h1_title": false,
   "title_cell": "Table of Contents",
   "title_sidebar": "Contents",
   "toc_cell": false,
   "toc_position": {},
   "toc_section_display": true,
   "toc_window_display": false
  }
 },
 "nbformat": 4,
 "nbformat_minor": 2
}
